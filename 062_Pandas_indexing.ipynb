{
 "cells": [
  {
   "cell_type": "code",
   "execution_count": null,
   "id": "7d2c7bbd",
   "metadata": {},
   "outputs": [],
   "source": []
  },
  {
   "cell_type": "markdown",
   "id": "2d42ac44",
   "metadata": {},
   "source": [
    "# implicit and explicit indexing"
   ]
  },
  {
   "cell_type": "code",
   "execution_count": 1,
   "id": "244cf9c8",
   "metadata": {},
   "outputs": [],
   "source": [
    "import numpy as np\n",
    "import pandas as pd"
   ]
  },
  {
   "cell_type": "code",
   "execution_count": 3,
   "id": "8ffeed44",
   "metadata": {},
   "outputs": [],
   "source": [
    "s = pd.Series(['a','b','c'])"
   ]
  },
  {
   "cell_type": "code",
   "execution_count": 4,
   "id": "e7c65bbb",
   "metadata": {},
   "outputs": [
    {
     "data": {
      "text/plain": [
       "0    a\n",
       "1    b\n",
       "2    c\n",
       "dtype: object"
      ]
     },
     "execution_count": 4,
     "metadata": {},
     "output_type": "execute_result"
    }
   ],
   "source": [
    "s"
   ]
  },
  {
   "cell_type": "code",
   "execution_count": 5,
   "id": "7b4b1f61",
   "metadata": {},
   "outputs": [
    {
     "data": {
      "text/plain": [
       "dtype('O')"
      ]
     },
     "execution_count": 5,
     "metadata": {},
     "output_type": "execute_result"
    }
   ],
   "source": [
    "s.dtype"
   ]
  },
  {
   "cell_type": "code",
   "execution_count": 6,
   "id": "8c9d9b3c",
   "metadata": {},
   "outputs": [
    {
     "data": {
      "text/plain": [
       "pandas.core.series.Series"
      ]
     },
     "execution_count": 6,
     "metadata": {},
     "output_type": "execute_result"
    }
   ],
   "source": [
    "type(s)"
   ]
  },
  {
   "cell_type": "code",
   "execution_count": 7,
   "id": "0003dab6",
   "metadata": {},
   "outputs": [],
   "source": [
    "s = pd.Series(['a','b','c'],[2,5,5])"
   ]
  },
  {
   "cell_type": "code",
   "execution_count": 8,
   "id": "e39a3245",
   "metadata": {},
   "outputs": [
    {
     "data": {
      "text/plain": [
       "2    a\n",
       "5    b\n",
       "5    c\n",
       "dtype: object"
      ]
     },
     "execution_count": 8,
     "metadata": {},
     "output_type": "execute_result"
    }
   ],
   "source": [
    "s"
   ]
  },
  {
   "cell_type": "code",
   "execution_count": 11,
   "id": "6b9425a1",
   "metadata": {},
   "outputs": [],
   "source": [
    "# reading the data using custom indexing\n",
    "# duplicate index values are allowed"
   ]
  },
  {
   "cell_type": "code",
   "execution_count": 9,
   "id": "52044d82",
   "metadata": {},
   "outputs": [
    {
     "data": {
      "text/plain": [
       "'a'"
      ]
     },
     "execution_count": 9,
     "metadata": {},
     "output_type": "execute_result"
    }
   ],
   "source": [
    "s[2]"
   ]
  },
  {
   "cell_type": "code",
   "execution_count": 10,
   "id": "e5fac04f",
   "metadata": {},
   "outputs": [
    {
     "data": {
      "text/plain": [
       "5    b\n",
       "5    c\n",
       "dtype: object"
      ]
     },
     "execution_count": 10,
     "metadata": {},
     "output_type": "execute_result"
    }
   ],
   "source": [
    "s[5]"
   ]
  },
  {
   "cell_type": "code",
   "execution_count": 15,
   "id": "a5e9d39a",
   "metadata": {},
   "outputs": [
    {
     "data": {
      "text/plain": [
       "0    a\n",
       "1    b\n",
       "2    c\n",
       "3    d\n",
       "4    e\n",
       "5    f\n",
       "6    g\n",
       "7    h\n",
       "8    i\n",
       "9    j\n",
       "dtype: object"
      ]
     },
     "execution_count": 15,
     "metadata": {},
     "output_type": "execute_result"
    }
   ],
   "source": [
    "pd.Series(['a', 'b', 'c', 'd', 'e', 'f', 'g', 'h', 'i', 'j']) #imlicit"
   ]
  },
  {
   "cell_type": "code",
   "execution_count": 17,
   "id": "66764541",
   "metadata": {},
   "outputs": [],
   "source": [
    "v= pd.Series(['a', 'b', 'c', 'd', 'e', 'f', 'g', 'h', 'i', 'j'],[1,1,2,2,3,3,4,4,5,5])"
   ]
  },
  {
   "cell_type": "code",
   "execution_count": 18,
   "id": "7ce047bb",
   "metadata": {},
   "outputs": [
    {
     "data": {
      "text/plain": [
       "1    a\n",
       "1    b\n",
       "2    c\n",
       "2    d\n",
       "3    e\n",
       "3    f\n",
       "4    g\n",
       "4    h\n",
       "5    i\n",
       "5    j\n",
       "dtype: object"
      ]
     },
     "execution_count": 18,
     "metadata": {},
     "output_type": "execute_result"
    }
   ],
   "source": [
    "v"
   ]
  },
  {
   "cell_type": "code",
   "execution_count": 19,
   "id": "136adac6",
   "metadata": {},
   "outputs": [],
   "source": [
    "# accessing the data \n"
   ]
  },
  {
   "cell_type": "code",
   "execution_count": 20,
   "id": "98de1527",
   "metadata": {},
   "outputs": [
    {
     "data": {
      "text/plain": [
       "1    a\n",
       "1    b\n",
       "dtype: object"
      ]
     },
     "execution_count": 20,
     "metadata": {},
     "output_type": "execute_result"
    }
   ],
   "source": [
    "\n",
    "v[1]"
   ]
  },
  {
   "cell_type": "code",
   "execution_count": 21,
   "id": "756f753a",
   "metadata": {},
   "outputs": [
    {
     "data": {
      "text/plain": [
       "3    e\n",
       "3    f\n",
       "dtype: object"
      ]
     },
     "execution_count": 21,
     "metadata": {},
     "output_type": "execute_result"
    }
   ],
   "source": [
    "v[3]"
   ]
  },
  {
   "cell_type": "code",
   "execution_count": 23,
   "id": "a56445b0",
   "metadata": {},
   "outputs": [],
   "source": [
    "# v[0] # this will give a Keyerror"
   ]
  },
  {
   "cell_type": "code",
   "execution_count": 24,
   "id": "f9539790",
   "metadata": {},
   "outputs": [
    {
     "name": "stderr",
     "output_type": "stream",
     "text": [
      "C:\\Users\\RAHUL\\AppData\\Local\\Temp\\ipykernel_12056\\3756318127.py:1: FutureWarning: The behavior of `series[i:j]` with an integer-dtype index is deprecated. In a future version, this will be treated as *label-based* indexing, consistent with e.g. `series[i]` lookups. To retain the old behavior, use `series.iloc[i:j]`. To get the future behavior, use `series.loc[i:j]`.\n",
      "  v[1:3] #getting data from index posn 1 to 3\n"
     ]
    },
    {
     "data": {
      "text/plain": [
       "1    b\n",
       "2    c\n",
       "dtype: object"
      ]
     },
     "execution_count": 24,
     "metadata": {},
     "output_type": "execute_result"
    }
   ],
   "source": [
    "v[1:3] #getting data from index posn 1 to 3 "
   ]
  },
  {
   "cell_type": "code",
   "execution_count": 25,
   "id": "1a381452",
   "metadata": {},
   "outputs": [
    {
     "data": {
      "text/plain": [
       "1    a\n",
       "1    b\n",
       "2    c\n",
       "2    d\n",
       "3    e\n",
       "3    f\n",
       "4    g\n",
       "4    h\n",
       "5    i\n",
       "5    j\n",
       "dtype: object"
      ]
     },
     "execution_count": 25,
     "metadata": {},
     "output_type": "execute_result"
    }
   ],
   "source": [
    "v"
   ]
  },
  {
   "cell_type": "code",
   "execution_count": 26,
   "id": "9f80a873",
   "metadata": {},
   "outputs": [],
   "source": [
    "# for slicing it will use IMPLICIT indexing\n",
    "#  for single value it will use EXPLICIT indexing "
   ]
  },
  {
   "cell_type": "code",
   "execution_count": 27,
   "id": "15932459",
   "metadata": {},
   "outputs": [
    {
     "name": "stderr",
     "output_type": "stream",
     "text": [
      "C:\\Users\\RAHUL\\AppData\\Local\\Temp\\ipykernel_12056\\209039753.py:1: FutureWarning: The behavior of `series[i:j]` with an integer-dtype index is deprecated. In a future version, this will be treated as *label-based* indexing, consistent with e.g. `series[i]` lookups. To retain the old behavior, use `series.iloc[i:j]`. To get the future behavior, use `series.loc[i:j]`.\n",
      "  v[4:6]\n"
     ]
    },
    {
     "data": {
      "text/plain": [
       "3    e\n",
       "3    f\n",
       "dtype: object"
      ]
     },
     "execution_count": 27,
     "metadata": {},
     "output_type": "execute_result"
    }
   ],
   "source": [
    "v[4:6]"
   ]
  },
  {
   "cell_type": "code",
   "execution_count": 33,
   "id": "fe6e9fbd",
   "metadata": {},
   "outputs": [],
   "source": [
    "# loc : will fetch the values undex EXPLICIT Indexing\n",
    "# iloc : will fetch the values undex IMPLICIT Indexing"
   ]
  },
  {
   "cell_type": "code",
   "execution_count": 30,
   "id": "a69ae7dd",
   "metadata": {},
   "outputs": [
    {
     "data": {
      "text/plain": [
       "3    e\n",
       "3    f\n",
       "dtype: object"
      ]
     },
     "execution_count": 30,
     "metadata": {},
     "output_type": "execute_result"
    }
   ],
   "source": [
    "v.loc[3]"
   ]
  },
  {
   "cell_type": "code",
   "execution_count": 31,
   "id": "ddd7ccf4",
   "metadata": {},
   "outputs": [
    {
     "data": {
      "text/plain": [
       "'d'"
      ]
     },
     "execution_count": 31,
     "metadata": {},
     "output_type": "execute_result"
    }
   ],
   "source": [
    "v.iloc[3]"
   ]
  },
  {
   "cell_type": "code",
   "execution_count": 32,
   "id": "637e79de",
   "metadata": {},
   "outputs": [
    {
     "data": {
      "text/plain": [
       "1    a\n",
       "1    b\n",
       "2    c\n",
       "2    d\n",
       "3    e\n",
       "3    f\n",
       "4    g\n",
       "4    h\n",
       "5    i\n",
       "5    j\n",
       "dtype: object"
      ]
     },
     "execution_count": 32,
     "metadata": {},
     "output_type": "execute_result"
    }
   ],
   "source": [
    "v"
   ]
  },
  {
   "cell_type": "code",
   "execution_count": 34,
   "id": "547654ab",
   "metadata": {},
   "outputs": [
    {
     "data": {
      "text/plain": [
       "1    a\n",
       "1    b\n",
       "2    c\n",
       "dtype: object"
      ]
     },
     "execution_count": 34,
     "metadata": {},
     "output_type": "execute_result"
    }
   ],
   "source": [
    "v.iloc[0:3]"
   ]
  },
  {
   "cell_type": "code",
   "execution_count": 35,
   "id": "f87601e2",
   "metadata": {},
   "outputs": [
    {
     "data": {
      "text/plain": [
       "5    j\n",
       "5    i\n",
       "4    h\n",
       "4    g\n",
       "3    f\n",
       "3    e\n",
       "2    d\n",
       "2    c\n",
       "1    b\n",
       "1    a\n",
       "dtype: object"
      ]
     },
     "execution_count": 35,
     "metadata": {},
     "output_type": "execute_result"
    }
   ],
   "source": [
    "v.iloc[::-1]"
   ]
  },
  {
   "cell_type": "code",
   "execution_count": 36,
   "id": "e9e7431e",
   "metadata": {},
   "outputs": [
    {
     "data": {
      "text/plain": [
       "5    j\n",
       "5    i\n",
       "4    h\n",
       "4    g\n",
       "3    f\n",
       "3    e\n",
       "2    d\n",
       "2    c\n",
       "1    b\n",
       "1    a\n",
       "dtype: object"
      ]
     },
     "execution_count": 36,
     "metadata": {},
     "output_type": "execute_result"
    }
   ],
   "source": [
    "v.loc[::-1]"
   ]
  },
  {
   "cell_type": "code",
   "execution_count": null,
   "id": "6a966660",
   "metadata": {},
   "outputs": [],
   "source": []
  }
 ],
 "metadata": {
  "kernelspec": {
   "display_name": "Python 3 (ipykernel)",
   "language": "python",
   "name": "python3"
  },
  "language_info": {
   "codemirror_mode": {
    "name": "ipython",
    "version": 3
   },
   "file_extension": ".py",
   "mimetype": "text/x-python",
   "name": "python",
   "nbconvert_exporter": "python",
   "pygments_lexer": "ipython3",
   "version": "3.10.5"
  }
 },
 "nbformat": 4,
 "nbformat_minor": 5
}
