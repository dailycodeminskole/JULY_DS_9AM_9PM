{
 "cells": [
  {
   "cell_type": "code",
   "execution_count": 1,
   "id": "72152c0e",
   "metadata": {},
   "outputs": [
    {
     "name": "stdout",
     "output_type": "stream",
     "text": [
      "60\n"
     ]
    }
   ],
   "source": [
    "def sum1(a,b,c):\n",
    "    print(a+b+c)\n",
    "sum1(10,20,30)"
   ]
  },
  {
   "cell_type": "code",
   "execution_count": 3,
   "id": "36b3431d",
   "metadata": {},
   "outputs": [
    {
     "name": "stdout",
     "output_type": "stream",
     "text": [
      "6000\n"
     ]
    }
   ],
   "source": [
    "def mul1(a,b,c):\n",
    "    print(a*b*c)\n",
    "mul1(10,20,30)"
   ]
  },
  {
   "cell_type": "code",
   "execution_count": 8,
   "id": "f9376de2",
   "metadata": {},
   "outputs": [
    {
     "name": "stdout",
     "output_type": "stream",
     "text": [
      "The Name of student is Amit and roll no is 100 \n"
     ]
    }
   ],
   "source": [
    "class Student():\n",
    "    def __init__(self,name,roll):\n",
    "        self.name = name\n",
    "        self.roll = roll\n",
    "        \n",
    "    def __str__(self):\n",
    "        return f\"The Name of student is {self.name} and roll no is {self.roll} \"\n",
    "    \n",
    "s1  = Student(\"Amit\",100)\n",
    "print(s1)"
   ]
  },
  {
   "cell_type": "code",
   "execution_count": 10,
   "id": "a4b525e9",
   "metadata": {},
   "outputs": [
    {
     "name": "stdout",
     "output_type": "stream",
     "text": [
      "The Name of student is Akash and roll no is 101 \n"
     ]
    }
   ],
   "source": [
    "s2 = Student(\"Akash\",101)\n",
    "print(s2)"
   ]
  },
  {
   "cell_type": "code",
   "execution_count": 12,
   "id": "4d1c9aba",
   "metadata": {},
   "outputs": [
    {
     "name": "stdout",
     "output_type": "stream",
     "text": [
      "The Name of student is Akhil and roll no is 101 \n"
     ]
    }
   ],
   "source": [
    "s3 = Student(\"Akhil\",101)\n",
    "print(s3)"
   ]
  },
  {
   "cell_type": "code",
   "execution_count": 15,
   "id": "6273d15e",
   "metadata": {},
   "outputs": [
    {
     "name": "stdout",
     "output_type": "stream",
     "text": [
      "The Name of student is Amit and roll no is 1 \n"
     ]
    }
   ],
   "source": [
    "class Student():\n",
    "    counter = 0\n",
    "    def __init__(self,name):\n",
    "        self.name = name\n",
    "        Student.counter = Student.counter+1\n",
    "        self.roll = Student.counter\n",
    "        \n",
    "    def __str__(self):\n",
    "        return f\"The Name of student is {self.name} and roll no is {self.roll} \"\n",
    "    \n",
    "s1  = Student(\"Amit\")\n",
    "print(s1)"
   ]
  },
  {
   "cell_type": "code",
   "execution_count": 24,
   "id": "bf19c74f",
   "metadata": {},
   "outputs": [
    {
     "name": "stdout",
     "output_type": "stream",
     "text": [
      "The Name of student is Akhil and roll no is 8 \n",
      "8\n"
     ]
    }
   ],
   "source": [
    "s2  = Student(\"Akhil\")\n",
    "print(s2)\n",
    "print(s2.counter)"
   ]
  },
  {
   "cell_type": "code",
   "execution_count": 20,
   "id": "24a144e2",
   "metadata": {},
   "outputs": [
    {
     "name": "stdout",
     "output_type": "stream",
     "text": [
      "The Name of student is Akhil and roll no is 6 \n"
     ]
    }
   ],
   "source": [
    "s3  = Student(\"Akhil\")\n",
    "print(s3)"
   ]
  },
  {
   "cell_type": "code",
   "execution_count": 21,
   "id": "c0398b9c",
   "metadata": {},
   "outputs": [],
   "source": [
    "s3.counter = 500"
   ]
  },
  {
   "cell_type": "code",
   "execution_count": 22,
   "id": "3a48f990",
   "metadata": {},
   "outputs": [
    {
     "name": "stdout",
     "output_type": "stream",
     "text": [
      "500\n"
     ]
    }
   ],
   "source": [
    "print(s3.counter)"
   ]
  },
  {
   "cell_type": "code",
   "execution_count": 23,
   "id": "25033af9",
   "metadata": {},
   "outputs": [
    {
     "name": "stdout",
     "output_type": "stream",
     "text": [
      "The Name of student is Akhil and roll no is 7 \n"
     ]
    }
   ],
   "source": [
    "s5  = Student(\"Akhil\")\n",
    "print(s5)"
   ]
  },
  {
   "cell_type": "code",
   "execution_count": null,
   "id": "92a73a49",
   "metadata": {},
   "outputs": [],
   "source": []
  }
 ],
 "metadata": {
  "kernelspec": {
   "display_name": "Python 3 (ipykernel)",
   "language": "python",
   "name": "python3"
  },
  "language_info": {
   "codemirror_mode": {
    "name": "ipython",
    "version": 3
   },
   "file_extension": ".py",
   "mimetype": "text/x-python",
   "name": "python",
   "nbconvert_exporter": "python",
   "pygments_lexer": "ipython3",
   "version": "3.10.5"
  }
 },
 "nbformat": 4,
 "nbformat_minor": 5
}
