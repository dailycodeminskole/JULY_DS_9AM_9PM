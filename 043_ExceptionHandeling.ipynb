{
 "cells": [
  {
   "cell_type": "code",
   "execution_count": 8,
   "id": "7628d9f3",
   "metadata": {},
   "outputs": [
    {
     "name": "stdout",
     "output_type": "stream",
     "text": [
      "0.5\n"
     ]
    },
    {
     "ename": "ZeroDivisionError",
     "evalue": "division by zero",
     "output_type": "error",
     "traceback": [
      "\u001b[1;31m---------------------------------------------------------------------------\u001b[0m",
      "\u001b[1;31mZeroDivisionError\u001b[0m                         Traceback (most recent call last)",
      "Input \u001b[1;32mIn [8]\u001b[0m, in \u001b[0;36m<cell line: 6>\u001b[1;34m()\u001b[0m\n\u001b[0;32m      3\u001b[0m c \u001b[38;5;241m=\u001b[39m \u001b[38;5;241m0\u001b[39m\n\u001b[0;32m      5\u001b[0m \u001b[38;5;28mprint\u001b[39m(a\u001b[38;5;241m/\u001b[39mb)\n\u001b[1;32m----> 6\u001b[0m \u001b[38;5;28mprint\u001b[39m(\u001b[43ma\u001b[49m\u001b[38;5;241;43m/\u001b[39;49m\u001b[43mc\u001b[49m)\n",
      "\u001b[1;31mZeroDivisionError\u001b[0m: division by zero"
     ]
    }
   ],
   "source": [
    "a = 100\n",
    "b = 200\n",
    "c = 0\n",
    "\n",
    "print(a/b)\n",
    "print(a/c)"
   ]
  },
  {
   "cell_type": "code",
   "execution_count": 9,
   "id": "52fd159a",
   "metadata": {},
   "outputs": [],
   "source": [
    "# Error eg:SyntaxError\n",
    "# Exception eg:ZeroDivisionError"
   ]
  },
  {
   "cell_type": "code",
   "execution_count": 10,
   "id": "2f20c35b",
   "metadata": {},
   "outputs": [
    {
     "name": "stdout",
     "output_type": "stream",
     "text": [
      "0.5\n"
     ]
    },
    {
     "ename": "ZeroDivisionError",
     "evalue": "division by zero",
     "output_type": "error",
     "traceback": [
      "\u001b[1;31m---------------------------------------------------------------------------\u001b[0m",
      "\u001b[1;31mZeroDivisionError\u001b[0m                         Traceback (most recent call last)",
      "Input \u001b[1;32mIn [10]\u001b[0m, in \u001b[0;36m<cell line: 6>\u001b[1;34m()\u001b[0m\n\u001b[0;32m      3\u001b[0m c \u001b[38;5;241m=\u001b[39m \u001b[38;5;241m0\u001b[39m\n\u001b[0;32m      5\u001b[0m \u001b[38;5;28mprint\u001b[39m(a\u001b[38;5;241m/\u001b[39mb)\n\u001b[1;32m----> 6\u001b[0m \u001b[38;5;28mprint\u001b[39m(\u001b[43ma\u001b[49m\u001b[38;5;241;43m/\u001b[39;49m\u001b[43mc\u001b[49m)\n\u001b[0;32m      7\u001b[0m \u001b[38;5;28mprint\u001b[39m(\u001b[38;5;124m\"\u001b[39m\u001b[38;5;124mthis line is very imp, should always be printed\u001b[39m\u001b[38;5;124m\"\u001b[39m)\n",
      "\u001b[1;31mZeroDivisionError\u001b[0m: division by zero"
     ]
    }
   ],
   "source": [
    "a = 100\n",
    "b = 200\n",
    "c = 0\n",
    "\n",
    "print(a/b)\n",
    "print(a/c)\n",
    "print(\"this line is very imp, should always be printed\")"
   ]
  },
  {
   "cell_type": "code",
   "execution_count": 23,
   "id": "5d8f6257",
   "metadata": {},
   "outputs": [
    {
     "ename": "IndentationError",
     "evalue": "expected an indented block after 'try' statement on line 1 (3646696237.py, line 5)",
     "output_type": "error",
     "traceback": [
      "\u001b[1;36m  Input \u001b[1;32mIn [23]\u001b[1;36m\u001b[0m\n\u001b[1;33m    except:\u001b[0m\n\u001b[1;37m    ^\u001b[0m\n\u001b[1;31mIndentationError\u001b[0m\u001b[1;31m:\u001b[0m expected an indented block after 'try' statement on line 1\n"
     ]
    }
   ],
   "source": [
    "try:\n",
    "#     the code where chances of exception is there\n",
    "#     code1\n",
    "#     code2\n",
    "except:\n",
    "#     msg if the exception occurs\n",
    "\n",
    "\n",
    "\n",
    "\n",
    "# implementing the Exception handeling\n",
    "a = 100\n",
    "b = 200\n",
    "c = int(input(\"Please Enter a number!!!\")) #type casting\n",
    "\n",
    "print(a/b)\n",
    "try:\n",
    "    print(c)\n",
    "    print(type(c))   \n",
    "    print(a/c)\n",
    "except:\n",
    "    print(\"There is some error\")\n",
    "    \n",
    "print(\"this line is very imp, should always be printed\")"
   ]
  },
  {
   "cell_type": "code",
   "execution_count": 20,
   "id": "5dc98530",
   "metadata": {},
   "outputs": [
    {
     "name": "stdout",
     "output_type": "stream",
     "text": [
      "0.5\n",
      "Please Enter a number!!!potato\n",
      "There is some error\n",
      "this line is very imp, should always be printed\n"
     ]
    }
   ],
   "source": [
    "# implementing the Exception handeling\n",
    "a = 100\n",
    "b = 200\n",
    "\n",
    "\n",
    "print(a/b)\n",
    "try:\n",
    "    c = int(input(\"Please Enter a number!!!\"))\n",
    "    print(c)\n",
    "    print(type(c))   \n",
    "    print(a/c)\n",
    "except:\n",
    "    print(\"There is some error\")\n",
    "    \n",
    "print(\"this line is very imp, should always be printed\")"
   ]
  },
  {
   "cell_type": "code",
   "execution_count": 24,
   "id": "d8ec48f3",
   "metadata": {},
   "outputs": [
    {
     "name": "stdout",
     "output_type": "stream",
     "text": [
      "0.5\n",
      "Please Enter a number!!!potato\n",
      "There is some error,check the entered number , should not be zero\n",
      "this line is very imp, should always be printed\n"
     ]
    }
   ],
   "source": [
    "# implementing the Exception handeling\n",
    "# sending proper msg to the user\n",
    "a = 100\n",
    "b = 200\n",
    "\n",
    "\n",
    "print(a/b)\n",
    "try:\n",
    "    c = int(input(\"Please Enter a number!!!\"))\n",
    "    print(c)\n",
    "    print(type(c))   \n",
    "    print(a/c)\n",
    "except:\n",
    "    print(\"There is some error,check the entered number , should not be zero\")\n",
    "    \n",
    "print(\"this line is very imp, should always be printed\")"
   ]
  },
  {
   "cell_type": "code",
   "execution_count": 27,
   "id": "dce29a98",
   "metadata": {},
   "outputs": [
    {
     "name": "stdout",
     "output_type": "stream",
     "text": [
      "SURESH\n",
      "S\n"
     ]
    },
    {
     "ename": "IndexError",
     "evalue": "string index out of range",
     "output_type": "error",
     "traceback": [
      "\u001b[1;31m---------------------------------------------------------------------------\u001b[0m",
      "\u001b[1;31mIndexError\u001b[0m                                Traceback (most recent call last)",
      "Input \u001b[1;32mIn [27]\u001b[0m, in \u001b[0;36m<cell line: 4>\u001b[1;34m()\u001b[0m\n\u001b[0;32m      2\u001b[0m \u001b[38;5;28mprint\u001b[39m(name)\n\u001b[0;32m      3\u001b[0m \u001b[38;5;28mprint\u001b[39m(name[\u001b[38;5;241m0\u001b[39m])\n\u001b[1;32m----> 4\u001b[0m \u001b[38;5;28mprint\u001b[39m(\u001b[43mname\u001b[49m\u001b[43m[\u001b[49m\u001b[38;5;241;43m10\u001b[39;49m\u001b[43m]\u001b[49m)\n",
      "\u001b[1;31mIndexError\u001b[0m: string index out of range"
     ]
    }
   ],
   "source": [
    "name = \"SURESH\"\n",
    "print(name)\n",
    "print(name[0])\n",
    "print(name[10])\n",
    "print(\"this line is very imp, should always be printed\")"
   ]
  },
  {
   "cell_type": "code",
   "execution_count": 31,
   "id": "a51b8f8b",
   "metadata": {},
   "outputs": [
    {
     "name": "stdout",
     "output_type": "stream",
     "text": [
      "SURESH\n",
      "S\n",
      "Enter the index post to be printed!!6\n",
      "Index out of range, user proper range \n",
      "this line is very imp, should always be printed\n"
     ]
    }
   ],
   "source": [
    "name = \"SURESH\"\n",
    "print(name)\n",
    "print(name[0])\n",
    "try:\n",
    "    a = int(input(\"Enter the index post to be printed!!\"))\n",
    "    print(name[a])\n",
    "except:\n",
    "    print(\"Index out of range, user proper range \")\n",
    "print(\"this line is very imp, should always be printed\")"
   ]
  },
  {
   "cell_type": "code",
   "execution_count": 33,
   "id": "98edc05e",
   "metadata": {},
   "outputs": [
    {
     "name": "stdout",
     "output_type": "stream",
     "text": [
      "SURESH\n",
      "S\n",
      "Enter the index post to be printed!!8\n",
      "string index out of range\n",
      "this line is very imp, should always be printed\n"
     ]
    }
   ],
   "source": [
    "name = \"SURESH\"\n",
    "print(name)\n",
    "print(name[0])\n",
    "try:\n",
    "    a = int(input(\"Enter the index post to be printed!!\"))\n",
    "    print(name[a])\n",
    "except Exception as i:\n",
    "    print(i)#the error msg given by python\n",
    "print(\"this line is very imp, should always be printed\")"
   ]
  },
  {
   "cell_type": "code",
   "execution_count": 35,
   "id": "ef13c824",
   "metadata": {},
   "outputs": [
    {
     "name": "stdout",
     "output_type": "stream",
     "text": [
      "0.5\n",
      "Please Enter a number!!!0\n",
      "0\n",
      "<class 'int'>\n",
      "division by zero Enter a non zero number\n",
      "this line is very imp, should always be printed\n"
     ]
    }
   ],
   "source": [
    "# implementing the Exception handeling\n",
    "# sending proper msg to the user\n",
    "a = 100\n",
    "b = 200\n",
    "\n",
    "\n",
    "print(a/b)\n",
    "try:\n",
    "    c = int(input(\"Please Enter a number!!!\"))\n",
    "    print(c)\n",
    "    print(type(c))   \n",
    "    print(a/c)\n",
    "except Exception as e:\n",
    "    print(e,\"Enter a non zero number\")\n",
    "    \n",
    "print(\"this line is very imp, should always be printed\")"
   ]
  },
  {
   "cell_type": "code",
   "execution_count": 36,
   "id": "f2682022",
   "metadata": {},
   "outputs": [],
   "source": [
    "# https://docs.python.org/3/library/exceptions.html"
   ]
  },
  {
   "cell_type": "code",
   "execution_count": 39,
   "id": "34507ba3",
   "metadata": {},
   "outputs": [
    {
     "name": "stdout",
     "output_type": "stream",
     "text": [
      "0.5\n",
      "Please Enter a number!!!potato\n",
      "Enter a non zero number\n",
      "this line is very imp, should always be printed\n"
     ]
    }
   ],
   "source": [
    "# implementing the Exception handeling\n",
    "# sending proper msg to the user\n",
    "a = 100\n",
    "b = 200\n",
    "\n",
    "\n",
    "print(a/b)\n",
    "try:\n",
    "    c = int(input(\"Please Enter a number!!!\"))\n",
    "    print(c)\n",
    "    print(type(c))   \n",
    "    print(a/c)\n",
    "except Exception: #not necessary ??\n",
    "    print(\"Enter a non zero number\")\n",
    "    \n",
    "print(\"this line is very imp, should always be printed\")"
   ]
  },
  {
   "cell_type": "code",
   "execution_count": null,
   "id": "c38a6465",
   "metadata": {},
   "outputs": [],
   "source": []
  }
 ],
 "metadata": {
  "kernelspec": {
   "display_name": "Python 3 (ipykernel)",
   "language": "python",
   "name": "python3"
  },
  "language_info": {
   "codemirror_mode": {
    "name": "ipython",
    "version": 3
   },
   "file_extension": ".py",
   "mimetype": "text/x-python",
   "name": "python",
   "nbconvert_exporter": "python",
   "pygments_lexer": "ipython3",
   "version": "3.10.5"
  }
 },
 "nbformat": 4,
 "nbformat_minor": 5
}
