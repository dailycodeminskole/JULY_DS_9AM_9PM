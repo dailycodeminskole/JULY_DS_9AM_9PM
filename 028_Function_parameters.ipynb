{
 "cells": [
  {
   "cell_type": "code",
   "execution_count": 2,
   "id": "2f397355",
   "metadata": {},
   "outputs": [
    {
     "name": "stdout",
     "output_type": "stream",
     "text": [
      "136\n",
      "-10\n"
     ]
    }
   ],
   "source": [
    "def calc(a,b):\n",
    "    print(a+b)\n",
    "    print(a-b)\n",
    "calc(63,73)"
   ]
  },
  {
   "cell_type": "code",
   "execution_count": 3,
   "id": "8dc079f8",
   "metadata": {},
   "outputs": [
    {
     "ename": "TypeError",
     "evalue": "calc() missing 2 required positional arguments: 'a' and 'b'",
     "output_type": "error",
     "traceback": [
      "\u001b[1;31m---------------------------------------------------------------------------\u001b[0m",
      "\u001b[1;31mTypeError\u001b[0m                                 Traceback (most recent call last)",
      "Input \u001b[1;32mIn [3]\u001b[0m, in \u001b[0;36m<cell line: 4>\u001b[1;34m()\u001b[0m\n\u001b[0;32m      2\u001b[0m     \u001b[38;5;28mprint\u001b[39m(a\u001b[38;5;241m+\u001b[39mb)\n\u001b[0;32m      3\u001b[0m     \u001b[38;5;28mprint\u001b[39m(a\u001b[38;5;241m-\u001b[39mb)\n\u001b[1;32m----> 4\u001b[0m \u001b[43mcalc\u001b[49m\u001b[43m(\u001b[49m\u001b[43m)\u001b[49m\n",
      "\u001b[1;31mTypeError\u001b[0m: calc() missing 2 required positional arguments: 'a' and 'b'"
     ]
    }
   ],
   "source": [
    "def calc(a,b):\n",
    "    print(a+b)\n",
    "    print(a-b)\n",
    "calc()"
   ]
  },
  {
   "cell_type": "markdown",
   "id": "a745a7de",
   "metadata": {},
   "source": [
    "#  List as an argument"
   ]
  },
  {
   "cell_type": "code",
   "execution_count": 13,
   "id": "8129663d",
   "metadata": {},
   "outputs": [
    {
     "name": "stdout",
     "output_type": "stream",
     "text": [
      "[10, 12, 44]\n"
     ]
    }
   ],
   "source": [
    "# to filter even number from the given list\n",
    "a = [10,11,12,13,44,15]\n",
    "b = []\n",
    "for i in a:\n",
    "    if i%2 == 0:\n",
    "#         print(\"The number is even\")\n",
    "        b.append(i)\n",
    "print(b)\n",
    "\n",
    "# print(14%2)\n",
    "\n"
   ]
  },
  {
   "cell_type": "code",
   "execution_count": 17,
   "id": "5aba197d",
   "metadata": {},
   "outputs": [
    {
     "name": "stdout",
     "output_type": "stream",
     "text": [
      "[2, 4, 6, 8]\n",
      "[]\n"
     ]
    }
   ],
   "source": [
    "def even_filter(a):\n",
    "    b = []\n",
    "    for i in a:\n",
    "        if i%2 == 0:\n",
    "#         print(\"The number is even\")\n",
    "            b.append(i)\n",
    "    print(b)\n",
    "    \n",
    "even_filter([1,2,3,4,5,6,7,8,9])\n",
    "even_filter([3,9,19,23])"
   ]
  },
  {
   "cell_type": "code",
   "execution_count": 18,
   "id": "40b91a9a",
   "metadata": {},
   "outputs": [],
   "source": [
    "# varable lenght argument\n",
    "# args\n",
    "# *args"
   ]
  },
  {
   "cell_type": "code",
   "execution_count": 19,
   "id": "80495f9b",
   "metadata": {},
   "outputs": [
    {
     "name": "stdout",
     "output_type": "stream",
     "text": [
      "60\n"
     ]
    }
   ],
   "source": [
    "def sum(a,b,c):\n",
    "    print(a+b+c)\n",
    "sum(10,20,30)\n",
    "    "
   ]
  },
  {
   "cell_type": "code",
   "execution_count": 33,
   "id": "83435346",
   "metadata": {},
   "outputs": [
    {
     "name": "stdout",
     "output_type": "stream",
     "text": [
      "30\n",
      "60\n",
      "100\n"
     ]
    }
   ],
   "source": [
    "def sum(a,b,c=0,d=0,e=0,f=0):\n",
    "    print(a+b+c+d)\n",
    "sum(10,20)\n",
    "sum(10,20,30)\n",
    "sum(10,20,30,40)"
   ]
  },
  {
   "cell_type": "code",
   "execution_count": 32,
   "id": "69051065",
   "metadata": {},
   "outputs": [
    {
     "name": "stdout",
     "output_type": "stream",
     "text": [
      "119\n",
      "-17\n",
      "-17\n",
      "0\n"
     ]
    }
   ],
   "source": [
    "def sum(*args):\n",
    "    sum =0\n",
    "    for i in args:\n",
    "#         print(i)\n",
    "        sum = sum+i\n",
    "    print(sum)\n",
    "        \n",
    "sum(1,2,3,4,5,6,7,8,9,10,11,12,13,14,15,16,-17)\n",
    "sum(-17)\n",
    "sum(0,-17)\n",
    "sum(17,-17)"
   ]
  },
  {
   "cell_type": "code",
   "execution_count": null,
   "id": "fa240cb8",
   "metadata": {},
   "outputs": [],
   "source": []
  }
 ],
 "metadata": {
  "kernelspec": {
   "display_name": "Python 3 (ipykernel)",
   "language": "python",
   "name": "python3"
  },
  "language_info": {
   "codemirror_mode": {
    "name": "ipython",
    "version": 3
   },
   "file_extension": ".py",
   "mimetype": "text/x-python",
   "name": "python",
   "nbconvert_exporter": "python",
   "pygments_lexer": "ipython3",
   "version": "3.10.5"
  }
 },
 "nbformat": 4,
 "nbformat_minor": 5
}
