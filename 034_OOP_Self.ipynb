{
 "cells": [
  {
   "cell_type": "markdown",
   "id": "8a3666cb",
   "metadata": {},
   "source": [
    "# revision"
   ]
  },
  {
   "cell_type": "code",
   "execution_count": 1,
   "id": "cb0850f7",
   "metadata": {},
   "outputs": [],
   "source": [
    "# line by line\n",
    "# functional programming\n",
    "# OOP"
   ]
  },
  {
   "cell_type": "code",
   "execution_count": 3,
   "id": "8462a281",
   "metadata": {},
   "outputs": [
    {
     "name": "stdout",
     "output_type": "stream",
     "text": [
      "<class 'int'>\n"
     ]
    }
   ],
   "source": [
    "x = 100\n",
    "print(type(x))"
   ]
  },
  {
   "cell_type": "code",
   "execution_count": 8,
   "id": "2c954888",
   "metadata": {},
   "outputs": [],
   "source": [
    "class Student():\n",
    "    def __init__(self):\n",
    "        self.name = 'Rahul'\n",
    "        \n",
    "s1 = Student()"
   ]
  },
  {
   "cell_type": "code",
   "execution_count": 9,
   "id": "1cee4a7f",
   "metadata": {},
   "outputs": [
    {
     "name": "stdout",
     "output_type": "stream",
     "text": [
      "<__main__.Student object at 0x0000026EAA02F1F0>\n"
     ]
    }
   ],
   "source": [
    "print(s1)"
   ]
  },
  {
   "cell_type": "code",
   "execution_count": 10,
   "id": "2d368360",
   "metadata": {},
   "outputs": [
    {
     "name": "stdout",
     "output_type": "stream",
     "text": [
      "Rahul\n"
     ]
    }
   ],
   "source": [
    "print(s1.name)"
   ]
  },
  {
   "cell_type": "code",
   "execution_count": 11,
   "id": "bc57b37b",
   "metadata": {},
   "outputs": [
    {
     "name": "stdout",
     "output_type": "stream",
     "text": [
      "Rahul\n"
     ]
    }
   ],
   "source": [
    "s2 = Student()\n",
    "print(s2.name)"
   ]
  },
  {
   "cell_type": "code",
   "execution_count": 14,
   "id": "dc47f496",
   "metadata": {},
   "outputs": [
    {
     "name": "stdout",
     "output_type": "stream",
     "text": [
      "Rakesh\n"
     ]
    }
   ],
   "source": [
    "class Student():\n",
    "    def __init__(self,name):\n",
    "        self.name = name\n",
    "        \n",
    "s1 = Student('Rakesh')\n",
    "print(s1.name)"
   ]
  },
  {
   "cell_type": "code",
   "execution_count": 15,
   "id": "b107e052",
   "metadata": {},
   "outputs": [
    {
     "name": "stdout",
     "output_type": "stream",
     "text": [
      "sameer\n"
     ]
    }
   ],
   "source": [
    "s2 = Student('sameer')\n",
    "print(s2.name)"
   ]
  },
  {
   "cell_type": "code",
   "execution_count": 16,
   "id": "b4d72f84",
   "metadata": {},
   "outputs": [
    {
     "name": "stdout",
     "output_type": "stream",
     "text": [
      "2674322427136\n",
      "2674322427136\n"
     ]
    }
   ],
   "source": [
    "class Student():\n",
    "    def __init__(naveen): #this is called special method , dunder methods , \n",
    "        print(id(naveen))\n",
    "        \n",
    "s5 = Student()\n",
    "print(id(s5))\n"
   ]
  },
  {
   "cell_type": "code",
   "execution_count": 19,
   "id": "c52fbcfb",
   "metadata": {},
   "outputs": [
    {
     "name": "stdout",
     "output_type": "stream",
     "text": [
      "2674320302400\n",
      "2674320302400\n"
     ]
    }
   ],
   "source": [
    "class Student():\n",
    "    def __init__(shaktiman):\n",
    "        print(id(shaktiman))\n",
    "        \n",
    "gangadhar = Student()\n",
    "print(id(gangadhar))"
   ]
  },
  {
   "cell_type": "code",
   "execution_count": 23,
   "id": "5c96bc31",
   "metadata": {},
   "outputs": [
    {
     "name": "stdout",
     "output_type": "stream",
     "text": [
      "Akash\n",
      "24\n",
      "Pune\n"
     ]
    }
   ],
   "source": [
    "class Student():\n",
    "    def __init__(self,name,age,area):\n",
    "        self.name = name\n",
    "        self.age = age\n",
    "        self.area = area\n",
    "        \n",
    "s7 = Student('Akash',24,\"Pune\")\n",
    "print(s7.name)\n",
    "print(s7.age)\n",
    "print(s7.area)"
   ]
  },
  {
   "cell_type": "code",
   "execution_count": 26,
   "id": "293ea16f",
   "metadata": {},
   "outputs": [
    {
     "name": "stdout",
     "output_type": "stream",
     "text": [
      "Sameer\n",
      "34\n",
      "nasik\n"
     ]
    }
   ],
   "source": [
    "s8 = Student('Sameer',34,\"nasik\")\n",
    "print(s8.name)\n",
    "print(s8.age)\n",
    "print(s8.area)"
   ]
  },
  {
   "cell_type": "code",
   "execution_count": 31,
   "id": "4b7ede4a",
   "metadata": {},
   "outputs": [
    {
     "name": "stdout",
     "output_type": "stream",
     "text": [
      "Akash\n",
      "24\n",
      "Pune\n"
     ]
    }
   ],
   "source": [
    "class Student():\n",
    "    def __init__(self,name,age,area):\n",
    "        self.n = name\n",
    "        self.a = age\n",
    "        self.ar = area\n",
    "    \n",
    "    def __str__(self):\n",
    "        return f\"My name is {self.n} and is from {self.ar} and is {self.a} tears old\"\n",
    "    \n",
    "        \n",
    "s7 = Student('Akash',24,\"Pune\")\n",
    "print(s7.n)\n",
    "print(s7.a)\n",
    "print(s7.ar)"
   ]
  },
  {
   "cell_type": "code",
   "execution_count": 29,
   "id": "4761771d",
   "metadata": {},
   "outputs": [
    {
     "name": "stdout",
     "output_type": "stream",
     "text": [
      "100\n"
     ]
    }
   ],
   "source": [
    "x = 100\n",
    "print(x)"
   ]
  },
  {
   "cell_type": "code",
   "execution_count": 30,
   "id": "5aa43408",
   "metadata": {},
   "outputs": [
    {
     "name": "stdout",
     "output_type": "stream",
     "text": [
      "<__main__.Student object at 0x0000026EAA43A770>\n"
     ]
    }
   ],
   "source": [
    "print(s7)"
   ]
  },
  {
   "cell_type": "code",
   "execution_count": 32,
   "id": "7b8b5c8f",
   "metadata": {},
   "outputs": [
    {
     "name": "stdout",
     "output_type": "stream",
     "text": [
      "My name is Akash and is from Pune and is 24 tears old\n"
     ]
    }
   ],
   "source": [
    "print(s7)"
   ]
  },
  {
   "cell_type": "code",
   "execution_count": null,
   "id": "fc95879f",
   "metadata": {},
   "outputs": [],
   "source": []
  }
 ],
 "metadata": {
  "kernelspec": {
   "display_name": "Python 3 (ipykernel)",
   "language": "python",
   "name": "python3"
  },
  "language_info": {
   "codemirror_mode": {
    "name": "ipython",
    "version": 3
   },
   "file_extension": ".py",
   "mimetype": "text/x-python",
   "name": "python",
   "nbconvert_exporter": "python",
   "pygments_lexer": "ipython3",
   "version": "3.10.5"
  }
 },
 "nbformat": 4,
 "nbformat_minor": 5
}
