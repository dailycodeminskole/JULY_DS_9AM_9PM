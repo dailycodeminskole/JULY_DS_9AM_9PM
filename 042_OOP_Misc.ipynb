{
 "cells": [
  {
   "cell_type": "code",
   "execution_count": 1,
   "id": "dd09d13e",
   "metadata": {},
   "outputs": [],
   "source": [
    "# MRO"
   ]
  },
  {
   "cell_type": "code",
   "execution_count": 5,
   "id": "76367736",
   "metadata": {},
   "outputs": [
    {
     "name": "stdout",
     "output_type": "stream",
     "text": [
      "I am working\n",
      "I am working in Pune\n",
      "I am working in Nagpur\n"
     ]
    }
   ],
   "source": [
    "class Employee():\n",
    "    def show(self):\n",
    "        print(\"I am working\")\n",
    "        \n",
    "class Pune():\n",
    "    def show(self):\n",
    "        print(\"I am working in Pune\")\n",
    "        \n",
    "class Nagpur():\n",
    "    def show(self):\n",
    "        print(\"I am working in Nagpur\")     \n",
    "        \n",
    "e1 = Employee()\n",
    "e1.show()\n",
    "\n",
    "p1 = Pune()\n",
    "p1.show()\n",
    "\n",
    "n1 =  Nagpur()\n",
    "n1.show()"
   ]
  },
  {
   "cell_type": "code",
   "execution_count": 8,
   "id": "f4ad87f7",
   "metadata": {},
   "outputs": [
    {
     "name": "stdout",
     "output_type": "stream",
     "text": [
      "I am working\n",
      "I am working in Pune\n",
      "I am working in Nagpur\n"
     ]
    }
   ],
   "source": [
    "class Employee():\n",
    "    def show(self):\n",
    "        print(\"I am working\")\n",
    "        \n",
    "class Pune(Employee):\n",
    "    def show(self):\n",
    "        print(\"I am working in Pune\")\n",
    "        \n",
    "class Nagpur(Employee):\n",
    "    def show(self):\n",
    "        print(\"I am working in Nagpur\")     \n",
    "        \n",
    "e1 = Employee()\n",
    "e1.show()\n",
    "\n",
    "p1 = Pune()\n",
    "p1.show() #it will over ride the parent method\n",
    "\n",
    "n1 =  Nagpur()\n",
    "n1.show() ##it will over ride the parent method\n",
    "        "
   ]
  },
  {
   "cell_type": "code",
   "execution_count": 11,
   "id": "8f9c9d8c",
   "metadata": {},
   "outputs": [
    {
     "name": "stdout",
     "output_type": "stream",
     "text": [
      "I am working\n",
      "I am working in Pune\n",
      "I am working in Nagpur\n",
      "I am working in Pune\n"
     ]
    }
   ],
   "source": [
    "class Employee():\n",
    "    def show(self):\n",
    "        print(\"I am working\")\n",
    "        \n",
    "class Pune(Employee):\n",
    "    def show(self):\n",
    "        print(\"I am working in Pune\")\n",
    "        \n",
    "class Nagpur(Employee):\n",
    "    def show(self):\n",
    "        print(\"I am working in Nagpur\")     \n",
    "        \n",
    "class D(Pune,Nagpur):\n",
    "    pass\n",
    "\n",
    "e1 = Employee()\n",
    "e1.show()\n",
    "\n",
    "p1 = Pune()\n",
    "p1.show() #it will over ride the parent method\n",
    "\n",
    "n1 =  Nagpur()\n",
    "n1.show() ##it will over ride the parent method\n",
    "        \n",
    "    \n",
    "d1 =  D()\n",
    "d1.show()"
   ]
  },
  {
   "cell_type": "code",
   "execution_count": 13,
   "id": "47cd6919",
   "metadata": {},
   "outputs": [
    {
     "name": "stdout",
     "output_type": "stream",
     "text": [
      "I am working\n",
      "I am working in Pune\n",
      "I am working in Nagpur\n",
      "I am working in Nagpur\n"
     ]
    }
   ],
   "source": [
    "# method Oreder Resolution MRO\n",
    "# pref for the method to be used will be from left to right \n",
    "\n",
    "class Employee():\n",
    "    def show(self):\n",
    "        print(\"I am working\")\n",
    "        \n",
    "class Pune(Employee):\n",
    "    def show(self):\n",
    "        print(\"I am working in Pune\")\n",
    "        \n",
    "class Nagpur(Employee):\n",
    "    def show(self):\n",
    "        print(\"I am working in Nagpur\")     \n",
    "        \n",
    "class D(Nagpur,Pune):\n",
    "    pass\n",
    "\n",
    "e1 = Employee()\n",
    "e1.show()\n",
    "\n",
    "p1 = Pune()\n",
    "p1.show() #it will over ride the parent method\n",
    "\n",
    "n1 =  Nagpur()\n",
    "n1.show() ##it will over ride the parent method\n",
    "        \n",
    "    \n",
    "d1 =  D()\n",
    "d1.show()"
   ]
  },
  {
   "cell_type": "code",
   "execution_count": 14,
   "id": "44d40419",
   "metadata": {},
   "outputs": [],
   "source": [
    "# Method over riding"
   ]
  },
  {
   "cell_type": "code",
   "execution_count": 19,
   "id": "76df1ea2",
   "metadata": {},
   "outputs": [
    {
     "name": "stdout",
     "output_type": "stream",
     "text": [
      "Meow\n",
      "Bark\n"
     ]
    }
   ],
   "source": [
    "class Animal():\n",
    "    def make_sound(self):\n",
    "        print(\"Some animal Sound\")\n",
    "class Dog(Animal):\n",
    "    def make_sound(self):\n",
    "        print(\"Bark\")\n",
    "class Cat(Animal):        \n",
    "    def make_sound(self):\n",
    "        print(\"Meow\")\n",
    "    \n",
    "c1 =  Cat()\n",
    "c1.make_sound() #over riding the parent class\n",
    "\n",
    "d1 =  Dog()\n",
    "d1.make_sound() #over riding the parent class"
   ]
  },
  {
   "cell_type": "code",
   "execution_count": 20,
   "id": "cd4d2ef3",
   "metadata": {},
   "outputs": [],
   "source": [
    "#Method Overloading "
   ]
  },
  {
   "cell_type": "code",
   "execution_count": 26,
   "id": "54f2b45e",
   "metadata": {},
   "outputs": [
    {
     "name": "stdout",
     "output_type": "stream",
     "text": [
      "10\n",
      "6\n",
      "3\n",
      "1\n"
     ]
    }
   ],
   "source": [
    "def add(a,b=0,c=0,d=0):\n",
    "    print(a+b+c+d)\n",
    "\n",
    "    \n",
    "add(1,2,3,4)\n",
    "add(1,2,3)\n",
    "add(1,2)\n",
    "add(1)"
   ]
  },
  {
   "cell_type": "code",
   "execution_count": 38,
   "id": "0f727294",
   "metadata": {},
   "outputs": [
    {
     "name": "stdout",
     "output_type": "stream",
     "text": [
      "(10, 12, 13, 14)\n",
      "('a', 'b', 'c')\n"
     ]
    }
   ],
   "source": [
    "class Printdata():\n",
    "    def show(self,*args):\n",
    "        print(args)\n",
    "p1 = Printdata()\n",
    "p1.show(10,12,13,14)\n",
    "p1.show(\"a\",\"b\",'c')"
   ]
  },
  {
   "cell_type": "code",
   "execution_count": 39,
   "id": "1486206b",
   "metadata": {},
   "outputs": [],
   "source": [
    "# decorators"
   ]
  },
  {
   "cell_type": "code",
   "execution_count": 46,
   "id": "34d8f506",
   "metadata": {},
   "outputs": [
    {
     "name": "stdout",
     "output_type": "stream",
     "text": [
      "24\n",
      "Welcome to Minskole\n"
     ]
    }
   ],
   "source": [
    "class Calc():\n",
    "    \n",
    "    @staticmethod\n",
    "    def add(x,y):\n",
    "        print(x+y)\n",
    "    \n",
    "    @staticmethod\n",
    "    def show():\n",
    "        print(\"Welcome to Minskole\")\n",
    "        \n",
    "c1 = Calc()\n",
    "c1.add(12,12)\n",
    "\n",
    "\n",
    "c1.show()"
   ]
  },
  {
   "cell_type": "code",
   "execution_count": null,
   "id": "94d9bd62",
   "metadata": {},
   "outputs": [],
   "source": []
  }
 ],
 "metadata": {
  "kernelspec": {
   "display_name": "Python 3 (ipykernel)",
   "language": "python",
   "name": "python3"
  },
  "language_info": {
   "codemirror_mode": {
    "name": "ipython",
    "version": 3
   },
   "file_extension": ".py",
   "mimetype": "text/x-python",
   "name": "python",
   "nbconvert_exporter": "python",
   "pygments_lexer": "ipython3",
   "version": "3.10.5"
  }
 },
 "nbformat": 4,
 "nbformat_minor": 5
}
