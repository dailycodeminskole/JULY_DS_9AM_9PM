{
 "cells": [
  {
   "cell_type": "markdown",
   "id": "746da8a9",
   "metadata": {},
   "source": [
    "# Heading One"
   ]
  },
  {
   "cell_type": "markdown",
   "id": "d275105e",
   "metadata": {},
   "source": [
    "## Sub Heading one"
   ]
  },
  {
   "cell_type": "code",
   "execution_count": 1,
   "id": "0b2fc612",
   "metadata": {},
   "outputs": [],
   "source": [
    "# Dictionary Methods"
   ]
  },
  {
   "cell_type": "code",
   "execution_count": 2,
   "id": "918fd763",
   "metadata": {},
   "outputs": [],
   "source": [
    "d6 = {\n",
    "  'name' : \"Ramesh\",\n",
    "  'age' : 24,\n",
    "  'area' :\"Pune\",\n",
    "  'skills' : ['Phy','Chem','Bio',['JS','Python','C++']],\n",
    "  'hobby' :{'reading','writing'}\n",
    "}"
   ]
  },
  {
   "cell_type": "code",
   "execution_count": 3,
   "id": "ff68de12",
   "metadata": {},
   "outputs": [
    {
     "name": "stdout",
     "output_type": "stream",
     "text": [
      "{'name': 'Ramesh', 'age': 24, 'area': 'Pune', 'skills': ['Phy', 'Chem', 'Bio', ['JS', 'Python', 'C++']], 'hobby': {'reading', 'writing'}}\n"
     ]
    }
   ],
   "source": [
    "print(d6)"
   ]
  },
  {
   "cell_type": "markdown",
   "id": "f783f585",
   "metadata": {},
   "source": [
    "# keys"
   ]
  },
  {
   "cell_type": "code",
   "execution_count": 4,
   "id": "9d39880c",
   "metadata": {},
   "outputs": [
    {
     "name": "stdout",
     "output_type": "stream",
     "text": [
      "dict_keys(['name', 'age', 'area', 'skills', 'hobby'])\n"
     ]
    }
   ],
   "source": [
    "print(d6.keys())"
   ]
  },
  {
   "cell_type": "markdown",
   "id": "d0295fca",
   "metadata": {},
   "source": [
    "# values"
   ]
  },
  {
   "cell_type": "code",
   "execution_count": 5,
   "id": "41b1e0fd",
   "metadata": {},
   "outputs": [
    {
     "name": "stdout",
     "output_type": "stream",
     "text": [
      "dict_values(['Ramesh', 24, 'Pune', ['Phy', 'Chem', 'Bio', ['JS', 'Python', 'C++']], {'reading', 'writing'}])\n"
     ]
    }
   ],
   "source": [
    "print(d6.values())"
   ]
  },
  {
   "cell_type": "markdown",
   "id": "59d141df",
   "metadata": {},
   "source": [
    "# items"
   ]
  },
  {
   "cell_type": "code",
   "execution_count": 6,
   "id": "2e330926",
   "metadata": {},
   "outputs": [
    {
     "name": "stdout",
     "output_type": "stream",
     "text": [
      "dict_items([('name', 'Ramesh'), ('age', 24), ('area', 'Pune'), ('skills', ['Phy', 'Chem', 'Bio', ['JS', 'Python', 'C++']]), ('hobby', {'reading', 'writing'})])\n"
     ]
    }
   ],
   "source": [
    "print(d6.items())"
   ]
  },
  {
   "cell_type": "markdown",
   "id": "f6c695c8",
   "metadata": {},
   "source": [
    "# acessing a dict using get()"
   ]
  },
  {
   "cell_type": "code",
   "execution_count": 7,
   "id": "115bb85a",
   "metadata": {},
   "outputs": [
    {
     "name": "stdout",
     "output_type": "stream",
     "text": [
      "24\n"
     ]
    }
   ],
   "source": [
    "print(d6.get('age'))"
   ]
  },
  {
   "cell_type": "code",
   "execution_count": 8,
   "id": "9c12a90b",
   "metadata": {
    "scrolled": true
   },
   "outputs": [
    {
     "data": {
      "text/plain": [
       "['Phy', 'Chem', 'Bio', ['JS', 'Python', 'C++']]"
      ]
     },
     "execution_count": 8,
     "metadata": {},
     "output_type": "execute_result"
    }
   ],
   "source": [
    "d6.get('skills')"
   ]
  },
  {
   "cell_type": "code",
   "execution_count": 9,
   "id": "45e6c02b",
   "metadata": {},
   "outputs": [
    {
     "data": {
      "text/plain": [
       "['Phy', 'Chem', 'Bio', ['JS', 'Python', 'C++']]"
      ]
     },
     "execution_count": 9,
     "metadata": {},
     "output_type": "execute_result"
    }
   ],
   "source": [
    "d6.get('skills','not available')"
   ]
  },
  {
   "cell_type": "code",
   "execution_count": 10,
   "id": "6d35c0b4",
   "metadata": {},
   "outputs": [
    {
     "data": {
      "text/plain": [
       "'not available'"
      ]
     },
     "execution_count": 10,
     "metadata": {},
     "output_type": "execute_result"
    }
   ],
   "source": [
    "d6.get('pin','not available') #if the key is not present , the other argument  will be displayed"
   ]
  },
  {
   "cell_type": "markdown",
   "id": "ad2714f7",
   "metadata": {},
   "source": [
    "# update"
   ]
  },
  {
   "cell_type": "code",
   "execution_count": 11,
   "id": "73bf7418",
   "metadata": {},
   "outputs": [],
   "source": [
    "d6 = {\n",
    "  'name' : \"Ramesh\",\n",
    "  'age' : 24,\n",
    "  'area' :\"Pune\",\n",
    "  'skills' : ['Phy','Chem','Bio',['JS','Python','C++']],\n",
    "  'hobby' :{'reading','writing'}\n",
    "}"
   ]
  },
  {
   "cell_type": "code",
   "execution_count": 12,
   "id": "b61d4a48",
   "metadata": {},
   "outputs": [],
   "source": [
    "d6.update({'dob': '12.12.1999'})"
   ]
  },
  {
   "cell_type": "code",
   "execution_count": 13,
   "id": "0c86d48c",
   "metadata": {},
   "outputs": [
    {
     "data": {
      "text/plain": [
       "{'name': 'Ramesh',\n",
       " 'age': 24,\n",
       " 'area': 'Pune',\n",
       " 'skills': ['Phy', 'Chem', 'Bio', ['JS', 'Python', 'C++']],\n",
       " 'hobby': {'reading', 'writing'},\n",
       " 'dob': '12.12.1999'}"
      ]
     },
     "execution_count": 13,
     "metadata": {},
     "output_type": "execute_result"
    }
   ],
   "source": [
    "d6"
   ]
  },
  {
   "cell_type": "markdown",
   "id": "8b5e9a1a",
   "metadata": {},
   "source": [
    "# setdefault"
   ]
  },
  {
   "cell_type": "code",
   "execution_count": 14,
   "id": "d8a8af51",
   "metadata": {},
   "outputs": [
    {
     "data": {
      "text/plain": [
       "{'name': 'Ramesh',\n",
       " 'age': 24,\n",
       " 'area': 'Pune',\n",
       " 'skills': ['Phy', 'Chem', 'Bio', ['JS', 'Python', 'C++']],\n",
       " 'hobby': {'reading', 'writing'},\n",
       " 'dob': '12.12.1999'}"
      ]
     },
     "execution_count": 14,
     "metadata": {},
     "output_type": "execute_result"
    }
   ],
   "source": [
    "d6"
   ]
  },
  {
   "cell_type": "code",
   "execution_count": 15,
   "id": "632deb0d",
   "metadata": {},
   "outputs": [
    {
     "data": {
      "text/plain": [
       "24"
      ]
     },
     "execution_count": 15,
     "metadata": {},
     "output_type": "execute_result"
    }
   ],
   "source": [
    "d6.setdefault('age')"
   ]
  },
  {
   "cell_type": "code",
   "execution_count": 16,
   "id": "ed5cb588",
   "metadata": {},
   "outputs": [
    {
     "data": {
      "text/plain": [
       "{'reading', 'writing'}"
      ]
     },
     "execution_count": 16,
     "metadata": {},
     "output_type": "execute_result"
    }
   ],
   "source": [
    "d6.setdefault('hobby')"
   ]
  },
  {
   "cell_type": "code",
   "execution_count": 17,
   "id": "4530753b",
   "metadata": {},
   "outputs": [
    {
     "data": {
      "text/plain": [
       "'NO'"
      ]
     },
     "execution_count": 17,
     "metadata": {},
     "output_type": "execute_result"
    }
   ],
   "source": [
    "d6.setdefault('result2','NO')"
   ]
  },
  {
   "cell_type": "code",
   "execution_count": 18,
   "id": "f29ba66b",
   "metadata": {},
   "outputs": [
    {
     "data": {
      "text/plain": [
       "{'name': 'Ramesh',\n",
       " 'age': 24,\n",
       " 'area': 'Pune',\n",
       " 'skills': ['Phy', 'Chem', 'Bio', ['JS', 'Python', 'C++']],\n",
       " 'hobby': {'reading', 'writing'},\n",
       " 'dob': '12.12.1999',\n",
       " 'result2': 'NO'}"
      ]
     },
     "execution_count": 18,
     "metadata": {},
     "output_type": "execute_result"
    }
   ],
   "source": [
    "d6"
   ]
  },
  {
   "cell_type": "markdown",
   "id": "e16bd991",
   "metadata": {},
   "source": [
    "# fromkeys "
   ]
  },
  {
   "cell_type": "code",
   "execution_count": 19,
   "id": "087cd26d",
   "metadata": {},
   "outputs": [],
   "source": [
    "list_a = ['a','b','c','d']"
   ]
  },
  {
   "cell_type": "code",
   "execution_count": 20,
   "id": "979c86df",
   "metadata": {},
   "outputs": [
    {
     "data": {
      "text/plain": [
       "{'a': None, 'b': None, 'c': None, 'd': None}"
      ]
     },
     "execution_count": 20,
     "metadata": {},
     "output_type": "execute_result"
    }
   ],
   "source": [
    "dict.fromkeys(list_a)"
   ]
  },
  {
   "cell_type": "code",
   "execution_count": 21,
   "id": "8c96a601",
   "metadata": {},
   "outputs": [
    {
     "data": {
      "text/plain": [
       "{'a': 'NA', 'b': 'NA', 'c': 'NA', 'd': 'NA'}"
      ]
     },
     "execution_count": 21,
     "metadata": {},
     "output_type": "execute_result"
    }
   ],
   "source": [
    "dict.fromkeys(list_a,\"NA\")"
   ]
  },
  {
   "cell_type": "code",
   "execution_count": 22,
   "id": "46bfa64a",
   "metadata": {},
   "outputs": [
    {
     "data": {
      "text/plain": [
       "{'a': 0, 'b': 0, 'c': 0, 'd': 0}"
      ]
     },
     "execution_count": 22,
     "metadata": {},
     "output_type": "execute_result"
    }
   ],
   "source": [
    "dict.fromkeys(list_a,0)"
   ]
  },
  {
   "cell_type": "code",
   "execution_count": 23,
   "id": "aef2022e",
   "metadata": {},
   "outputs": [
    {
     "data": {
      "text/plain": [
       "{'a': [11, 22, 33, 44],\n",
       " 'b': [11, 22, 33, 44],\n",
       " 'c': [11, 22, 33, 44],\n",
       " 'd': [11, 22, 33, 44]}"
      ]
     },
     "execution_count": 23,
     "metadata": {},
     "output_type": "execute_result"
    }
   ],
   "source": [
    "dict.fromkeys(list_a,[11,22,33,44])"
   ]
  },
  {
   "cell_type": "code",
   "execution_count": null,
   "id": "83460f7d",
   "metadata": {},
   "outputs": [],
   "source": []
  }
 ],
 "metadata": {
  "kernelspec": {
   "display_name": "Python 3 (ipykernel)",
   "language": "python",
   "name": "python3"
  },
  "language_info": {
   "codemirror_mode": {
    "name": "ipython",
    "version": 3
   },
   "file_extension": ".py",
   "mimetype": "text/x-python",
   "name": "python",
   "nbconvert_exporter": "python",
   "pygments_lexer": "ipython3",
   "version": "3.10.5"
  }
 },
 "nbformat": 4,
 "nbformat_minor": 5
}
