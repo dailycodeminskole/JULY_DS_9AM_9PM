{
 "cells": [
  {
   "cell_type": "code",
   "execution_count": 31,
   "id": "59a093ab",
   "metadata": {},
   "outputs": [
    {
     "name": "stdout",
     "output_type": "stream",
     "text": [
      "ENter a number other than zero4\n",
      "25.0\n",
      "A\n"
     ]
    }
   ],
   "source": [
    "# revision\n",
    "\n",
    "\n",
    "# using try...except block to cathc the exception\n",
    "\n",
    "\n",
    "a = 100\n",
    "name  = \"MAYUR\"\n",
    "\n",
    "try:\n",
    "    b = int(input(\"ENter a number other than zero\")) #there is a possibility that user might enter the valuse as '0'\n",
    "    c = a/b\n",
    "    print(c)\n",
    "    print(name[1])\n",
    "except:\n",
    "    print(\"Some error occured\") #printing some genereic info only\n"
   ]
  },
  {
   "cell_type": "code",
   "execution_count": 32,
   "id": "4672c6d4",
   "metadata": {},
   "outputs": [
    {
     "name": "stdout",
     "output_type": "stream",
     "text": [
      "ENter a number other than zero0\n",
      "division by zero\n"
     ]
    }
   ],
   "source": [
    "a = 100\n",
    "name  = \"MAYUR\"\n",
    "\n",
    "try:\n",
    "    b = int(input(\"ENter a number other than zero\"))\n",
    "    c = a/b\n",
    "    print(c)\n",
    "    print(name[1])\n",
    "except Exception as e: # prnting specific exception using the Built in excepton \n",
    "    print(e)\n"
   ]
  },
  {
   "cell_type": "code",
   "execution_count": 33,
   "id": "acb30b56",
   "metadata": {},
   "outputs": [
    {
     "name": "stdout",
     "output_type": "stream",
     "text": [
      "ENter a number other than zero0\n",
      "division by zero\n"
     ]
    }
   ],
   "source": [
    "a = 100\n",
    "name  = \"MAYUR\"\n",
    "\n",
    "try:\n",
    "    b = int(input(\"ENter a number other than zero\"))\n",
    "    c = a/b\n",
    "    print(c)\n",
    "    p = int(input(\"ENter the index position to be called\"))#there is a possibility that user might enter the valuse beyond the available index position\n",
    "    print(name[p])\n",
    "except Exception as e: ## prnting specific exception using the Built in excepton \n",
    "    print(e)\n"
   ]
  },
  {
   "cell_type": "code",
   "execution_count": 34,
   "id": "f11e7d09",
   "metadata": {},
   "outputs": [
    {
     "name": "stdout",
     "output_type": "stream",
     "text": [
      "ENter a number other than zero0\n",
      "division by zero\n"
     ]
    }
   ],
   "source": [
    "a = 100\n",
    "name  = \"MAYUR\"\n",
    "\n",
    "try:\n",
    "    b = int(input(\"ENter a number other than zero\"))\n",
    "    c = a/b\n",
    "    print(c)\n",
    "    p = int(input(\"ENter the index position to be called\"))\n",
    "    print(name[p])\n",
    "except Exception as e: #this will catch the exception\n",
    "    print(e)\n",
    "\n"
   ]
  },
  {
   "cell_type": "code",
   "execution_count": 35,
   "id": "86192448",
   "metadata": {},
   "outputs": [
    {
     "name": "stdout",
     "output_type": "stream",
     "text": [
      "ENter a number other than zero9\n",
      "11.11111111111111\n",
      "ENter the index position to be called10000\n",
      "string index out of range\n"
     ]
    }
   ],
   "source": [
    "a = 100\n",
    "name  = \"MAYUR\"\n",
    "\n",
    "try:\n",
    "    b = int(input(\"ENter a number other than zero\"))\n",
    "    c = a/b\n",
    "    print(c)\n",
    "    p = int(input(\"ENter the index position to be called\"))\n",
    "    print(name[p])\n",
    "except Exception as e:\n",
    "    print(e)\n"
   ]
  },
  {
   "cell_type": "code",
   "execution_count": 36,
   "id": "cd72788c",
   "metadata": {},
   "outputs": [
    {
     "name": "stdout",
     "output_type": "stream",
     "text": [
      "ENter a number other than zero10\n",
      "10.0\n",
      "ENter the index position to be called4\n",
      "R\n"
     ]
    }
   ],
   "source": [
    "# Handeling each type of exception using their specific class\n",
    "# thus the code will be better\n",
    "\n",
    "a = 100\n",
    "name  = \"MAYUR\"\n",
    "\n",
    "try:\n",
    "    b = int(input(\"ENter a number other than zero\"))\n",
    "    c = a/b\n",
    "    print(c)\n",
    "    p = int(input(\"ENter the index position to be called\"))\n",
    "    print(name[p])\n",
    "except ZeroDivisionError as e:\n",
    "    print(e)\n",
    "except IndexError as f:\n",
    "    print(f)\n"
   ]
  },
  {
   "cell_type": "code",
   "execution_count": 37,
   "id": "3f21e43c",
   "metadata": {},
   "outputs": [
    {
     "name": "stdout",
     "output_type": "stream",
     "text": [
      "ENter a number other than zero5\n",
      "20.0\n",
      "ENter the index position to be called2\n",
      "Y\n",
      "All codes executed successfully\n"
     ]
    }
   ],
   "source": [
    "# if the code executed without any excepitions we can inform the same using 'else' block\n",
    "\n",
    "# else block will be executed only if none of the Exception blocks are called\n",
    "\n",
    "a = 100\n",
    "name  = \"MAYUR\"\n",
    "\n",
    "try:\n",
    "    b = int(input(\"ENter a number other than zero\"))\n",
    "    c = a/b\n",
    "    print(c)\n",
    "    p = int(input(\"ENter the index position to be called\"))\n",
    "    print(name[p])\n",
    "except ZeroDivisionError as e:\n",
    "    print(e)\n",
    "except IndexError as f:\n",
    "    print(f)\n",
    "else: #this will get executed only if the code was without any excception\n",
    "    print(\"All codes executed successfully\")\n",
    "\n",
    "    \n",
    "# a = 100/0\n"
   ]
  },
  {
   "cell_type": "code",
   "execution_count": 38,
   "id": "e2a9e447",
   "metadata": {},
   "outputs": [
    {
     "name": "stdout",
     "output_type": "stream",
     "text": [
      "ENter a number other than zero0\n",
      "division by zero\n",
      "This will always be executed, irrespective of code status\n"
     ]
    }
   ],
   "source": [
    "# irrespective of the code execution status 'finally' block will be executed\n",
    "\n",
    "\n",
    "a = 100\n",
    "name  = \"MAYUR\"\n",
    "\n",
    "try:\n",
    "    b = int(input(\"ENter a number other than zero\"))\n",
    "    c = a/b\n",
    "    print(c)\n",
    "    p = int(input(\"ENter the index position to be called\"))\n",
    "    print(name[p])\n",
    "except ZeroDivisionError as e:\n",
    "    print(e)\n",
    "except IndexError as f:\n",
    "    print(f)\n",
    "else: #this will get executed only if the code was without any excception\n",
    "    print(\"All codes executed successfully\")\n",
    "finally:\n",
    "    print(\"This will always be executed, irrespective of code status\")\n",
    "    \n",
    "# a = 100/0\n"
   ]
  },
  {
   "cell_type": "markdown",
   "id": "d933dc1c",
   "metadata": {},
   "source": [
    "# User defined Exception"
   ]
  },
  {
   "cell_type": "code",
   "execution_count": 39,
   "id": "0be2ed4e",
   "metadata": {},
   "outputs": [
    {
     "name": "stdout",
     "output_type": "stream",
     "text": [
      "enter an Even number3\n"
     ]
    },
    {
     "ename": "Exception",
     "evalue": "Enter Even numbers only",
     "output_type": "error",
     "traceback": [
      "\u001b[1;31m---------------------------------------------------------------------------\u001b[0m",
      "\u001b[1;31mException\u001b[0m                                 Traceback (most recent call last)",
      "Input \u001b[1;32mIn [39]\u001b[0m, in \u001b[0;36m<cell line: 4>\u001b[1;34m()\u001b[0m\n\u001b[0;32m      3\u001b[0m x \u001b[38;5;241m=\u001b[39m \u001b[38;5;28mint\u001b[39m(\u001b[38;5;28minput\u001b[39m(\u001b[38;5;124m\"\u001b[39m\u001b[38;5;124menter an Even number\u001b[39m\u001b[38;5;124m\"\u001b[39m))\n\u001b[0;32m      4\u001b[0m \u001b[38;5;28;01mif\u001b[39;00m x\u001b[38;5;241m%\u001b[39m\u001b[38;5;241m2\u001b[39m\u001b[38;5;241m!=\u001b[39m\u001b[38;5;241m0\u001b[39m:\n\u001b[1;32m----> 5\u001b[0m     \u001b[38;5;28;01mraise\u001b[39;00m \u001b[38;5;167;01mException\u001b[39;00m(\u001b[38;5;124m\"\u001b[39m\u001b[38;5;124mEnter Even numbers only\u001b[39m\u001b[38;5;124m\"\u001b[39m)\n\u001b[0;32m      6\u001b[0m \u001b[38;5;28;01melse\u001b[39;00m:\n\u001b[0;32m      7\u001b[0m     \u001b[38;5;28mprint\u001b[39m(\u001b[38;5;124m\"\u001b[39m\u001b[38;5;124mEntered number is Even\u001b[39m\u001b[38;5;124m\"\u001b[39m)\n",
      "\u001b[1;31mException\u001b[0m: Enter Even numbers only"
     ]
    }
   ],
   "source": [
    "# raising the user defined exception\n",
    "\n",
    "x = int(input(\"enter an Even number\"))\n",
    "if x%2!=0:\n",
    "    raise Exception(\"Enter Even numbers only\")\n",
    "else:\n",
    "    print(\"Entered number is Even\")"
   ]
  },
  {
   "cell_type": "code",
   "execution_count": 29,
   "id": "970486ba",
   "metadata": {},
   "outputs": [
    {
     "name": "stdout",
     "output_type": "stream",
     "text": [
      "Invalid year of birth, enter proper year\n",
      "This is imp\n"
     ]
    }
   ],
   "source": [
    "# raising the user defined exception\n",
    "# handeling the exception\n",
    "\n",
    "def calculate_age(year_born):\n",
    "    current_year = 2023\n",
    "    if year_born>current_year:\n",
    "        raise Exception(\"Invalid year of birth\")\n",
    "    else:\n",
    "        age = current_year -year_born\n",
    "        print(age)\n",
    "\n",
    "try:\n",
    "    calculate_age(2030)\n",
    "except:\n",
    "    print(\"Invalid year of birth, enter proper year\")\n",
    "\n",
    "print(\"This is imp\")"
   ]
  },
  {
   "cell_type": "code",
   "execution_count": null,
   "id": "49ed34d7",
   "metadata": {},
   "outputs": [],
   "source": []
  }
 ],
 "metadata": {
  "kernelspec": {
   "display_name": "Python 3 (ipykernel)",
   "language": "python",
   "name": "python3"
  },
  "language_info": {
   "codemirror_mode": {
    "name": "ipython",
    "version": 3
   },
   "file_extension": ".py",
   "mimetype": "text/x-python",
   "name": "python",
   "nbconvert_exporter": "python",
   "pygments_lexer": "ipython3",
   "version": "3.10.5"
  }
 },
 "nbformat": 4,
 "nbformat_minor": 5
}
