{
 "cells": [
  {
   "cell_type": "markdown",
   "id": "b0321d18",
   "metadata": {},
   "source": [
    "#  Revision"
   ]
  },
  {
   "cell_type": "code",
   "execution_count": 2,
   "id": "4b3c1c4a",
   "metadata": {},
   "outputs": [
    {
     "ename": "ZeroDivisionError",
     "evalue": "division by zero",
     "output_type": "error",
     "traceback": [
      "\u001b[1;31m---------------------------------------------------------------------------\u001b[0m",
      "\u001b[1;31mZeroDivisionError\u001b[0m                         Traceback (most recent call last)",
      "Input \u001b[1;32mIn [2]\u001b[0m, in \u001b[0;36m<cell line: 3>\u001b[1;34m()\u001b[0m\n\u001b[0;32m      1\u001b[0m a \u001b[38;5;241m=\u001b[39m \u001b[38;5;241m100\u001b[39m\n\u001b[0;32m      2\u001b[0m b \u001b[38;5;241m=\u001b[39m \u001b[38;5;241m0\u001b[39m\n\u001b[1;32m----> 3\u001b[0m c \u001b[38;5;241m=\u001b[39m \u001b[43ma\u001b[49m\u001b[43m \u001b[49m\u001b[38;5;241;43m/\u001b[39;49m\u001b[43mb\u001b[49m \n\u001b[0;32m      4\u001b[0m \u001b[38;5;28mprint\u001b[39m(c)\n",
      "\u001b[1;31mZeroDivisionError\u001b[0m: division by zero"
     ]
    }
   ],
   "source": [
    "a = 100\n",
    "b = 0\n",
    "c = a /b \n",
    "print(c)"
   ]
  },
  {
   "cell_type": "code",
   "execution_count": 5,
   "id": "927a4f4a",
   "metadata": {},
   "outputs": [
    {
     "name": "stdout",
     "output_type": "stream",
     "text": [
      "E\n"
     ]
    },
    {
     "ename": "IndexError",
     "evalue": "string index out of range",
     "output_type": "error",
     "traceback": [
      "\u001b[1;31m---------------------------------------------------------------------------\u001b[0m",
      "\u001b[1;31mIndexError\u001b[0m                                Traceback (most recent call last)",
      "Input \u001b[1;32mIn [5]\u001b[0m, in \u001b[0;36m<cell line: 4>\u001b[1;34m()\u001b[0m\n\u001b[0;32m      1\u001b[0m name \u001b[38;5;241m=\u001b[39m \u001b[38;5;124m\"\u001b[39m\u001b[38;5;124mMINSKOLE\u001b[39m\u001b[38;5;124m\"\u001b[39m\n\u001b[0;32m      3\u001b[0m \u001b[38;5;28mprint\u001b[39m(name[\u001b[38;5;241m7\u001b[39m])\n\u001b[1;32m----> 4\u001b[0m \u001b[38;5;28mprint\u001b[39m(\u001b[43mname\u001b[49m\u001b[43m[\u001b[49m\u001b[38;5;241;43m17\u001b[39;49m\u001b[43m]\u001b[49m)\n",
      "\u001b[1;31mIndexError\u001b[0m: string index out of range"
     ]
    }
   ],
   "source": [
    "name = \"MINSKOLE\"\n",
    "\n",
    "print(name[7])\n",
    "print(name[17])"
   ]
  },
  {
   "cell_type": "code",
   "execution_count": 6,
   "id": "4cbe673e",
   "metadata": {},
   "outputs": [
    {
     "name": "stdout",
     "output_type": "stream",
     "text": [
      "Enter a NUmber0\n",
      "Some error occured\n"
     ]
    }
   ],
   "source": [
    "a = 100\n",
    "try:\n",
    "    \n",
    "    b = input(\"Enter a NUmber\")\n",
    "    c = a /b \n",
    "    print(c)\n",
    "except:\n",
    "    print(\"Some error occured\")\n",
    "    "
   ]
  },
  {
   "cell_type": "code",
   "execution_count": 9,
   "id": "3b79c36f",
   "metadata": {},
   "outputs": [
    {
     "name": "stdout",
     "output_type": "stream",
     "text": [
      "Enter a NUmber100\n",
      "<class 'str'>\n",
      "Some error occured\n"
     ]
    }
   ],
   "source": [
    "a = 100\n",
    "try:\n",
    "    \n",
    "    b = input(\"Enter a NUmber\")\n",
    "    print(type(b))\n",
    "    c = a /b \n",
    "    print(c)\n",
    "    \n",
    "except:\n",
    "    print(\"Some error occured\")\n",
    "    "
   ]
  },
  {
   "cell_type": "code",
   "execution_count": 10,
   "id": "b134333a",
   "metadata": {},
   "outputs": [
    {
     "name": "stdout",
     "output_type": "stream",
     "text": [
      "Enter a NUmber100\n",
      "<class 'int'>\n",
      "1.0\n"
     ]
    }
   ],
   "source": [
    "a = 100\n",
    "try:\n",
    "    \n",
    "    b = int(input(\"Enter a NUmber\"))\n",
    "    print(type(b))\n",
    "    c = a /b \n",
    "    print(c)\n",
    "    \n",
    "except:\n",
    "    print(\"Some error occured\")\n",
    "    "
   ]
  },
  {
   "cell_type": "markdown",
   "id": "2b420feb",
   "metadata": {},
   "source": [
    "# using else in try..except"
   ]
  },
  {
   "cell_type": "code",
   "execution_count": 12,
   "id": "08f5bf42",
   "metadata": {},
   "outputs": [
    {
     "name": "stdout",
     "output_type": "stream",
     "text": [
      "Enter a NUmber100\n",
      "<class 'int'>\n",
      "1.0\n",
      "Code executed successfully , congrats !!! \n"
     ]
    }
   ],
   "source": [
    "a = 100\n",
    "try:\n",
    "    \n",
    "    b = int(input(\"Enter a NUmber\"))\n",
    "    print(type(b))\n",
    "    c = a /b \n",
    "    print(c)\n",
    "    \n",
    "except Exception as error :\n",
    "    print(\"Some error occured\" , error)\n",
    "else: #this will be exceuted if there is no exception\n",
    "    print(\"Code executed successfully , congrats !!! \")\n",
    "    \n"
   ]
  },
  {
   "cell_type": "markdown",
   "id": "f9fc3bf5",
   "metadata": {},
   "source": [
    "# using finally !!!"
   ]
  },
  {
   "cell_type": "code",
   "execution_count": 14,
   "id": "d6fd738c",
   "metadata": {},
   "outputs": [
    {
     "name": "stdout",
     "output_type": "stream",
     "text": [
      "Enter a NUmber00\n",
      "<class 'int'>\n",
      "Some error occured division by zero\n",
      "This code will always get executed , irrespective of the execution status under try..except block\n"
     ]
    }
   ],
   "source": [
    "a = 100\n",
    "try:\n",
    "    \n",
    "    b = int(input(\"Enter a NUmber\"))\n",
    "    print(type(b))\n",
    "    c = a /b \n",
    "    print(c)\n",
    "    \n",
    "except Exception as error :\n",
    "    print(\"Some error occured\" , error)\n",
    "else: #this will be exceuted if there is no exception\n",
    "    print(\"Code executed successfully , congrats !!! \")\n",
    "finally: #always get executed\n",
    "    print(\"This code will always get executed , irrespective of the execution status under try..except block\")\n",
    "    \n"
   ]
  },
  {
   "cell_type": "markdown",
   "id": "6d0ccc31",
   "metadata": {},
   "source": [
    "# Custom Exception"
   ]
  },
  {
   "cell_type": "code",
   "execution_count": 16,
   "id": "bcda8dcb",
   "metadata": {},
   "outputs": [
    {
     "name": "stdout",
     "output_type": "stream",
     "text": [
      "Enter a number100\n",
      "100\n"
     ]
    }
   ],
   "source": [
    "x =  int(input(\"Enter a number\"))\n",
    "print(x)"
   ]
  },
  {
   "cell_type": "code",
   "execution_count": 17,
   "id": "9b659e8c",
   "metadata": {},
   "outputs": [
    {
     "name": "stdout",
     "output_type": "stream",
     "text": [
      "Enter even  number only 23\n",
      "23\n"
     ]
    }
   ],
   "source": [
    "x =  int(input(\"Enter even  number only \"))\n",
    "print(x)"
   ]
  },
  {
   "cell_type": "code",
   "execution_count": 18,
   "id": "2fef6ef4",
   "metadata": {},
   "outputs": [
    {
     "name": "stdout",
     "output_type": "stream",
     "text": [
      "Enter even  number only 23\n"
     ]
    },
    {
     "ename": "Exception",
     "evalue": "ONly even numbers are allowed",
     "output_type": "error",
     "traceback": [
      "\u001b[1;31m---------------------------------------------------------------------------\u001b[0m",
      "\u001b[1;31mException\u001b[0m                                 Traceback (most recent call last)",
      "Input \u001b[1;32mIn [18]\u001b[0m, in \u001b[0;36m<cell line: 2>\u001b[1;34m()\u001b[0m\n\u001b[0;32m      1\u001b[0m x \u001b[38;5;241m=\u001b[39m  \u001b[38;5;28mint\u001b[39m(\u001b[38;5;28minput\u001b[39m(\u001b[38;5;124m\"\u001b[39m\u001b[38;5;124mEnter even  number only \u001b[39m\u001b[38;5;124m\"\u001b[39m))\n\u001b[0;32m      2\u001b[0m \u001b[38;5;28;01mif\u001b[39;00m x\u001b[38;5;241m%\u001b[39m\u001b[38;5;241m2\u001b[39m \u001b[38;5;241m!=\u001b[39m\u001b[38;5;241m0\u001b[39m:\n\u001b[1;32m----> 3\u001b[0m     \u001b[38;5;28;01mraise\u001b[39;00m \u001b[38;5;167;01mException\u001b[39;00m(\u001b[38;5;124m\"\u001b[39m\u001b[38;5;124mONly even numbers are allowed\u001b[39m\u001b[38;5;124m\"\u001b[39m)\n\u001b[0;32m      4\u001b[0m \u001b[38;5;28;01melse\u001b[39;00m:\n\u001b[0;32m      5\u001b[0m     \u001b[38;5;28mprint\u001b[39m(x)\n",
      "\u001b[1;31mException\u001b[0m: ONly even numbers are allowed"
     ]
    }
   ],
   "source": [
    "# creating user defined Exception !!!\n",
    "x =  int(input(\"Enter even  number only \"))\n",
    "if x%2 !=0:\n",
    "    raise Exception(\"ONly even numbers are allowed\")\n",
    "else:\n",
    "    print(x)"
   ]
  },
  {
   "cell_type": "markdown",
   "id": "68795780",
   "metadata": {},
   "source": [
    "# handeling user defined exception"
   ]
  },
  {
   "cell_type": "code",
   "execution_count": 19,
   "id": "b359bcf0",
   "metadata": {},
   "outputs": [
    {
     "name": "stdout",
     "output_type": "stream",
     "text": [
      "Enter even  number only 23\n",
      "Only even number allowed\n"
     ]
    }
   ],
   "source": [
    "# creating user defined Exception !!!\n",
    "try:\n",
    "    x =  int(input(\"Enter even  number only \"))\n",
    "    if x%2 !=0:\n",
    "        raise Exception(\"ONly even numbers are allowed\")\n",
    "    else:\n",
    "        print(x)\n",
    "except:\n",
    "    print(\"Only even number allowed\")"
   ]
  },
  {
   "cell_type": "code",
   "execution_count": 20,
   "id": "26d55387",
   "metadata": {},
   "outputs": [
    {
     "name": "stdout",
     "output_type": "stream",
     "text": [
      "23\n"
     ]
    }
   ],
   "source": [
    "def cal_age(year_born):\n",
    "    current_year = 2023\n",
    "    age = current_year - year_born\n",
    "    print(age)\n",
    "cal_age(2000)"
   ]
  },
  {
   "cell_type": "code",
   "execution_count": 21,
   "id": "df3b9a84",
   "metadata": {},
   "outputs": [
    {
     "name": "stdout",
     "output_type": "stream",
     "text": [
      "-7\n"
     ]
    }
   ],
   "source": [
    "def cal_age(year_born):\n",
    "    current_year = 2023\n",
    "    age = current_year - year_born\n",
    "    print(age)\n",
    "cal_age(2030)"
   ]
  },
  {
   "cell_type": "code",
   "execution_count": 24,
   "id": "fe424998",
   "metadata": {},
   "outputs": [
    {
     "ename": "Exception",
     "evalue": "Invalid  year of birth",
     "output_type": "error",
     "traceback": [
      "\u001b[1;31m---------------------------------------------------------------------------\u001b[0m",
      "\u001b[1;31mException\u001b[0m                                 Traceback (most recent call last)",
      "Input \u001b[1;32mIn [24]\u001b[0m, in \u001b[0;36m<cell line: 8>\u001b[1;34m()\u001b[0m\n\u001b[0;32m      6\u001b[0m         age \u001b[38;5;241m=\u001b[39m current_year \u001b[38;5;241m-\u001b[39m year_born\n\u001b[0;32m      7\u001b[0m         \u001b[38;5;28mprint\u001b[39m(age)\n\u001b[1;32m----> 8\u001b[0m \u001b[43mcal_age\u001b[49m\u001b[43m(\u001b[49m\u001b[38;5;241;43m2030\u001b[39;49m\u001b[43m)\u001b[49m\n",
      "Input \u001b[1;32mIn [24]\u001b[0m, in \u001b[0;36mcal_age\u001b[1;34m(year_born)\u001b[0m\n\u001b[0;32m      2\u001b[0m current_year \u001b[38;5;241m=\u001b[39m \u001b[38;5;241m2023\u001b[39m\n\u001b[0;32m      3\u001b[0m \u001b[38;5;28;01mif\u001b[39;00m current_year\u001b[38;5;241m<\u001b[39myear_born:\n\u001b[1;32m----> 4\u001b[0m     \u001b[38;5;28;01mraise\u001b[39;00m \u001b[38;5;167;01mException\u001b[39;00m(\u001b[38;5;124m\"\u001b[39m\u001b[38;5;124mInvalid  year of birth\u001b[39m\u001b[38;5;124m\"\u001b[39m)\n\u001b[0;32m      5\u001b[0m \u001b[38;5;28;01melse\u001b[39;00m:\n\u001b[0;32m      6\u001b[0m     age \u001b[38;5;241m=\u001b[39m current_year \u001b[38;5;241m-\u001b[39m year_born\n",
      "\u001b[1;31mException\u001b[0m: Invalid  year of birth"
     ]
    }
   ],
   "source": [
    "def cal_age(year_born):\n",
    "    current_year = 2023\n",
    "    if current_year<year_born:\n",
    "        raise Exception(\"Invalid  year of birth\")\n",
    "    else:\n",
    "        age = current_year - year_born\n",
    "        print(age)\n",
    "cal_age(2030)"
   ]
  },
  {
   "cell_type": "code",
   "execution_count": 28,
   "id": "d278aa06",
   "metadata": {},
   "outputs": [
    {
     "name": "stdout",
     "output_type": "stream",
     "text": [
      "Invalid  year of birth\n"
     ]
    }
   ],
   "source": [
    "def cal_age(year_born):\n",
    "    current_year = 2023\n",
    "    if current_year<year_born:\n",
    "        raise Exception(\"Invalid  year of birth\")\n",
    "    else:\n",
    "        age = current_year - year_born\n",
    "        print(age)\n",
    "        \n",
    "try:        \n",
    "    cal_age(2090)\n",
    "except:\n",
    "    print(\"Invalid  year of birth\")"
   ]
  },
  {
   "cell_type": "code",
   "execution_count": 29,
   "id": "320c42b1",
   "metadata": {},
   "outputs": [],
   "source": [
    "# Syntax error\n",
    "# Exception\n",
    "#     Built in exception : class : Exception  \n",
    "#     User defined  :  using \"raise\" keyword \n",
    "\n",
    "\n",
    "\n",
    "# try:\n",
    "#     code that is prone to error\n",
    "# except Exception/precise sub-class as error (https://docs.python.org/3/library/exceptions.html#exception-hierarchy)\n",
    "#     print custom msg\n",
    "# else : \n",
    "#    if the code exceuted without any exception\n",
    "# finally :\n",
    "#    in all situation"
   ]
  },
  {
   "cell_type": "code",
   "execution_count": null,
   "id": "fc35ab8a",
   "metadata": {},
   "outputs": [],
   "source": []
  }
 ],
 "metadata": {
  "kernelspec": {
   "display_name": "Python 3 (ipykernel)",
   "language": "python",
   "name": "python3"
  },
  "language_info": {
   "codemirror_mode": {
    "name": "ipython",
    "version": 3
   },
   "file_extension": ".py",
   "mimetype": "text/x-python",
   "name": "python",
   "nbconvert_exporter": "python",
   "pygments_lexer": "ipython3",
   "version": "3.10.5"
  }
 },
 "nbformat": 4,
 "nbformat_minor": 5
}
