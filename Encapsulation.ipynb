{
 "cells": [
  {
   "cell_type": "code",
   "execution_count": 9,
   "id": "266564c1",
   "metadata": {},
   "outputs": [
    {
     "name": "stdout",
     "output_type": "stream",
     "text": [
      "AkashPatil age is : 23\n",
      "23\n",
      "17\n",
      "AkashPatil age is : 17\n"
     ]
    }
   ],
   "source": [
    "# public variable\n",
    "\n",
    "class Person:\n",
    "    # class level variable\n",
    "    country = \"india\"\n",
    "    def __init__(self,fn,ln,age):\n",
    "        self.firstName = fn\n",
    "        self.lastName = ln\n",
    "        self.age = age\n",
    "\n",
    "    def displayName(self):\n",
    "        print(self.firstName + self.lastName , \"age is :\" , self.age)\n",
    "\n",
    "    def displayCountry(self):\n",
    "        print(self.country)\n",
    "        \n",
    "        \n",
    "akash =  Person(\"Akash\",\"Patil\",23)\n",
    "akash.displayName()\n",
    "\n",
    "print(akash.age)\n",
    "akash.age = 17\n",
    "print(akash.age)\n",
    "\n",
    "\n",
    "akash.displayName()"
   ]
  },
  {
   "cell_type": "code",
   "execution_count": 17,
   "id": "55d32448",
   "metadata": {},
   "outputs": [
    {
     "name": "stdout",
     "output_type": "stream",
     "text": [
      "AkashPatil age is : 23\n",
      "17\n",
      "23\n",
      "AkashPatil age is : 23\n",
      "AkashPatil age is : 13\n"
     ]
    }
   ],
   "source": [
    "# private variable\n",
    "# this is only symbolic \n",
    "\n",
    "class Person:\n",
    "    # class level variable\n",
    "    country = \"india\"\n",
    "    def __init__(self,fn,ln,age):\n",
    "        self.firstName = fn\n",
    "        self.lastName = ln\n",
    "        self._age = age\n",
    "\n",
    "    def displayName(self):\n",
    "        print(self.firstName + self.lastName , \"age is :\" , self._age)\n",
    "\n",
    "    def displayCountry(self):\n",
    "        print(self.country)\n",
    "        \n",
    "        \n",
    "akash =  Person(\"Akash\",\"Patil\",23)\n",
    "akash.displayName()\n",
    "\n",
    "# print(akash.age)\n",
    "akash.age = 17\n",
    "print(akash.age)\n",
    "print(akash._age)\n",
    "akash.displayName()\n",
    "\n",
    "\n",
    "akash._age =13 #such changes will not be approved\n",
    "akash.displayName()"
   ]
  },
  {
   "cell_type": "code",
   "execution_count": 25,
   "id": "7111f252",
   "metadata": {},
   "outputs": [
    {
     "name": "stdout",
     "output_type": "stream",
     "text": [
      "AkashPatil age is : 23\n",
      "AkashPatil age is : 23\n",
      "17\n",
      "AkashPatil age is : 23\n",
      "AkashPatil age is : 23\n",
      "AkashPatil age is : 99\n"
     ]
    }
   ],
   "source": [
    "# Protected variable \n",
    "\n",
    "class Person:\n",
    "    # class level variable\n",
    "    country = \"india\"\n",
    "    def __init__(self,fn,ln,age):\n",
    "        self.firstName = fn\n",
    "        self.lastName = ln\n",
    "        self.__age = age\n",
    "\n",
    "    def displayName(self):\n",
    "        print(self.firstName + self.lastName , \"age is :\" , self.__age)\n",
    "\n",
    "    def displayCountry(self):\n",
    "        print(self.country)\n",
    "        \n",
    "        \n",
    "akash =  Person(\"Akash\",\"Patil\",23)\n",
    "akash.displayName()\n",
    "\n",
    "\n",
    "akash.__age = 17\n",
    "akash.displayName()\n",
    "\n",
    "print(akash.__age)\n",
    "akash.displayName()\n",
    "\n",
    "\n",
    "# Name mangling\n",
    "# akash.__age is renamed as  akash._Person__age after name mangling\n",
    "\n",
    "akash.displayName()\n",
    "akash._Person__age = 99\n",
    "\n",
    "akash.displayName()\n",
    "\n"
   ]
  },
  {
   "cell_type": "code",
   "execution_count": 32,
   "id": "aae75b59",
   "metadata": {},
   "outputs": [
    {
     "name": "stdout",
     "output_type": "stream",
     "text": [
      "AkashPatil age is : 23 is from  Pune\n",
      "AkashPatil age is : 23 is from  Pune\n",
      "17\n",
      "AkashPatil age is : 23 is from  Pune\n",
      "AkashPatil age is : 23 is from  Pune\n",
      "AkashPatil age is : 99 is from  Pune\n",
      "Beed\n",
      "AkashPatil age is : 99 is from  Pune\n",
      "Pune\n",
      "AkashPatil age is : 99 is from  Nanded\n"
     ]
    }
   ],
   "source": [
    "# Protected variable \n",
    "\n",
    "class Person:\n",
    "    # class level variable\n",
    "    country = \"india\"\n",
    "    def __init__(self,fn,ln,age,place):\n",
    "        self.firstName = fn\n",
    "        self.lastName = ln\n",
    "        self.__age = age #protected\n",
    "        self.__place = place #protected\n",
    "\n",
    "    def displayName(self):\n",
    "        print(self.firstName + self.lastName , \"age is :\" , self.__age , \"is from \" , self.__place)\n",
    "\n",
    "    def displayCountry(self):\n",
    "        print(self.country)\n",
    "        \n",
    "        \n",
    "akash =  Person(\"Akash\",\"Patil\",23,'Pune')\n",
    "akash.displayName()\n",
    "\n",
    "\n",
    "akash.__age = 17\n",
    "akash.displayName()\n",
    "\n",
    "print(akash.__age)\n",
    "akash.displayName()\n",
    "\n",
    "\n",
    "# Name mangling\n",
    "# akash.__age is renamed as  akash._Person__age after name mangling\n",
    "\n",
    "akash.displayName()\n",
    "akash._Person__age = 99\n",
    "\n",
    "akash.displayName()\n",
    "\n",
    "\n",
    "akash.__place = \"Beed\" # a new attribute with name .__place is created\n",
    "print(akash.__place)\n",
    "\n",
    "\n",
    "akash.displayName()\n",
    "\n",
    "print(akash._Person__place)\n",
    "\n",
    "akash._Person__place = \"Nanded\"\n",
    "akash.displayName()"
   ]
  },
  {
   "cell_type": "code",
   "execution_count": null,
   "id": "f7fcebf9",
   "metadata": {},
   "outputs": [],
   "source": []
  }
 ],
 "metadata": {
  "kernelspec": {
   "display_name": "Python 3 (ipykernel)",
   "language": "python",
   "name": "python3"
  },
  "language_info": {
   "codemirror_mode": {
    "name": "ipython",
    "version": 3
   },
   "file_extension": ".py",
   "mimetype": "text/x-python",
   "name": "python",
   "nbconvert_exporter": "python",
   "pygments_lexer": "ipython3",
   "version": "3.10.5"
  }
 },
 "nbformat": 4,
 "nbformat_minor": 5
}
