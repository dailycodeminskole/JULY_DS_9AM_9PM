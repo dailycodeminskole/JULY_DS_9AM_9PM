{
 "cells": [
  {
   "cell_type": "markdown",
   "id": "6edab9e2",
   "metadata": {},
   "source": [
    "# Slicing 2D array"
   ]
  },
  {
   "cell_type": "code",
   "execution_count": 2,
   "id": "2b9950a0",
   "metadata": {},
   "outputs": [],
   "source": [
    "import numpy as np"
   ]
  },
  {
   "cell_type": "code",
   "execution_count": 3,
   "id": "d67c01ac",
   "metadata": {},
   "outputs": [],
   "source": [
    "arr1 =  np.arange(25).reshape(5,5)"
   ]
  },
  {
   "cell_type": "code",
   "execution_count": 4,
   "id": "75f73e19",
   "metadata": {},
   "outputs": [
    {
     "data": {
      "text/plain": [
       "array([[ 0,  1,  2,  3,  4],\n",
       "       [ 5,  6,  7,  8,  9],\n",
       "       [10, 11, 12, 13, 14],\n",
       "       [15, 16, 17, 18, 19],\n",
       "       [20, 21, 22, 23, 24]])"
      ]
     },
     "execution_count": 4,
     "metadata": {},
     "output_type": "execute_result"
    }
   ],
   "source": [
    "arr1"
   ]
  },
  {
   "cell_type": "code",
   "execution_count": null,
   "id": "9774218c",
   "metadata": {},
   "outputs": [],
   "source": [
    "# getting rows"
   ]
  },
  {
   "cell_type": "code",
   "execution_count": 5,
   "id": "6055539d",
   "metadata": {},
   "outputs": [
    {
     "data": {
      "text/plain": [
       "array([5, 6, 7, 8, 9])"
      ]
     },
     "execution_count": 5,
     "metadata": {},
     "output_type": "execute_result"
    }
   ],
   "source": [
    "arr1[1] #required 2nd row"
   ]
  },
  {
   "cell_type": "code",
   "execution_count": 8,
   "id": "a80cad38",
   "metadata": {},
   "outputs": [
    {
     "data": {
      "text/plain": [
       "array([20, 21, 22, 23, 24])"
      ]
     },
     "execution_count": 8,
     "metadata": {},
     "output_type": "execute_result"
    }
   ],
   "source": [
    "arr1[-1] # the last row\n",
    "arr1[4] # the last row"
   ]
  },
  {
   "cell_type": "code",
   "execution_count": 12,
   "id": "63061372",
   "metadata": {},
   "outputs": [
    {
     "data": {
      "text/plain": [
       "array([[ 0,  1,  2,  3,  4],\n",
       "       [ 5,  6,  7,  8,  9],\n",
       "       [10, 11, 12, 13, 14]])"
      ]
     },
     "execution_count": 12,
     "metadata": {},
     "output_type": "execute_result"
    }
   ],
   "source": [
    "arr1[0:3]"
   ]
  },
  {
   "cell_type": "code",
   "execution_count": 13,
   "id": "7de5bc2b",
   "metadata": {},
   "outputs": [
    {
     "data": {
      "text/plain": [
       "array([[15, 16, 17, 18, 19],\n",
       "       [20, 21, 22, 23, 24]])"
      ]
     },
     "execution_count": 13,
     "metadata": {},
     "output_type": "execute_result"
    }
   ],
   "source": [
    "arr1[3:5]"
   ]
  },
  {
   "cell_type": "code",
   "execution_count": null,
   "id": "152b99ba",
   "metadata": {},
   "outputs": [],
   "source": []
  },
  {
   "cell_type": "code",
   "execution_count": 9,
   "id": "630adc15",
   "metadata": {},
   "outputs": [],
   "source": [
    "# getting columns"
   ]
  },
  {
   "cell_type": "code",
   "execution_count": 14,
   "id": "5690ba3c",
   "metadata": {},
   "outputs": [
    {
     "data": {
      "text/plain": [
       "array([[ 0,  1,  2,  3,  4],\n",
       "       [ 5,  6,  7,  8,  9],\n",
       "       [10, 11, 12, 13, 14],\n",
       "       [15, 16, 17, 18, 19],\n",
       "       [20, 21, 22, 23, 24]])"
      ]
     },
     "execution_count": 14,
     "metadata": {},
     "output_type": "execute_result"
    }
   ],
   "source": [
    "arr1"
   ]
  },
  {
   "cell_type": "code",
   "execution_count": 16,
   "id": "b006394d",
   "metadata": {},
   "outputs": [
    {
     "data": {
      "text/plain": [
       "0"
      ]
     },
     "execution_count": 16,
     "metadata": {},
     "output_type": "execute_result"
    }
   ],
   "source": [
    "arr1[0,0]"
   ]
  },
  {
   "cell_type": "code",
   "execution_count": 18,
   "id": "a96a7650",
   "metadata": {},
   "outputs": [
    {
     "data": {
      "text/plain": [
       "array([ 0,  5, 10, 15, 20])"
      ]
     },
     "execution_count": 18,
     "metadata": {},
     "output_type": "execute_result"
    }
   ],
   "source": [
    "arr1[0:5,0] #getting the 0th column"
   ]
  },
  {
   "cell_type": "code",
   "execution_count": null,
   "id": "42ac111f",
   "metadata": {},
   "outputs": [],
   "source": [
    "#getting the 2nd column"
   ]
  },
  {
   "cell_type": "code",
   "execution_count": 23,
   "id": "2f989212",
   "metadata": {},
   "outputs": [
    {
     "name": "stdout",
     "output_type": "stream",
     "text": [
      "[ 2  7 12 17 22]\n",
      "[ 2  7 12 17 22]\n"
     ]
    }
   ],
   "source": [
    "# arr1[rows, col]\n",
    "print(arr1[0:5,2])\n",
    "print(arr1[:,2])"
   ]
  },
  {
   "cell_type": "code",
   "execution_count": 24,
   "id": "ccd76573",
   "metadata": {},
   "outputs": [
    {
     "name": "stdout",
     "output_type": "stream",
     "text": [
      "[[3 4]\n",
      " [8 9]]\n"
     ]
    }
   ],
   "source": [
    "print(arr1[0:2,3:5])"
   ]
  },
  {
   "cell_type": "code",
   "execution_count": 25,
   "id": "cbba876d",
   "metadata": {},
   "outputs": [
    {
     "name": "stdout",
     "output_type": "stream",
     "text": [
      "[[11 12]\n",
      " [16 17]]\n"
     ]
    }
   ],
   "source": [
    "print(arr1[2:4,1:3])"
   ]
  },
  {
   "cell_type": "code",
   "execution_count": null,
   "id": "fefadee3",
   "metadata": {},
   "outputs": [],
   "source": []
  },
  {
   "cell_type": "code",
   "execution_count": null,
   "id": "1c5a1cea",
   "metadata": {},
   "outputs": [],
   "source": []
  },
  {
   "cell_type": "markdown",
   "id": "8018d28a",
   "metadata": {},
   "source": [
    "# Indexing with Boolean arrays"
   ]
  },
  {
   "cell_type": "code",
   "execution_count": 26,
   "id": "fca8bbce",
   "metadata": {},
   "outputs": [],
   "source": [
    "arr2 = np.arange(5,25)"
   ]
  },
  {
   "cell_type": "code",
   "execution_count": 28,
   "id": "370bd973",
   "metadata": {},
   "outputs": [
    {
     "data": {
      "text/plain": [
       "20"
      ]
     },
     "execution_count": 28,
     "metadata": {},
     "output_type": "execute_result"
    }
   ],
   "source": [
    "np.size(arr2)"
   ]
  },
  {
   "cell_type": "code",
   "execution_count": 29,
   "id": "0a9e6cf8",
   "metadata": {},
   "outputs": [
    {
     "data": {
      "text/plain": [
       "20"
      ]
     },
     "execution_count": 29,
     "metadata": {},
     "output_type": "execute_result"
    }
   ],
   "source": [
    "arr2.size"
   ]
  },
  {
   "cell_type": "code",
   "execution_count": 30,
   "id": "f5ce25eb",
   "metadata": {},
   "outputs": [],
   "source": [
    "arr2 = np.arange(5,25).reshape(5,4)"
   ]
  },
  {
   "cell_type": "code",
   "execution_count": 31,
   "id": "229e8bee",
   "metadata": {},
   "outputs": [
    {
     "data": {
      "text/plain": [
       "array([[ 5,  6,  7,  8],\n",
       "       [ 9, 10, 11, 12],\n",
       "       [13, 14, 15, 16],\n",
       "       [17, 18, 19, 20],\n",
       "       [21, 22, 23, 24]])"
      ]
     },
     "execution_count": 31,
     "metadata": {},
     "output_type": "execute_result"
    }
   ],
   "source": [
    "arr2"
   ]
  },
  {
   "cell_type": "code",
   "execution_count": 34,
   "id": "78a739cf",
   "metadata": {},
   "outputs": [],
   "source": [
    "mask1 = arr2%5 == 0"
   ]
  },
  {
   "cell_type": "code",
   "execution_count": 36,
   "id": "7bbf7b06",
   "metadata": {},
   "outputs": [],
   "source": [
    "mask2 = arr2%3 ==0"
   ]
  },
  {
   "cell_type": "code",
   "execution_count": 38,
   "id": "4d1d96d5",
   "metadata": {},
   "outputs": [
    {
     "data": {
      "text/plain": [
       "array([ 5,  6,  9, 10, 12, 15, 18, 20, 21, 24])"
      ]
     },
     "execution_count": 38,
     "metadata": {},
     "output_type": "execute_result"
    }
   ],
   "source": [
    "arr2[mask1 | mask2]"
   ]
  },
  {
   "cell_type": "code",
   "execution_count": 39,
   "id": "914c75ae",
   "metadata": {},
   "outputs": [
    {
     "ename": "ValueError",
     "evalue": "The truth value of an array with more than one element is ambiguous. Use a.any() or a.all()",
     "output_type": "error",
     "traceback": [
      "\u001b[1;31m---------------------------------------------------------------------------\u001b[0m",
      "\u001b[1;31mValueError\u001b[0m                                Traceback (most recent call last)",
      "Input \u001b[1;32mIn [39]\u001b[0m, in \u001b[0;36m<cell line: 1>\u001b[1;34m()\u001b[0m\n\u001b[1;32m----> 1\u001b[0m arr2[(mask1)] \u001b[38;5;129;01mor\u001b[39;00m arr2[( mask2)]\n",
      "\u001b[1;31mValueError\u001b[0m: The truth value of an array with more than one element is ambiguous. Use a.any() or a.all()"
     ]
    }
   ],
   "source": [
    "arr2[(mask1)] or arr2[( mask2)]"
   ]
  },
  {
   "cell_type": "code",
   "execution_count": 40,
   "id": "913195a3",
   "metadata": {},
   "outputs": [
    {
     "ename": "ValueError",
     "evalue": "operands could not be broadcast together with shapes (4,) (7,) ",
     "output_type": "error",
     "traceback": [
      "\u001b[1;31m---------------------------------------------------------------------------\u001b[0m",
      "\u001b[1;31mValueError\u001b[0m                                Traceback (most recent call last)",
      "Input \u001b[1;32mIn [40]\u001b[0m, in \u001b[0;36m<cell line: 1>\u001b[1;34m()\u001b[0m\n\u001b[1;32m----> 1\u001b[0m \u001b[43marr2\u001b[49m\u001b[43m[\u001b[49m\u001b[43m(\u001b[49m\u001b[43mmask1\u001b[49m\u001b[43m)\u001b[49m\u001b[43m]\u001b[49m\u001b[43m \u001b[49m\u001b[38;5;241;43m|\u001b[39;49m\u001b[43marr2\u001b[49m\u001b[43m[\u001b[49m\u001b[43m(\u001b[49m\u001b[43m \u001b[49m\u001b[43mmask2\u001b[49m\u001b[43m)\u001b[49m\u001b[43m]\u001b[49m\n",
      "\u001b[1;31mValueError\u001b[0m: operands could not be broadcast together with shapes (4,) (7,) "
     ]
    }
   ],
   "source": [
    "arr2[(mask1)] |arr2[( mask2)] # no of elements in both are not same , in-compatible operation"
   ]
  },
  {
   "cell_type": "code",
   "execution_count": null,
   "id": "23996ff6",
   "metadata": {},
   "outputs": [],
   "source": []
  },
  {
   "cell_type": "code",
   "execution_count": 1,
   "id": "a39eff66",
   "metadata": {},
   "outputs": [
    {
     "ename": "SyntaxError",
     "evalue": "invalid syntax (3487268980.py, line 8)",
     "output_type": "error",
     "traceback": [
      "\u001b[1;36m  Input \u001b[1;32mIn [1]\u001b[1;36m\u001b[0m\n\u001b[1;33m    1. 'Priya', 'Rohit', 'Aryan'\u001b[0m\n\u001b[1;37m       ^\u001b[0m\n\u001b[1;31mSyntaxError\u001b[0m\u001b[1;31m:\u001b[0m invalid syntax\n"
     ]
    }
   ],
   "source": [
    "# /HW\n",
    "1. # slice the array to get below name\n",
    "s = np.array([['Priya', 'Rohit', 'Aryan'],\n",
    "       ['Neha', 'Avni', 'Akash'],\n",
    "       ['Arjun', 'Riya', 'Devanshi']])\n",
    "\n",
    "\n",
    "1. 'Priya', 'Rohit', 'Aryan'\n",
    "2. 'Riya','Devanshi'\n",
    "3. 'Neha', 'Avni', 'Akash' 'Arjun', 'Riya', 'Devanshi'\n",
    "4. 'Avni'\n",
    "5. 'Neha'\n",
    "\n",
    "2. Use masking to get the values\n",
    "score = np.random.randint(10,100,15).reshape(5,3)\n",
    "1. find all scores > 50\n",
    "2. find all scores <35"
   ]
  },
  {
   "cell_type": "markdown",
   "id": "52a0aa19",
   "metadata": {},
   "source": [
    "# Universal function"
   ]
  },
  {
   "cell_type": "code",
   "execution_count": 41,
   "id": "4dd02da4",
   "metadata": {},
   "outputs": [],
   "source": [
    "a = np.array([11,22,33,44,55])\n",
    "b = np.array([1,2,3,4,5])"
   ]
  },
  {
   "cell_type": "code",
   "execution_count": 42,
   "id": "20068eb5",
   "metadata": {},
   "outputs": [
    {
     "data": {
      "text/plain": [
       "array([11, 22, 33, 44, 55])"
      ]
     },
     "execution_count": 42,
     "metadata": {},
     "output_type": "execute_result"
    }
   ],
   "source": [
    "a"
   ]
  },
  {
   "cell_type": "code",
   "execution_count": 43,
   "id": "4a98fa7b",
   "metadata": {},
   "outputs": [
    {
     "data": {
      "text/plain": [
       "array([1, 2, 3, 4, 5])"
      ]
     },
     "execution_count": 43,
     "metadata": {},
     "output_type": "execute_result"
    }
   ],
   "source": [
    "b"
   ]
  },
  {
   "cell_type": "code",
   "execution_count": 44,
   "id": "50164b20",
   "metadata": {},
   "outputs": [
    {
     "data": {
      "text/plain": [
       "array([12, 24, 36, 48, 60])"
      ]
     },
     "execution_count": 44,
     "metadata": {},
     "output_type": "execute_result"
    }
   ],
   "source": [
    "a + b"
   ]
  },
  {
   "cell_type": "code",
   "execution_count": 46,
   "id": "e2565911",
   "metadata": {},
   "outputs": [
    {
     "data": {
      "text/plain": [
       "array([12, 24, 36, 48, 62])"
      ]
     },
     "execution_count": 46,
     "metadata": {},
     "output_type": "execute_result"
    }
   ],
   "source": [
    "a = np.array([11,22,33,44,55])\n",
    "b = np.array([1,2,3,4,7])\n",
    "a + b "
   ]
  },
  {
   "cell_type": "code",
   "execution_count": 47,
   "id": "877ba744",
   "metadata": {},
   "outputs": [
    {
     "data": {
      "text/plain": [
       "array([-10, -20, -30, -40, -48])"
      ]
     },
     "execution_count": 47,
     "metadata": {},
     "output_type": "execute_result"
    }
   ],
   "source": [
    "b - a"
   ]
  },
  {
   "cell_type": "code",
   "execution_count": 48,
   "id": "7e5e846c",
   "metadata": {},
   "outputs": [
    {
     "data": {
      "text/plain": [
       "array([ 11,  44,  99, 176, 385])"
      ]
     },
     "execution_count": 48,
     "metadata": {},
     "output_type": "execute_result"
    }
   ],
   "source": [
    "a * b"
   ]
  },
  {
   "cell_type": "code",
   "execution_count": 57,
   "id": "33d21809",
   "metadata": {},
   "outputs": [],
   "source": [
    "a = np.array([11,0,33,44,55])\n",
    "b = np.array([1,2,3,4,5])"
   ]
  },
  {
   "cell_type": "code",
   "execution_count": 58,
   "id": "b52d6c22",
   "metadata": {},
   "outputs": [
    {
     "name": "stderr",
     "output_type": "stream",
     "text": [
      "C:\\Users\\RAHUL\\AppData\\Local\\Temp\\ipykernel_12748\\2243761560.py:1: RuntimeWarning: divide by zero encountered in divide\n",
      "  b/a\n"
     ]
    },
    {
     "data": {
      "text/plain": [
       "array([0.09090909,        inf, 0.09090909, 0.09090909, 0.09090909])"
      ]
     },
     "execution_count": 58,
     "metadata": {},
     "output_type": "execute_result"
    }
   ],
   "source": [
    "b/a"
   ]
  },
  {
   "cell_type": "code",
   "execution_count": null,
   "id": "098fbb9b",
   "metadata": {},
   "outputs": [],
   "source": []
  }
 ],
 "metadata": {
  "kernelspec": {
   "display_name": "Python 3 (ipykernel)",
   "language": "python",
   "name": "python3"
  },
  "language_info": {
   "codemirror_mode": {
    "name": "ipython",
    "version": 3
   },
   "file_extension": ".py",
   "mimetype": "text/x-python",
   "name": "python",
   "nbconvert_exporter": "python",
   "pygments_lexer": "ipython3",
   "version": "3.10.5"
  }
 },
 "nbformat": 4,
 "nbformat_minor": 5
}
