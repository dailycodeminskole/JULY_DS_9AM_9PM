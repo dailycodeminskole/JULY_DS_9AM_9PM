{
 "cells": [
  {
   "cell_type": "markdown",
   "id": "2b735a17",
   "metadata": {},
   "source": [
    "# Logical function"
   ]
  },
  {
   "cell_type": "code",
   "execution_count": 1,
   "id": "c0fb2791",
   "metadata": {},
   "outputs": [],
   "source": [
    "import numpy as np"
   ]
  },
  {
   "cell_type": "code",
   "execution_count": 2,
   "id": "a10c5e64",
   "metadata": {},
   "outputs": [],
   "source": [
    "# any\n",
    "# all\n",
    "# True / False"
   ]
  },
  {
   "cell_type": "code",
   "execution_count": 3,
   "id": "3141288f",
   "metadata": {},
   "outputs": [],
   "source": [
    "arr1 = np.array([11,22,33,44,0,1])"
   ]
  },
  {
   "cell_type": "code",
   "execution_count": 4,
   "id": "2ede00bb",
   "metadata": {},
   "outputs": [
    {
     "data": {
      "text/plain": [
       "array([11, 22, 33, 44,  0,  1])"
      ]
     },
     "execution_count": 4,
     "metadata": {},
     "output_type": "execute_result"
    }
   ],
   "source": [
    "arr1"
   ]
  },
  {
   "cell_type": "code",
   "execution_count": 5,
   "id": "0d11d0de",
   "metadata": {},
   "outputs": [
    {
     "data": {
      "text/plain": [
       "True"
      ]
     },
     "execution_count": 5,
     "metadata": {},
     "output_type": "execute_result"
    }
   ],
   "source": [
    "np.any(arr1)"
   ]
  },
  {
   "cell_type": "code",
   "execution_count": 6,
   "id": "4774b658",
   "metadata": {},
   "outputs": [
    {
     "data": {
      "text/plain": [
       "array([0, 0, 0, 0, 1])"
      ]
     },
     "execution_count": 6,
     "metadata": {},
     "output_type": "execute_result"
    }
   ],
   "source": [
    "arr2 = np.array([0,0,0,0,1])\n",
    "arr2"
   ]
  },
  {
   "cell_type": "code",
   "execution_count": 7,
   "id": "616fcf8a",
   "metadata": {},
   "outputs": [
    {
     "data": {
      "text/plain": [
       "True"
      ]
     },
     "execution_count": 7,
     "metadata": {},
     "output_type": "execute_result"
    }
   ],
   "source": [
    "np.any(arr2)"
   ]
  },
  {
   "cell_type": "code",
   "execution_count": 8,
   "id": "cc4f86fc",
   "metadata": {},
   "outputs": [
    {
     "data": {
      "text/plain": [
       "array([0, 0, 0, 0, 0])"
      ]
     },
     "execution_count": 8,
     "metadata": {},
     "output_type": "execute_result"
    }
   ],
   "source": [
    "arr3 = np.array([0,0,0,0,0])\n",
    "arr3"
   ]
  },
  {
   "cell_type": "code",
   "execution_count": 9,
   "id": "0b402486",
   "metadata": {},
   "outputs": [
    {
     "data": {
      "text/plain": [
       "False"
      ]
     },
     "execution_count": 9,
     "metadata": {},
     "output_type": "execute_result"
    }
   ],
   "source": [
    "np.any(arr3)"
   ]
  },
  {
   "cell_type": "code",
   "execution_count": 12,
   "id": "112503dd",
   "metadata": {},
   "outputs": [
    {
     "data": {
      "text/plain": [
       "False"
      ]
     },
     "execution_count": 12,
     "metadata": {},
     "output_type": "execute_result"
    }
   ],
   "source": [
    "arr2\n",
    "np.all(arr2)"
   ]
  },
  {
   "cell_type": "code",
   "execution_count": 13,
   "id": "32148785",
   "metadata": {},
   "outputs": [
    {
     "data": {
      "text/plain": [
       "False"
      ]
     },
     "execution_count": 13,
     "metadata": {},
     "output_type": "execute_result"
    }
   ],
   "source": [
    "arr3\n",
    "np.all(arr3)"
   ]
  },
  {
   "cell_type": "code",
   "execution_count": 14,
   "id": "98986e1f",
   "metadata": {},
   "outputs": [],
   "source": [
    "arr4 = np.array([1,1,1,1,1,1])"
   ]
  },
  {
   "cell_type": "code",
   "execution_count": 15,
   "id": "1be5470b",
   "metadata": {},
   "outputs": [
    {
     "data": {
      "text/plain": [
       "array([1, 1, 1, 1, 1, 1])"
      ]
     },
     "execution_count": 15,
     "metadata": {},
     "output_type": "execute_result"
    }
   ],
   "source": [
    "arr4"
   ]
  },
  {
   "cell_type": "code",
   "execution_count": 16,
   "id": "9dd2a60d",
   "metadata": {},
   "outputs": [
    {
     "data": {
      "text/plain": [
       "True"
      ]
     },
     "execution_count": 16,
     "metadata": {},
     "output_type": "execute_result"
    }
   ],
   "source": [
    "np.all(arr4)"
   ]
  },
  {
   "cell_type": "code",
   "execution_count": 17,
   "id": "2589eadb",
   "metadata": {},
   "outputs": [],
   "source": [
    "a =np.array([44,55])\n",
    "b = np.array([1,2])"
   ]
  },
  {
   "cell_type": "code",
   "execution_count": 18,
   "id": "e2d41707",
   "metadata": {},
   "outputs": [
    {
     "name": "stdout",
     "output_type": "stream",
     "text": [
      "[44 55]\n",
      "[1 2]\n"
     ]
    }
   ],
   "source": [
    "print(a)\n",
    "print(b)"
   ]
  },
  {
   "cell_type": "code",
   "execution_count": 19,
   "id": "fd63f65c",
   "metadata": {},
   "outputs": [
    {
     "data": {
      "text/plain": [
       "True"
      ]
     },
     "execution_count": 19,
     "metadata": {},
     "output_type": "execute_result"
    }
   ],
   "source": [
    "100>50"
   ]
  },
  {
   "cell_type": "code",
   "execution_count": 20,
   "id": "4d08add0",
   "metadata": {},
   "outputs": [
    {
     "data": {
      "text/plain": [
       "array([ True,  True])"
      ]
     },
     "execution_count": 20,
     "metadata": {},
     "output_type": "execute_result"
    }
   ],
   "source": [
    "a > b"
   ]
  },
  {
   "cell_type": "code",
   "execution_count": 21,
   "id": "69b64823",
   "metadata": {},
   "outputs": [
    {
     "data": {
      "text/plain": [
       "True"
      ]
     },
     "execution_count": 21,
     "metadata": {},
     "output_type": "execute_result"
    }
   ],
   "source": [
    "np.any(a>b)"
   ]
  },
  {
   "cell_type": "code",
   "execution_count": 22,
   "id": "0a95c3fb",
   "metadata": {},
   "outputs": [
    {
     "data": {
      "text/plain": [
       "True"
      ]
     },
     "execution_count": 22,
     "metadata": {},
     "output_type": "execute_result"
    }
   ],
   "source": [
    "np.all(a>b)"
   ]
  },
  {
   "cell_type": "code",
   "execution_count": 24,
   "id": "63c929a4",
   "metadata": {},
   "outputs": [
    {
     "data": {
      "text/plain": [
       "array([ True,  True,  True, False])"
      ]
     },
     "execution_count": 24,
     "metadata": {},
     "output_type": "execute_result"
    }
   ],
   "source": [
    "a =np.array([44,55,66,77])\n",
    "b = np.array([1,2,3,99])\n",
    "a>b"
   ]
  },
  {
   "cell_type": "code",
   "execution_count": 25,
   "id": "fcecf00b",
   "metadata": {},
   "outputs": [
    {
     "data": {
      "text/plain": [
       "True"
      ]
     },
     "execution_count": 25,
     "metadata": {},
     "output_type": "execute_result"
    }
   ],
   "source": [
    "np.any(a>b)"
   ]
  },
  {
   "cell_type": "code",
   "execution_count": 26,
   "id": "256adce3",
   "metadata": {},
   "outputs": [
    {
     "data": {
      "text/plain": [
       "False"
      ]
     },
     "execution_count": 26,
     "metadata": {},
     "output_type": "execute_result"
    }
   ],
   "source": [
    "np.all(a>b)"
   ]
  },
  {
   "cell_type": "markdown",
   "id": "b1925950",
   "metadata": {},
   "source": [
    "# Sorting"
   ]
  },
  {
   "cell_type": "code",
   "execution_count": 31,
   "id": "2f50bbd9",
   "metadata": {},
   "outputs": [],
   "source": [
    "c = np.array([44,55,11,22,77,88,10])"
   ]
  },
  {
   "cell_type": "code",
   "execution_count": 41,
   "id": "38308d3c",
   "metadata": {},
   "outputs": [
    {
     "data": {
      "text/plain": [
       "array([10, 11, 22, 44, 55, 77, 88])"
      ]
     },
     "execution_count": 41,
     "metadata": {},
     "output_type": "execute_result"
    }
   ],
   "source": [
    "np.sort(c)"
   ]
  },
  {
   "cell_type": "code",
   "execution_count": 42,
   "id": "4de4b8e2",
   "metadata": {},
   "outputs": [
    {
     "data": {
      "text/plain": [
       "array([6, 2, 3, 0, 1, 4, 5], dtype=int64)"
      ]
     },
     "execution_count": 42,
     "metadata": {},
     "output_type": "execute_result"
    }
   ],
   "source": [
    "np.argsort(c)"
   ]
  },
  {
   "cell_type": "code",
   "execution_count": 43,
   "id": "b3d8f16c",
   "metadata": {},
   "outputs": [],
   "source": [
    "# np.sort(c,ascending=False) # no such paramter available in numpy"
   ]
  },
  {
   "cell_type": "code",
   "execution_count": 44,
   "id": "a831721e",
   "metadata": {},
   "outputs": [],
   "source": [
    "sorted_ans = np.sort(c)"
   ]
  },
  {
   "cell_type": "code",
   "execution_count": 45,
   "id": "ad9901ce",
   "metadata": {},
   "outputs": [
    {
     "data": {
      "text/plain": [
       "array([10, 11, 22, 44, 55, 77, 88])"
      ]
     },
     "execution_count": 45,
     "metadata": {},
     "output_type": "execute_result"
    }
   ],
   "source": [
    "sorted_ans"
   ]
  },
  {
   "cell_type": "code",
   "execution_count": 46,
   "id": "8dd74805",
   "metadata": {},
   "outputs": [],
   "source": [
    "descending_ans = sorted_ans[::-1]"
   ]
  },
  {
   "cell_type": "code",
   "execution_count": 47,
   "id": "2cf38a6a",
   "metadata": {},
   "outputs": [
    {
     "data": {
      "text/plain": [
       "array([88, 77, 55, 44, 22, 11, 10])"
      ]
     },
     "execution_count": 47,
     "metadata": {},
     "output_type": "execute_result"
    }
   ],
   "source": [
    "descending_ans"
   ]
  },
  {
   "cell_type": "code",
   "execution_count": 48,
   "id": "566c58b8",
   "metadata": {},
   "outputs": [
    {
     "data": {
      "text/plain": [
       "array([88, 77, 55, 44, 22, 11, 10])"
      ]
     },
     "execution_count": 48,
     "metadata": {},
     "output_type": "execute_result"
    }
   ],
   "source": [
    "np.flip(sorted_ans)"
   ]
  },
  {
   "cell_type": "code",
   "execution_count": 51,
   "id": "0e32b2ae",
   "metadata": {},
   "outputs": [
    {
     "name": "stdout",
     "output_type": "stream",
     "text": [
      "[44 55 11 22 77 88 10]\n"
     ]
    },
    {
     "data": {
      "text/plain": [
       "array([10, 88, 77, 22, 11, 55, 44])"
      ]
     },
     "execution_count": 51,
     "metadata": {},
     "output_type": "execute_result"
    }
   ],
   "source": [
    "print(c)\n",
    "np.flip(c) # to reverse the order as per index posn"
   ]
  },
  {
   "cell_type": "code",
   "execution_count": 52,
   "id": "24e18e34",
   "metadata": {},
   "outputs": [
    {
     "data": {
      "text/plain": [
       "array([44, 55, 11, 22, 77, 88, 10])"
      ]
     },
     "execution_count": 52,
     "metadata": {},
     "output_type": "execute_result"
    }
   ],
   "source": [
    "c"
   ]
  },
  {
   "cell_type": "code",
   "execution_count": 53,
   "id": "bc0e7bc4",
   "metadata": {},
   "outputs": [
    {
     "name": "stdout",
     "output_type": "stream",
     "text": [
      "[44 55 11 22 77 88 10]\n"
     ]
    }
   ],
   "source": [
    "print(c) 55 11 22 77 "
   ]
  },
  {
   "cell_type": "code",
   "execution_count": null,
   "id": "a6a8d2c1",
   "metadata": {},
   "outputs": [],
   "source": []
  }
 ],
 "metadata": {
  "kernelspec": {
   "display_name": "Python 3 (ipykernel)",
   "language": "python",
   "name": "python3"
  },
  "language_info": {
   "codemirror_mode": {
    "name": "ipython",
    "version": 3
   },
   "file_extension": ".py",
   "mimetype": "text/x-python",
   "name": "python",
   "nbconvert_exporter": "python",
   "pygments_lexer": "ipython3",
   "version": "3.10.5"
  }
 },
 "nbformat": 4,
 "nbformat_minor": 5
}
