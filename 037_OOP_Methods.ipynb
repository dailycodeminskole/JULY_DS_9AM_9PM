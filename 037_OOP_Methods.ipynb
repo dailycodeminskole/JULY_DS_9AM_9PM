{
 "cells": [
  {
   "cell_type": "code",
   "execution_count": 1,
   "id": "3026e942",
   "metadata": {},
   "outputs": [],
   "source": [
    "# creat a class Account\n",
    "# acc id and balance\n",
    "# acc 1 , id =1 , bal =100\n",
    "# acc 2 ; id =2 , bal = 0"
   ]
  },
  {
   "cell_type": "code",
   "execution_count": 9,
   "id": "b5b9ae95",
   "metadata": {},
   "outputs": [
    {
     "name": "stdout",
     "output_type": "stream",
     "text": [
      "Acc  no is : 1 and bal is 100\n",
      "Acc  no is : 2 and bal is 0\n"
     ]
    }
   ],
   "source": [
    "class Account():\n",
    "    counter  =  0 #class attribute\n",
    "    def __init__(self,opening_bal=0):\n",
    "        Account.counter = Account.counter +1\n",
    "        self.id = Account.counter\n",
    "        self.bal =  opening_bal\n",
    "    def __str__(self):\n",
    "        return f\"Acc  no is : {self.id} and bal is {self.bal}\"\n",
    "    \n",
    "a1 = Account(100)\n",
    "print(a1)\n",
    "\n",
    "a2 =  Account()\n",
    "print(a2)\n",
    "\n",
    "    "
   ]
  },
  {
   "cell_type": "code",
   "execution_count": 11,
   "id": "369ec1b5",
   "metadata": {},
   "outputs": [
    {
     "name": "stdout",
     "output_type": "stream",
     "text": [
      "Acc  no is : 1 and bal is 100\n",
      "Acc  no is : 2 and bal is 0\n",
      "Acc  no is : 1 and bal is 200\n"
     ]
    }
   ],
   "source": [
    "# adding more functionalities to the acc\n",
    "# deposit\n",
    "\n",
    "\n",
    "class Account():\n",
    "    counter  =  0 #class attribute\n",
    "    def __init__(self,opening_bal=0):\n",
    "        Account.counter = Account.counter +1\n",
    "        self.id = Account.counter\n",
    "        self.bal =  opening_bal\n",
    "    def __str__(self):\n",
    "        return f\"Acc  no is : {self.id} and bal is {self.bal}\"\n",
    "    def deposit(self,amount):\n",
    "        self.bal=  self.bal+ amount\n",
    "    \n",
    "a1 = Account(100)\n",
    "print(a1)\n",
    "\n",
    "a2 =  Account()\n",
    "print(a2)\n",
    "\n",
    "\n",
    "a1.deposit(100)\n",
    "print(a1)"
   ]
  },
  {
   "cell_type": "code",
   "execution_count": 13,
   "id": "0a527510",
   "metadata": {},
   "outputs": [
    {
     "name": "stdout",
     "output_type": "stream",
     "text": [
      "Acc  no is : 1 and bal is 100\n",
      "Acc  no is : 2 and bal is 0\n",
      "Acc  no is : 1 and bal is 200\n",
      "Acc  no is : 1 and bal is 150\n",
      "Acc  no is : 1 and bal is -350\n"
     ]
    }
   ],
   "source": [
    "# adding more functionalities to the acc\n",
    "# withdrawal\n",
    "\n",
    "\n",
    "class Account():\n",
    "    counter  =  0 #class attribute\n",
    "    def __init__(self,opening_bal=0):\n",
    "        Account.counter = Account.counter +1\n",
    "        self.id = Account.counter\n",
    "        self.bal =  opening_bal\n",
    "    def __str__(self):\n",
    "        return f\"Acc  no is : {self.id} and bal is {self.bal}\"\n",
    "    \n",
    "    def deposit(self,amount):\n",
    "        self.bal=  self.bal+ amount\n",
    "    \n",
    "    def withdraw(self,amount):\n",
    "        self.bal=  self.bal- amount\n",
    "        \n",
    "a1 = Account(100)\n",
    "print(a1)\n",
    "\n",
    "a2 =  Account()\n",
    "print(a2)\n",
    "\n",
    "\n",
    "a1.deposit(100)\n",
    "print(a1)\n",
    "\n",
    "a1.withdraw(50)\n",
    "print(a1)\n",
    "\n",
    "\n",
    "\n",
    "a1.withdraw(500)\n",
    "print(a1)"
   ]
  },
  {
   "cell_type": "code",
   "execution_count": 18,
   "id": "36e46ce7",
   "metadata": {
    "scrolled": true
   },
   "outputs": [
    {
     "name": "stdout",
     "output_type": "stream",
     "text": [
      "Acc  no is : 1 and bal is 100\n",
      "Acc  no is : 2 and bal is 0\n",
      "Acc  no is : 1 and bal is 200\n",
      "Acc  no is : 1 and bal is 150\n",
      "Acc  no is : 1 and bal is 150\n",
      "Acc  no is : 1 and bal is 150\n"
     ]
    }
   ],
   "source": [
    "\n",
    "# adding more functionalities to the acc\n",
    "# withdrawal\n",
    "#  addding checks on the function\n",
    "\n",
    "\n",
    "class Account():\n",
    "    counter  =  0 #class attribute\n",
    "    def __init__(self,opening_bal=0):\n",
    "        Account.counter = Account.counter +1\n",
    "        self.id = Account.counter\n",
    "        self.bal =  opening_bal\n",
    "    def __str__(self):\n",
    "        return f\"Acc  no is : {self.id} and bal is {self.bal}\"\n",
    "    \n",
    "    def deposit(self,amount):\n",
    "        if amount > 0:\n",
    "            self.bal=  self.bal+ amount\n",
    "    \n",
    "    def withdraw(self,amount):\n",
    "        if amount > 0 and self.bal >=amount:\n",
    "            self.bal=  self.bal- amount\n",
    "            \n",
    "        \n",
    "a1 = Account(100)\n",
    "print(a1)\n",
    "\n",
    "a2 =  Account()\n",
    "print(a2)\n",
    "\n",
    "\n",
    "a1.deposit(100)\n",
    "print(a1)\n",
    "\n",
    "a1.withdraw(50)\n",
    "print(a1)\n",
    "\n",
    "\n",
    "a1.withdraw(500)\n",
    "print(a1)\n",
    "\n",
    "a1.deposit(-1000) #no neg amount can be deposited\n",
    "print(a1)"
   ]
  },
  {
   "cell_type": "code",
   "execution_count": null,
   "id": "577bdd28",
   "metadata": {},
   "outputs": [],
   "source": []
  }
 ],
 "metadata": {
  "kernelspec": {
   "display_name": "Python 3 (ipykernel)",
   "language": "python",
   "name": "python3"
  },
  "language_info": {
   "codemirror_mode": {
    "name": "ipython",
    "version": 3
   },
   "file_extension": ".py",
   "mimetype": "text/x-python",
   "name": "python",
   "nbconvert_exporter": "python",
   "pygments_lexer": "ipython3",
   "version": "3.10.5"
  }
 },
 "nbformat": 4,
 "nbformat_minor": 5
}
