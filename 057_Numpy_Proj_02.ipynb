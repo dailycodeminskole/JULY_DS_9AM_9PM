{
 "cells": [
  {
   "cell_type": "code",
   "execution_count": 1,
   "id": "cc020035",
   "metadata": {},
   "outputs": [],
   "source": [
    "import numpy as np"
   ]
  },
  {
   "cell_type": "code",
   "execution_count": 2,
   "id": "f176b53f",
   "metadata": {},
   "outputs": [],
   "source": [
    "# numpy support only homogenous data type"
   ]
  },
  {
   "cell_type": "markdown",
   "id": "cbdb2a50",
   "metadata": {},
   "source": [
    "# Loading the raw data into numpy"
   ]
  },
  {
   "cell_type": "code",
   "execution_count": 3,
   "id": "b52ad8dd",
   "metadata": {},
   "outputs": [],
   "source": [
    "data = np.loadtxt('fitbit.txt',dtype='str') #converintg all the elements into string data type"
   ]
  },
  {
   "cell_type": "code",
   "execution_count": 4,
   "id": "69d91978",
   "metadata": {},
   "outputs": [
    {
     "data": {
      "text/plain": [
       "array([['06-10-2017', '5464', '200', '181', '6', '0', '68'],\n",
       "       ['07-10-2017', '7167', '200', '208', '6', '0', '68'],\n",
       "       ['08-10-2017', '9874', '300', '341', '5', '0', '68'],\n",
       "       ['09-10-2017', '4969', '100', '190', '8', '0', '68'],\n",
       "       ['10-10-2017', '8538', '300', '307', '5', '0', '68'],\n",
       "       ['11-10-2017', '9875', '300', '302', '5', '0', '68'],\n",
       "       ['12-10-2017', '4662', '100', '198', '8', '0', '68'],\n",
       "       ['13-10-2017', '6310', '200', '201', '6', '0', '68'],\n",
       "       ['14-10-2017', '7556', '200', '195', '6', '0', '68'],\n",
       "       ['15-10-2017', '9073', '300', '327', '5', '0', '68'],\n",
       "       ['16-10-2017', '9690', '300', '331', '5', '0', '68'],\n",
       "       ['17-10-2017', '9146', '300', '318', '5', '0', '68'],\n",
       "       ['18-10-2017', '9752', '300', '344', '5', '0', '68'],\n",
       "       ['19-10-2017', '6974', '200', '204', '6', '0', '68'],\n",
       "       ['20-10-2017', '5619', '200', '180', '6', '0', '68'],\n",
       "       ['21-10-2017', '6889', '200', '201', '6', '0', '68'],\n",
       "       ['22-10-2017', '8616', '300', '329', '5', '0', '68'],\n",
       "       ['23-10-2017', '9131', '300', '315', '5', '0', '68'],\n",
       "       ['24-10-2017', '4211', '100', '197', '8', '0', '68'],\n",
       "       ['25-10-2017', '4291', '100', '184', '8', '0', '68'],\n",
       "       ['26-10-2017', '8569', '300', '328', '5', '0', '68'],\n",
       "       ['27-10-2017', '9337', '300', '322', '5', '0', '68'],\n",
       "       ['28-10-2017', '8475', '300', '327', '5', '0', '68'],\n",
       "       ['29-10-2017', '4510', '100', '148', '8', '0', '68'],\n",
       "       ['30-10-2017', '6347', '200', '235', '6', '0', '68'],\n",
       "       ['31-10-2017', '5911', '200', '184', '6', '0', '68']], dtype='<U10')"
      ]
     },
     "execution_count": 4,
     "metadata": {},
     "output_type": "execute_result"
    }
   ],
   "source": [
    "data"
   ]
  },
  {
   "cell_type": "code",
   "execution_count": 5,
   "id": "2e28ec86",
   "metadata": {},
   "outputs": [
    {
     "name": "stdout",
     "output_type": "stream",
     "text": [
      "[['06-10-2017' '5464' '200' '181' '6' '0' '68']\n",
      " ['07-10-2017' '7167' '200' '208' '6' '0' '68']\n",
      " ['08-10-2017' '9874' '300' '341' '5' '0' '68']\n",
      " ['09-10-2017' '4969' '100' '190' '8' '0' '68']\n",
      " ['10-10-2017' '8538' '300' '307' '5' '0' '68']\n",
      " ['11-10-2017' '9875' '300' '302' '5' '0' '68']\n",
      " ['12-10-2017' '4662' '100' '198' '8' '0' '68']\n",
      " ['13-10-2017' '6310' '200' '201' '6' '0' '68']\n",
      " ['14-10-2017' '7556' '200' '195' '6' '0' '68']\n",
      " ['15-10-2017' '9073' '300' '327' '5' '0' '68']\n",
      " ['16-10-2017' '9690' '300' '331' '5' '0' '68']\n",
      " ['17-10-2017' '9146' '300' '318' '5' '0' '68']\n",
      " ['18-10-2017' '9752' '300' '344' '5' '0' '68']\n",
      " ['19-10-2017' '6974' '200' '204' '6' '0' '68']\n",
      " ['20-10-2017' '5619' '200' '180' '6' '0' '68']\n",
      " ['21-10-2017' '6889' '200' '201' '6' '0' '68']\n",
      " ['22-10-2017' '8616' '300' '329' '5' '0' '68']\n",
      " ['23-10-2017' '9131' '300' '315' '5' '0' '68']\n",
      " ['24-10-2017' '4211' '100' '197' '8' '0' '68']\n",
      " ['25-10-2017' '4291' '100' '184' '8' '0' '68']\n",
      " ['26-10-2017' '8569' '300' '328' '5' '0' '68']\n",
      " ['27-10-2017' '9337' '300' '322' '5' '0' '68']\n",
      " ['28-10-2017' '8475' '300' '327' '5' '0' '68']\n",
      " ['29-10-2017' '4510' '100' '148' '8' '0' '68']\n",
      " ['30-10-2017' '6347' '200' '235' '6' '0' '68']\n",
      " ['31-10-2017' '5911' '200' '184' '6' '0' '68']]\n"
     ]
    }
   ],
   "source": [
    "print(data)"
   ]
  },
  {
   "cell_type": "markdown",
   "id": "dc31d8c1",
   "metadata": {},
   "source": [
    "# checking various parameters"
   ]
  },
  {
   "cell_type": "code",
   "execution_count": 6,
   "id": "ac04c4f0",
   "metadata": {},
   "outputs": [
    {
     "data": {
      "text/plain": [
       "(26, 7)"
      ]
     },
     "execution_count": 6,
     "metadata": {},
     "output_type": "execute_result"
    }
   ],
   "source": [
    "data.shape"
   ]
  },
  {
   "cell_type": "code",
   "execution_count": 7,
   "id": "d9b5f658",
   "metadata": {},
   "outputs": [
    {
     "data": {
      "text/plain": [
       "182"
      ]
     },
     "execution_count": 7,
     "metadata": {},
     "output_type": "execute_result"
    }
   ],
   "source": [
    "data.size"
   ]
  },
  {
   "cell_type": "code",
   "execution_count": 8,
   "id": "e20aef50",
   "metadata": {},
   "outputs": [
    {
     "data": {
      "text/plain": [
       "2"
      ]
     },
     "execution_count": 8,
     "metadata": {},
     "output_type": "execute_result"
    }
   ],
   "source": [
    "data.ndim"
   ]
  },
  {
   "cell_type": "code",
   "execution_count": 9,
   "id": "675f82d5",
   "metadata": {},
   "outputs": [
    {
     "data": {
      "text/plain": [
       "dtype('<U10')"
      ]
     },
     "execution_count": 9,
     "metadata": {},
     "output_type": "execute_result"
    }
   ],
   "source": [
    "data.dtype"
   ]
  },
  {
   "cell_type": "markdown",
   "id": "01ea01d4",
   "metadata": {},
   "source": [
    "# Cheking the data"
   ]
  },
  {
   "cell_type": "code",
   "execution_count": 10,
   "id": "a9827575",
   "metadata": {},
   "outputs": [
    {
     "data": {
      "text/plain": [
       "array(['06-10-2017', '5464', '200', '181', '6', '0', '68'], dtype='<U10')"
      ]
     },
     "execution_count": 10,
     "metadata": {},
     "output_type": "execute_result"
    }
   ],
   "source": [
    "data[0]"
   ]
  },
  {
   "cell_type": "code",
   "execution_count": 11,
   "id": "2a2258bd",
   "metadata": {},
   "outputs": [],
   "source": [
    "# transposing the data"
   ]
  },
  {
   "cell_type": "code",
   "execution_count": 12,
   "id": "b9086982",
   "metadata": {},
   "outputs": [
    {
     "data": {
      "text/plain": [
       "array([['06-10-2017', '07-10-2017', '08-10-2017', '09-10-2017',\n",
       "        '10-10-2017', '11-10-2017', '12-10-2017', '13-10-2017',\n",
       "        '14-10-2017', '15-10-2017', '16-10-2017', '17-10-2017',\n",
       "        '18-10-2017', '19-10-2017', '20-10-2017', '21-10-2017',\n",
       "        '22-10-2017', '23-10-2017', '24-10-2017', '25-10-2017',\n",
       "        '26-10-2017', '27-10-2017', '28-10-2017', '29-10-2017',\n",
       "        '30-10-2017', '31-10-2017'],\n",
       "       ['5464', '7167', '9874', '4969', '8538', '9875', '4662', '6310',\n",
       "        '7556', '9073', '9690', '9146', '9752', '6974', '5619', '6889',\n",
       "        '8616', '9131', '4211', '4291', '8569', '9337', '8475', '4510',\n",
       "        '6347', '5911'],\n",
       "       ['200', '200', '300', '100', '300', '300', '100', '200', '200',\n",
       "        '300', '300', '300', '300', '200', '200', '200', '300', '300',\n",
       "        '100', '100', '300', '300', '300', '100', '200', '200'],\n",
       "       ['181', '208', '341', '190', '307', '302', '198', '201', '195',\n",
       "        '327', '331', '318', '344', '204', '180', '201', '329', '315',\n",
       "        '197', '184', '328', '322', '327', '148', '235', '184'],\n",
       "       ['6', '6', '5', '8', '5', '5', '8', '6', '6', '5', '5', '5', '5',\n",
       "        '6', '6', '6', '5', '5', '8', '8', '5', '5', '5', '8', '6', '6'],\n",
       "       ['0', '0', '0', '0', '0', '0', '0', '0', '0', '0', '0', '0', '0',\n",
       "        '0', '0', '0', '0', '0', '0', '0', '0', '0', '0', '0', '0', '0'],\n",
       "       ['68', '68', '68', '68', '68', '68', '68', '68', '68', '68', '68',\n",
       "        '68', '68', '68', '68', '68', '68', '68', '68', '68', '68', '68',\n",
       "        '68', '68', '68', '68']], dtype='<U10')"
      ]
     },
     "execution_count": 12,
     "metadata": {},
     "output_type": "execute_result"
    }
   ],
   "source": [
    "data.T"
   ]
  },
  {
   "cell_type": "code",
   "execution_count": 13,
   "id": "6c623066",
   "metadata": {},
   "outputs": [
    {
     "data": {
      "text/plain": [
       "array(['06-10-2017', '07-10-2017', '08-10-2017', '09-10-2017',\n",
       "       '10-10-2017', '11-10-2017', '12-10-2017', '13-10-2017',\n",
       "       '14-10-2017', '15-10-2017', '16-10-2017', '17-10-2017',\n",
       "       '18-10-2017', '19-10-2017', '20-10-2017', '21-10-2017',\n",
       "       '22-10-2017', '23-10-2017', '24-10-2017', '25-10-2017',\n",
       "       '26-10-2017', '27-10-2017', '28-10-2017', '29-10-2017',\n",
       "       '30-10-2017', '31-10-2017'], dtype='<U10')"
      ]
     },
     "execution_count": 13,
     "metadata": {},
     "output_type": "execute_result"
    }
   ],
   "source": [
    "data.T[0]\n"
   ]
  },
  {
   "cell_type": "code",
   "execution_count": 14,
   "id": "2f435e9a",
   "metadata": {},
   "outputs": [],
   "source": [
    "# packing and unpacking the data\n",
    "date, step_count,mood,calories_burned,hours_of_sleep,bool_of_active,weight_kg = data.T"
   ]
  },
  {
   "cell_type": "code",
   "execution_count": 15,
   "id": "0f15ae2a",
   "metadata": {},
   "outputs": [
    {
     "data": {
      "text/plain": [
       "array(['06-10-2017', '07-10-2017', '08-10-2017', '09-10-2017',\n",
       "       '10-10-2017', '11-10-2017', '12-10-2017', '13-10-2017',\n",
       "       '14-10-2017', '15-10-2017', '16-10-2017', '17-10-2017',\n",
       "       '18-10-2017', '19-10-2017', '20-10-2017', '21-10-2017',\n",
       "       '22-10-2017', '23-10-2017', '24-10-2017', '25-10-2017',\n",
       "       '26-10-2017', '27-10-2017', '28-10-2017', '29-10-2017',\n",
       "       '30-10-2017', '31-10-2017'], dtype='<U10')"
      ]
     },
     "execution_count": 15,
     "metadata": {},
     "output_type": "execute_result"
    }
   ],
   "source": [
    "date"
   ]
  },
  {
   "cell_type": "code",
   "execution_count": 16,
   "id": "c362e4d2",
   "metadata": {},
   "outputs": [
    {
     "data": {
      "text/plain": [
       "array(['5464', '7167', '9874', '4969', '8538', '9875', '4662', '6310',\n",
       "       '7556', '9073', '9690', '9146', '9752', '6974', '5619', '6889',\n",
       "       '8616', '9131', '4211', '4291', '8569', '9337', '8475', '4510',\n",
       "       '6347', '5911'], dtype='<U10')"
      ]
     },
     "execution_count": 16,
     "metadata": {},
     "output_type": "execute_result"
    }
   ],
   "source": [
    "step_count"
   ]
  },
  {
   "cell_type": "code",
   "execution_count": 17,
   "id": "ab3e140c",
   "metadata": {},
   "outputs": [
    {
     "data": {
      "text/plain": [
       "dtype('<U10')"
      ]
     },
     "execution_count": 17,
     "metadata": {},
     "output_type": "execute_result"
    }
   ],
   "source": [
    "step_count.dtype"
   ]
  },
  {
   "cell_type": "markdown",
   "id": "b4c55c1f",
   "metadata": {},
   "source": [
    "# converting various features into int dtype"
   ]
  },
  {
   "cell_type": "code",
   "execution_count": 18,
   "id": "7fc2c8de",
   "metadata": {},
   "outputs": [],
   "source": [
    "step_count = np.array(step_count,dtype='int')"
   ]
  },
  {
   "cell_type": "code",
   "execution_count": 19,
   "id": "ec2a7aa2",
   "metadata": {},
   "outputs": [
    {
     "data": {
      "text/plain": [
       "array([5464, 7167, 9874, 4969, 8538, 9875, 4662, 6310, 7556, 9073, 9690,\n",
       "       9146, 9752, 6974, 5619, 6889, 8616, 9131, 4211, 4291, 8569, 9337,\n",
       "       8475, 4510, 6347, 5911])"
      ]
     },
     "execution_count": 19,
     "metadata": {},
     "output_type": "execute_result"
    }
   ],
   "source": [
    "step_count"
   ]
  },
  {
   "cell_type": "code",
   "execution_count": 20,
   "id": "df466ad6",
   "metadata": {},
   "outputs": [
    {
     "data": {
      "text/plain": [
       "dtype('int32')"
      ]
     },
     "execution_count": 20,
     "metadata": {},
     "output_type": "execute_result"
    }
   ],
   "source": [
    "step_count.dtype"
   ]
  },
  {
   "cell_type": "code",
   "execution_count": 21,
   "id": "e98bd386",
   "metadata": {},
   "outputs": [],
   "source": [
    "# mood = np.array(mood,dtype='int')\n",
    "calories_burned = np.array(calories_burned,dtype='int')\n",
    "hours_of_sleep = np.array(hours_of_sleep,dtype='int')"
   ]
  },
  {
   "cell_type": "code",
   "execution_count": 22,
   "id": "d644536d",
   "metadata": {},
   "outputs": [
    {
     "data": {
      "text/plain": [
       "array(['200', '200', '300', '100', '300', '300', '100', '200', '200',\n",
       "       '300', '300', '300', '300', '200', '200', '200', '300', '300',\n",
       "       '100', '100', '300', '300', '300', '100', '200', '200'],\n",
       "      dtype='<U10')"
      ]
     },
     "execution_count": 22,
     "metadata": {},
     "output_type": "execute_result"
    }
   ],
   "source": [
    "mood"
   ]
  },
  {
   "cell_type": "code",
   "execution_count": 23,
   "id": "c7dddc32",
   "metadata": {},
   "outputs": [
    {
     "data": {
      "text/plain": [
       "dtype('<U10')"
      ]
     },
     "execution_count": 23,
     "metadata": {},
     "output_type": "execute_result"
    }
   ],
   "source": [
    "mood.dtype"
   ]
  },
  {
   "cell_type": "code",
   "execution_count": 24,
   "id": "ae827413",
   "metadata": {},
   "outputs": [],
   "source": [
    "# int(np.array(int(step_count))\n",
    "# np.array()"
   ]
  },
  {
   "cell_type": "code",
   "execution_count": 25,
   "id": "eafb5b4e",
   "metadata": {},
   "outputs": [
    {
     "data": {
      "text/plain": [
       "(26, 7)"
      ]
     },
     "execution_count": 25,
     "metadata": {},
     "output_type": "execute_result"
    }
   ],
   "source": [
    "data.shape"
   ]
  },
  {
   "cell_type": "code",
   "execution_count": 26,
   "id": "c1b74e09",
   "metadata": {},
   "outputs": [],
   "source": [
    "# taking a closer look inside the mood column"
   ]
  },
  {
   "cell_type": "code",
   "execution_count": 27,
   "id": "64ee1d29",
   "metadata": {},
   "outputs": [
    {
     "data": {
      "text/plain": [
       "1"
      ]
     },
     "execution_count": 27,
     "metadata": {},
     "output_type": "execute_result"
    }
   ],
   "source": [
    "mood.ndim"
   ]
  },
  {
   "cell_type": "code",
   "execution_count": 28,
   "id": "b8e039f7",
   "metadata": {},
   "outputs": [
    {
     "data": {
      "text/plain": [
       "array(['200', '200', '300', '100', '300', '300', '100', '200', '200',\n",
       "       '300', '300', '300', '300', '200', '200', '200', '300', '300',\n",
       "       '100', '100', '300', '300', '300', '100', '200', '200'],\n",
       "      dtype='<U10')"
      ]
     },
     "execution_count": 28,
     "metadata": {},
     "output_type": "execute_result"
    }
   ],
   "source": [
    "mood"
   ]
  },
  {
   "cell_type": "code",
   "execution_count": 29,
   "id": "cae70e92",
   "metadata": {},
   "outputs": [
    {
     "data": {
      "text/plain": [
       "array(['100', '200', '300'], dtype='<U10')"
      ]
     },
     "execution_count": 29,
     "metadata": {},
     "output_type": "execute_result"
    }
   ],
   "source": [
    "# to get number of unique valus ?\n",
    "np.unique(mood)"
   ]
  },
  {
   "cell_type": "code",
   "execution_count": 30,
   "id": "1335f9d7",
   "metadata": {},
   "outputs": [
    {
     "data": {
      "text/plain": [
       "'\\n100 Sad\\n200 Neutral\\n300 happy\\n'"
      ]
     },
     "execution_count": 30,
     "metadata": {},
     "output_type": "execute_result"
    }
   ],
   "source": [
    "'''\n",
    "100 Sad\n",
    "200 Neutral\n",
    "300 happy\n",
    "'''"
   ]
  },
  {
   "cell_type": "code",
   "execution_count": 31,
   "id": "157db5bf",
   "metadata": {},
   "outputs": [],
   "source": [
    "# converting the numerical form to string format"
   ]
  },
  {
   "cell_type": "code",
   "execution_count": 35,
   "id": "4f402b74",
   "metadata": {},
   "outputs": [
    {
     "data": {
      "text/plain": [
       "array([False, False, False,  True, False, False,  True, False, False,\n",
       "       False, False, False, False, False, False, False, False, False,\n",
       "        True,  True, False, False, False,  True, False, False])"
      ]
     },
     "execution_count": 35,
     "metadata": {},
     "output_type": "execute_result"
    }
   ],
   "source": [
    "mood == '100' #using this as mask"
   ]
  },
  {
   "cell_type": "code",
   "execution_count": 37,
   "id": "b096bb55",
   "metadata": {},
   "outputs": [
    {
     "data": {
      "text/plain": [
       "array(['100', '100', '100', '100', '100'], dtype='<U10')"
      ]
     },
     "execution_count": 37,
     "metadata": {},
     "output_type": "execute_result"
    }
   ],
   "source": [
    "mood[mood == '100']"
   ]
  },
  {
   "cell_type": "code",
   "execution_count": 38,
   "id": "0a657a4a",
   "metadata": {},
   "outputs": [],
   "source": [
    "# now replacing the values \n",
    "mood[mood == '100'] = 'Sad'"
   ]
  },
  {
   "cell_type": "code",
   "execution_count": 39,
   "id": "7a2154f6",
   "metadata": {},
   "outputs": [
    {
     "data": {
      "text/plain": [
       "array(['200', '200', '300', 'Sad', '300', '300', 'Sad', '200', '200',\n",
       "       '300', '300', '300', '300', '200', '200', '200', '300', '300',\n",
       "       'Sad', 'Sad', '300', '300', '300', 'Sad', '200', '200'],\n",
       "      dtype='<U10')"
      ]
     },
     "execution_count": 39,
     "metadata": {},
     "output_type": "execute_result"
    }
   ],
   "source": [
    "mood"
   ]
  },
  {
   "cell_type": "code",
   "execution_count": 40,
   "id": "8dc64a8e",
   "metadata": {},
   "outputs": [
    {
     "data": {
      "text/plain": [
       "array([ True,  True, False, False, False, False, False,  True,  True,\n",
       "       False, False, False, False,  True,  True,  True, False, False,\n",
       "       False, False, False, False, False, False,  True,  True])"
      ]
     },
     "execution_count": 40,
     "metadata": {},
     "output_type": "execute_result"
    }
   ],
   "source": [
    "mood == '200'"
   ]
  },
  {
   "cell_type": "code",
   "execution_count": 41,
   "id": "09a420ca",
   "metadata": {},
   "outputs": [
    {
     "data": {
      "text/plain": [
       "array(['200', '200', '200', '200', '200', '200', '200', '200', '200'],\n",
       "      dtype='<U10')"
      ]
     },
     "execution_count": 41,
     "metadata": {},
     "output_type": "execute_result"
    }
   ],
   "source": [
    "mood[mood == '200']"
   ]
  },
  {
   "cell_type": "code",
   "execution_count": 42,
   "id": "4e1d9f84",
   "metadata": {},
   "outputs": [],
   "source": [
    "mood[mood == '200'] = 'Neutral'"
   ]
  },
  {
   "cell_type": "code",
   "execution_count": 43,
   "id": "57aac6be",
   "metadata": {},
   "outputs": [
    {
     "data": {
      "text/plain": [
       "array(['Neutral', 'Neutral', '300', 'Sad', '300', '300', 'Sad', 'Neutral',\n",
       "       'Neutral', '300', '300', '300', '300', 'Neutral', 'Neutral',\n",
       "       'Neutral', '300', '300', 'Sad', 'Sad', '300', '300', '300', 'Sad',\n",
       "       'Neutral', 'Neutral'], dtype='<U10')"
      ]
     },
     "execution_count": 43,
     "metadata": {},
     "output_type": "execute_result"
    }
   ],
   "source": [
    "mood"
   ]
  },
  {
   "cell_type": "code",
   "execution_count": 44,
   "id": "886547a4",
   "metadata": {},
   "outputs": [],
   "source": [
    "mood[mood == '300'] = 'Happy'"
   ]
  },
  {
   "cell_type": "code",
   "execution_count": 45,
   "id": "af9fb342",
   "metadata": {},
   "outputs": [
    {
     "data": {
      "text/plain": [
       "array(['Neutral', 'Neutral', 'Happy', 'Sad', 'Happy', 'Happy', 'Sad',\n",
       "       'Neutral', 'Neutral', 'Happy', 'Happy', 'Happy', 'Happy',\n",
       "       'Neutral', 'Neutral', 'Neutral', 'Happy', 'Happy', 'Sad', 'Sad',\n",
       "       'Happy', 'Happy', 'Happy', 'Sad', 'Neutral', 'Neutral'],\n",
       "      dtype='<U10')"
      ]
     },
     "execution_count": 45,
     "metadata": {},
     "output_type": "execute_result"
    }
   ],
   "source": [
    "mood"
   ]
  },
  {
   "cell_type": "code",
   "execution_count": 46,
   "id": "f049ecbd",
   "metadata": {},
   "outputs": [
    {
     "data": {
      "text/plain": [
       "array(['Happy', 'Neutral', 'Sad'], dtype='<U10')"
      ]
     },
     "execution_count": 46,
     "metadata": {},
     "output_type": "execute_result"
    }
   ],
   "source": [
    "np.unique(mood)"
   ]
  },
  {
   "cell_type": "markdown",
   "id": "6ae9072b",
   "metadata": {},
   "source": [
    "# working on step count"
   ]
  },
  {
   "cell_type": "code",
   "execution_count": 48,
   "id": "67437f61",
   "metadata": {},
   "outputs": [
    {
     "data": {
      "text/plain": [
       "array([5464, 7167, 9874, 4969, 8538, 9875, 4662, 6310, 7556, 9073, 9690,\n",
       "       9146, 9752, 6974, 5619, 6889, 8616, 9131, 4211, 4291, 8569, 9337,\n",
       "       8475, 4510, 6347, 5911])"
      ]
     },
     "execution_count": 48,
     "metadata": {},
     "output_type": "execute_result"
    }
   ],
   "source": [
    "step_count"
   ]
  },
  {
   "cell_type": "code",
   "execution_count": 49,
   "id": "70c215a5",
   "metadata": {},
   "outputs": [
    {
     "data": {
      "text/plain": [
       "9875"
      ]
     },
     "execution_count": 49,
     "metadata": {},
     "output_type": "execute_result"
    }
   ],
   "source": [
    "np.max(step_count)"
   ]
  },
  {
   "cell_type": "code",
   "execution_count": 50,
   "id": "276a3157",
   "metadata": {},
   "outputs": [
    {
     "data": {
      "text/plain": [
       "4211"
      ]
     },
     "execution_count": 50,
     "metadata": {},
     "output_type": "execute_result"
    }
   ],
   "source": [
    "np.min(step_count)"
   ]
  },
  {
   "cell_type": "code",
   "execution_count": 51,
   "id": "bf89f778",
   "metadata": {},
   "outputs": [
    {
     "data": {
      "text/plain": [
       "7344.461538461538"
      ]
     },
     "execution_count": 51,
     "metadata": {},
     "output_type": "execute_result"
    }
   ],
   "source": [
    "np.mean(step_count)"
   ]
  },
  {
   "cell_type": "code",
   "execution_count": 52,
   "id": "698af35b",
   "metadata": {},
   "outputs": [
    {
     "data": {
      "text/plain": [
       "5"
      ]
     },
     "execution_count": 52,
     "metadata": {},
     "output_type": "execute_result"
    }
   ],
   "source": [
    "np.argmax(step_count) # the index position of the max val"
   ]
  },
  {
   "cell_type": "code",
   "execution_count": 53,
   "id": "6e2d6645",
   "metadata": {},
   "outputs": [
    {
     "data": {
      "text/plain": [
       "'11-10-2017'"
      ]
     },
     "execution_count": 53,
     "metadata": {},
     "output_type": "execute_result"
    }
   ],
   "source": [
    "# calling the data from dates corr to same index posn\n",
    "date[5]"
   ]
  },
  {
   "cell_type": "code",
   "execution_count": 54,
   "id": "3122121a",
   "metadata": {},
   "outputs": [
    {
     "data": {
      "text/plain": [
       "'24-10-2017'"
      ]
     },
     "execution_count": 54,
     "metadata": {},
     "output_type": "execute_result"
    }
   ],
   "source": [
    "date[np.argmin(step_count)]"
   ]
  },
  {
   "cell_type": "markdown",
   "id": "75680574",
   "metadata": {},
   "source": [
    "# freq of mood"
   ]
  },
  {
   "cell_type": "code",
   "execution_count": 55,
   "id": "0b99f653",
   "metadata": {},
   "outputs": [
    {
     "data": {
      "text/plain": [
       "array(['Neutral', 'Neutral', 'Happy', 'Sad', 'Happy', 'Happy', 'Sad',\n",
       "       'Neutral', 'Neutral', 'Happy', 'Happy', 'Happy', 'Happy',\n",
       "       'Neutral', 'Neutral', 'Neutral', 'Happy', 'Happy', 'Sad', 'Sad',\n",
       "       'Happy', 'Happy', 'Happy', 'Sad', 'Neutral', 'Neutral'],\n",
       "      dtype='<U10')"
      ]
     },
     "execution_count": 55,
     "metadata": {},
     "output_type": "execute_result"
    }
   ],
   "source": [
    "mood"
   ]
  },
  {
   "cell_type": "code",
   "execution_count": 56,
   "id": "857afdfd",
   "metadata": {},
   "outputs": [],
   "source": [
    "# checking the count of each mood "
   ]
  },
  {
   "cell_type": "code",
   "execution_count": 59,
   "id": "f3c0d0b3",
   "metadata": {},
   "outputs": [
    {
     "data": {
      "text/plain": [
       "5"
      ]
     },
     "execution_count": 59,
     "metadata": {},
     "output_type": "execute_result"
    }
   ],
   "source": [
    "len(mood[mood == 'Sad'])"
   ]
  },
  {
   "cell_type": "code",
   "execution_count": 60,
   "id": "29733ff0",
   "metadata": {},
   "outputs": [
    {
     "data": {
      "text/plain": [
       "9"
      ]
     },
     "execution_count": 60,
     "metadata": {},
     "output_type": "execute_result"
    }
   ],
   "source": [
    "len(mood[mood == 'Neutral'])"
   ]
  },
  {
   "cell_type": "code",
   "execution_count": 62,
   "id": "e92d7582",
   "metadata": {},
   "outputs": [
    {
     "data": {
      "text/plain": [
       "12"
      ]
     },
     "execution_count": 62,
     "metadata": {},
     "output_type": "execute_result"
    }
   ],
   "source": [
    "len(mood[mood == 'Happy'])"
   ]
  },
  {
   "cell_type": "code",
   "execution_count": 64,
   "id": "d1b203ea",
   "metadata": {},
   "outputs": [
    {
     "data": {
      "text/plain": [
       "(array(['Happy', 'Neutral', 'Sad'], dtype='<U10'),\n",
       " array([12,  9,  5], dtype=int64))"
      ]
     },
     "execution_count": 64,
     "metadata": {},
     "output_type": "execute_result"
    }
   ],
   "source": [
    "np.unique(mood,return_counts=True)"
   ]
  },
  {
   "cell_type": "code",
   "execution_count": 65,
   "id": "32422fd6",
   "metadata": {},
   "outputs": [
    {
     "data": {
      "text/plain": [
       "array([4969, 4662, 4211, 4291, 4510])"
      ]
     },
     "execution_count": 65,
     "metadata": {},
     "output_type": "execute_result"
    }
   ],
   "source": [
    "step_count[mood == 'Sad']"
   ]
  },
  {
   "cell_type": "code",
   "execution_count": 66,
   "id": "e2dad4bd",
   "metadata": {},
   "outputs": [
    {
     "data": {
      "text/plain": [
       "4528.6"
      ]
     },
     "execution_count": 66,
     "metadata": {},
     "output_type": "execute_result"
    }
   ],
   "source": [
    "# taking mean of the step counts when the mood was \"Sad\"\n",
    "\n",
    "np.mean(step_count[mood == 'Sad'])"
   ]
  },
  {
   "cell_type": "code",
   "execution_count": 68,
   "id": "156d8785",
   "metadata": {},
   "outputs": [
    {
     "data": {
      "text/plain": [
       "6470.777777777777"
      ]
     },
     "execution_count": 68,
     "metadata": {},
     "output_type": "execute_result"
    }
   ],
   "source": [
    "# taking mean of the step counts when the mood was \"Neutral\"\n",
    "\n",
    "np.mean(step_count[mood == 'Neutral'])"
   ]
  },
  {
   "cell_type": "code",
   "execution_count": 69,
   "id": "d332469a",
   "metadata": {},
   "outputs": [
    {
     "data": {
      "text/plain": [
       "9173.0"
      ]
     },
     "execution_count": 69,
     "metadata": {},
     "output_type": "execute_result"
    }
   ],
   "source": [
    "# taking mean of the step counts when the mood was \"Happy\"\n",
    "\n",
    "np.mean(step_count[mood == 'Happy'])"
   ]
  },
  {
   "cell_type": "code",
   "execution_count": null,
   "id": "04d4bbd7",
   "metadata": {},
   "outputs": [],
   "source": []
  }
 ],
 "metadata": {
  "kernelspec": {
   "display_name": "Python 3 (ipykernel)",
   "language": "python",
   "name": "python3"
  },
  "language_info": {
   "codemirror_mode": {
    "name": "ipython",
    "version": 3
   },
   "file_extension": ".py",
   "mimetype": "text/x-python",
   "name": "python",
   "nbconvert_exporter": "python",
   "pygments_lexer": "ipython3",
   "version": "3.10.5"
  }
 },
 "nbformat": 4,
 "nbformat_minor": 5
}
