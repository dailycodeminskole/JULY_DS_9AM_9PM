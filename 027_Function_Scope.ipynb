{
 "cells": [
  {
   "cell_type": "markdown",
   "id": "1d103f10",
   "metadata": {},
   "source": [
    "# Scope of Variable"
   ]
  },
  {
   "cell_type": "code",
   "execution_count": 1,
   "id": "7abd49bd",
   "metadata": {},
   "outputs": [
    {
     "name": "stdout",
     "output_type": "stream",
     "text": [
      "100\n"
     ]
    }
   ],
   "source": [
    "def banner():\n",
    "    x = 100\n",
    "    print(x)\n",
    "    \n",
    "banner()"
   ]
  },
  {
   "cell_type": "code",
   "execution_count": 2,
   "id": "610d84d2",
   "metadata": {},
   "outputs": [
    {
     "name": "stdout",
     "output_type": "stream",
     "text": [
      "100\n"
     ]
    }
   ],
   "source": [
    "banner()"
   ]
  },
  {
   "cell_type": "code",
   "execution_count": 3,
   "id": "fea8cbbb",
   "metadata": {},
   "outputs": [
    {
     "name": "stdout",
     "output_type": "stream",
     "text": [
      "100\n"
     ]
    }
   ],
   "source": [
    "banner()"
   ]
  },
  {
   "cell_type": "code",
   "execution_count": 4,
   "id": "5335b08d",
   "metadata": {},
   "outputs": [
    {
     "name": "stdout",
     "output_type": "stream",
     "text": [
      "100\n"
     ]
    }
   ],
   "source": [
    "x = 10\n",
    "\n",
    "def banner():\n",
    "    x = 100 #local scope\n",
    "    print(x)\n",
    "    \n",
    "banner()"
   ]
  },
  {
   "cell_type": "code",
   "execution_count": 5,
   "id": "34ff80fa",
   "metadata": {},
   "outputs": [
    {
     "name": "stdout",
     "output_type": "stream",
     "text": [
      "10\n"
     ]
    }
   ],
   "source": [
    "# if the value is not in the local scope, fun will search in the Global space\n",
    "\n",
    "x = 10 #global Scope\n",
    "\n",
    "def banner():\n",
    "#     x = 100 #local scope\n",
    "    print(x)\n",
    "    \n",
    "banner()"
   ]
  },
  {
   "cell_type": "code",
   "execution_count": 6,
   "id": "83bdf0f5",
   "metadata": {},
   "outputs": [
    {
     "name": "stdout",
     "output_type": "stream",
     "text": [
      "25\n"
     ]
    }
   ],
   "source": [
    "# the fuction can modify the local variable only\n",
    "# global variable will not be modified\n",
    "x = 10\n",
    "def banner():\n",
    "    x = 5\n",
    "    x = x**2\n",
    "    print(x)\n",
    "        \n",
    "banner()"
   ]
  },
  {
   "cell_type": "code",
   "execution_count": 7,
   "id": "c984f1e1",
   "metadata": {},
   "outputs": [
    {
     "ename": "UnboundLocalError",
     "evalue": "local variable 'x' referenced before assignment",
     "output_type": "error",
     "traceback": [
      "\u001b[1;31m---------------------------------------------------------------------------\u001b[0m",
      "\u001b[1;31mUnboundLocalError\u001b[0m                         Traceback (most recent call last)",
      "Input \u001b[1;32mIn [7]\u001b[0m, in \u001b[0;36m<cell line: 9>\u001b[1;34m()\u001b[0m\n\u001b[0;32m      6\u001b[0m     x \u001b[38;5;241m=\u001b[39m x\u001b[38;5;241m*\u001b[39m\u001b[38;5;241m*\u001b[39m\u001b[38;5;241m2\u001b[39m\n\u001b[0;32m      7\u001b[0m     \u001b[38;5;28mprint\u001b[39m(x)\n\u001b[1;32m----> 9\u001b[0m \u001b[43mbanner\u001b[49m\u001b[43m(\u001b[49m\u001b[43m)\u001b[49m\n",
      "Input \u001b[1;32mIn [7]\u001b[0m, in \u001b[0;36mbanner\u001b[1;34m()\u001b[0m\n\u001b[0;32m      4\u001b[0m \u001b[38;5;28;01mdef\u001b[39;00m \u001b[38;5;21mbanner\u001b[39m():\n\u001b[0;32m      5\u001b[0m \u001b[38;5;66;03m#     x = 5\u001b[39;00m\n\u001b[1;32m----> 6\u001b[0m     x \u001b[38;5;241m=\u001b[39m \u001b[43mx\u001b[49m\u001b[38;5;241m*\u001b[39m\u001b[38;5;241m*\u001b[39m\u001b[38;5;241m2\u001b[39m\n\u001b[0;32m      7\u001b[0m     \u001b[38;5;28mprint\u001b[39m(x)\n",
      "\u001b[1;31mUnboundLocalError\u001b[0m: local variable 'x' referenced before assignment"
     ]
    }
   ],
   "source": [
    "# the fuction can modify the local variable only\n",
    "# global variable will not be modified even if it is refenced inside the fun\n",
    "x = 10\n",
    "def banner():\n",
    "#     x = 5\n",
    "    x = x**2\n",
    "    print(x)\n",
    "        \n",
    "banner()"
   ]
  },
  {
   "cell_type": "code",
   "execution_count": 8,
   "id": "e80022f2",
   "metadata": {},
   "outputs": [
    {
     "name": "stdout",
     "output_type": "stream",
     "text": [
      "10\n",
      "100\n",
      "100\n"
     ]
    }
   ],
   "source": [
    "# the fuction can modify the local variable only\n",
    "# global variable will not be modified even if it is refenced inside the fun\n",
    "x = 10\n",
    "def banner():\n",
    "#     x = 5\n",
    "    global x\n",
    "    x = x**2\n",
    "    print(x)\n",
    "\n",
    "print(x)\n",
    "banner() #this has changed the global value of x\n",
    "print(x)"
   ]
  },
  {
   "cell_type": "code",
   "execution_count": 9,
   "id": "48acb1cc",
   "metadata": {},
   "outputs": [
    {
     "ename": "SyntaxError",
     "evalue": "name 'x' is assigned to before global declaration (3632348952.py, line 6)",
     "output_type": "error",
     "traceback": [
      "\u001b[1;36m  Input \u001b[1;32mIn [9]\u001b[1;36m\u001b[0m\n\u001b[1;33m    global x\u001b[0m\n\u001b[1;37m    ^\u001b[0m\n\u001b[1;31mSyntaxError\u001b[0m\u001b[1;31m:\u001b[0m name 'x' is assigned to before global declaration\n"
     ]
    }
   ],
   "source": [
    "# the fuction can modify the local variable only\n",
    "# global variable will not be modified even if it is refenced inside the fun\n",
    "x = 10\n",
    "def banner():\n",
    "    x = 5\n",
    "    global x\n",
    "    x = x**2\n",
    "    print(x)\n",
    "\n",
    "print(x)\n",
    "banner() #this has changed the global value of x\n",
    "print(x)"
   ]
  },
  {
   "cell_type": "code",
   "execution_count": 10,
   "id": "d5d8527a",
   "metadata": {},
   "outputs": [
    {
     "name": "stdout",
     "output_type": "stream",
     "text": [
      "10\n",
      "5\n",
      "5\n"
     ]
    }
   ],
   "source": [
    "# the fuction can modify the local variable only\n",
    "# global variable will not be modified even if it is refenced inside the fun\n",
    "x = 10\n",
    "def banner():\n",
    "    global x\n",
    "    x = 5\n",
    "#     x = x**2\n",
    "    print(x)\n",
    "\n",
    "print(x)\n",
    "banner() #this has changed the global value of x\n",
    "print(x)"
   ]
  },
  {
   "cell_type": "code",
   "execution_count": null,
   "id": "20e14ac9",
   "metadata": {},
   "outputs": [],
   "source": []
  },
  {
   "cell_type": "code",
   "execution_count": 11,
   "id": "38306f6f",
   "metadata": {},
   "outputs": [],
   "source": [
    "# use  of global is not recommneded"
   ]
  },
  {
   "cell_type": "code",
   "execution_count": 12,
   "id": "6fc07c7c",
   "metadata": {},
   "outputs": [
    {
     "name": "stdout",
     "output_type": "stream",
     "text": [
      "Suresh\n",
      "Ramesh\n",
      "Ramesh\n"
     ]
    }
   ],
   "source": [
    "name  = \"Suresh\"\n",
    "\n",
    "def change_name():\n",
    "    global name\n",
    "    name = \"Ramesh\"\n",
    "    print(name)\n",
    "    \n",
    "print(name)   \n",
    "change_name()\n",
    "print(name)"
   ]
  },
  {
   "cell_type": "code",
   "execution_count": null,
   "id": "818c705a",
   "metadata": {},
   "outputs": [],
   "source": []
  }
 ],
 "metadata": {
  "kernelspec": {
   "display_name": "Python 3 (ipykernel)",
   "language": "python",
   "name": "python3"
  },
  "language_info": {
   "codemirror_mode": {
    "name": "ipython",
    "version": 3
   },
   "file_extension": ".py",
   "mimetype": "text/x-python",
   "name": "python",
   "nbconvert_exporter": "python",
   "pygments_lexer": "ipython3",
   "version": "3.10.5"
  }
 },
 "nbformat": 4,
 "nbformat_minor": 5
}
