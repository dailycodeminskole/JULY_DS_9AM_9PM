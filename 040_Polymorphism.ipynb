{
 "cells": [
  {
   "cell_type": "code",
   "execution_count": 5,
   "id": "c444b105",
   "metadata": {},
   "outputs": [
    {
     "name": "stdout",
     "output_type": "stream",
     "text": [
      "New Delhi\n",
      "Kathamandu\n",
      "Jaywardhanepuram\n"
     ]
    }
   ],
   "source": [
    "class India():\n",
    "    def capital(self):\n",
    "        print(\"New Delhi\")\n",
    "class Nepal():\n",
    "    def capital(self):\n",
    "        print(\"Kathamandu\")\n",
    "class SriLanka():\n",
    "    def capital(self):\n",
    "        print(\"Jaywardhanepuram\")\n",
    "\n",
    "        \n",
    "        \n",
    "ind = India()\n",
    "nep = Nepal()\n",
    "sl = SriLanka()\n",
    "\n",
    "\n",
    "\n",
    "ind.capital()\n",
    "nep.capital()\n",
    "sl.capital()"
   ]
  },
  {
   "cell_type": "code",
   "execution_count": 6,
   "id": "000bdfe4",
   "metadata": {},
   "outputs": [
    {
     "name": "stdout",
     "output_type": "stream",
     "text": [
      "100\n",
      "Ramesh\n"
     ]
    }
   ],
   "source": [
    "a =  100\n",
    "b = \"Ramesh\"\n",
    "\n",
    "\n",
    "print(a)\n",
    "print(b)"
   ]
  },
  {
   "cell_type": "code",
   "execution_count": 19,
   "id": "1dc80e0e",
   "metadata": {},
   "outputs": [
    {
     "name": "stdout",
     "output_type": "stream",
     "text": [
      "Acc  no is : 1 and bal is 0\n",
      "Acc  no is : 2 and bal is 0\n",
      "Acc  no is : 1 and bal is 100\n",
      "Acc  no is : 2 and bal is 100\n",
      "Acc  no is : 1 and bal is 100\n",
      "Acc  no is : 1 and bal is 1100\n",
      "Acc  no is : 2 and bal is 200\n",
      "33.0\n",
      "0\n"
     ]
    }
   ],
   "source": [
    "# THIS IS SYMBOLIC IN NATURE\n",
    "# SA INterest = 3%\n",
    "# CA interes = 0%\n",
    "\n",
    "\n",
    "\n",
    "class Account():\n",
    "    counter  =  0 #class attribute\n",
    "    def __init__(self,opening_bal=0):\n",
    "        Account.counter = Account.counter +1\n",
    "        self.id = Account.counter\n",
    "        self.__bal =  opening_bal\n",
    "        self.num_tx = 0\n",
    "        self.max_tx = 5\n",
    "    def __str__(self):\n",
    "        return f\"Acc  no is : {self.id} and bal is {self.__bal}\"\n",
    "    \n",
    "    def deposit(self,amount):\n",
    "        if amount > 0 and self.num_tx < self.max_tx:\n",
    "            self.__bal=  self.__bal+ amount\n",
    "            self.num_tx = self.num_tx +1\n",
    "    \n",
    "    def withdraw(self,amount):\n",
    "        if amount > 0 and self.__bal >=amount and self.num_tx < self.max_tx:\n",
    "            self.__bal=  self.__bal- amount\n",
    "            self.num_tx = self.num_tx +1\n",
    "class SavingsAccount(Account):\n",
    "    def __init__(self):\n",
    "        super().__init__()\n",
    "    def get_interest(self):\n",
    "        return self._Account__bal*0.03 #calling the valua after name mangling\n",
    "\n",
    "class CurrentAcocut(Account): #__init__ > id, bal,max_tx,num_tx\n",
    "    def __init__(self):\n",
    "        super().__init__()\n",
    "        self.max_tx = 100\n",
    "    def get_interest(self):\n",
    "        return 0 \n",
    "    \n",
    "    \n",
    "sa1 =  SavingsAccount()\n",
    "ca1 = CurrentAcocut()\n",
    "print(sa1)\n",
    "print(ca1)\n",
    "\n",
    "sa1.deposit(100)\n",
    "ca1.deposit(100)\n",
    "\n",
    "print(sa1)\n",
    "print(ca1)\n",
    "\n",
    "sa1._bal = 500\n",
    "print(sa1)\n",
    "\n",
    "\n",
    "sa1.deposit(1000)\n",
    "ca1.deposit(100)\n",
    "\n",
    "print(sa1)\n",
    "print(ca1)\n",
    "\n",
    "\n",
    "print(sa1.get_interest())\n",
    "print(ca1.get_interest())"
   ]
  },
  {
   "cell_type": "code",
   "execution_count": 21,
   "id": "a845f5e6",
   "metadata": {},
   "outputs": [
    {
     "name": "stdout",
     "output_type": "stream",
     "text": [
      "Acc  no is : 1 and bal is 0\n",
      "Acc  no is : 2 and bal is 0\n",
      "Acc  no is : 1 and bal is 100\n",
      "Acc  no is : 2 and bal is 100\n",
      "Acc  no is : 1 and bal is 100\n",
      "Acc  no is : 1 and bal is 1100\n",
      "Acc  no is : 2 and bal is 200\n",
      "33.0\n",
      "0\n"
     ]
    }
   ],
   "source": [
    "# THIS IS SYMBOLIC IN NATURE\n",
    "# SA INterest = 3%\n",
    "# CA interes = 0%\n",
    "\n",
    "\n",
    "\n",
    "class Account():\n",
    "    counter  =  0 #class attribute\n",
    "    def __init__(self,opening_bal=0):\n",
    "        Account.counter = Account.counter +1\n",
    "        self.id = Account.counter\n",
    "        self.__bal =  opening_bal\n",
    "        self.num_tx = 0\n",
    "        self.max_tx = 5\n",
    "    def __str__(self):\n",
    "        return f\"Acc  no is : {self.id} and bal is {self.__bal}\"\n",
    "    \n",
    "    def deposit(self,amount):\n",
    "        if amount > 0 and self.num_tx < self.max_tx:\n",
    "            self.__bal=  self.__bal+ amount\n",
    "            self.num_tx = self.num_tx +1\n",
    "    \n",
    "    def withdraw(self,amount):\n",
    "        if amount > 0 and self.__bal >=amount and self.num_tx < self.max_tx:\n",
    "            self.__bal=  self.__bal- amount\n",
    "            self.num_tx = self.num_tx +1\n",
    "class SavingsAccount(Account):\n",
    "    def __init__(self):\n",
    "        super().__init__()\n",
    "    def get_sa_interest(self):\n",
    "        return self._Account__bal*0.03 #calling the valua after name mangling\n",
    "\n",
    "class CurrentAcocut(Account): #__init__ > id, bal,max_tx,num_tx\n",
    "    def __init__(self):\n",
    "        super().__init__()\n",
    "        self.max_tx = 100\n",
    "    def get_ca_interest(self):\n",
    "        return 0 \n",
    "    \n",
    "    \n",
    "sa1 =  SavingsAccount()\n",
    "ca1 = CurrentAcocut()\n",
    "print(sa1)\n",
    "print(ca1)\n",
    "\n",
    "sa1.deposit(100)\n",
    "ca1.deposit(100)\n",
    "\n",
    "print(sa1)\n",
    "print(ca1)\n",
    "\n",
    "sa1._bal = 500\n",
    "print(sa1)\n",
    "\n",
    "\n",
    "sa1.deposit(1000)\n",
    "ca1.deposit(100)\n",
    "\n",
    "print(sa1)\n",
    "print(ca1)\n",
    "\n",
    "# this is not polymorphism\n",
    "print(sa1.get_sa_interest())\n",
    "print(ca1.get_ca_interest())"
   ]
  },
  {
   "cell_type": "code",
   "execution_count": null,
   "id": "a462a171",
   "metadata": {},
   "outputs": [],
   "source": []
  }
 ],
 "metadata": {
  "kernelspec": {
   "display_name": "Python 3 (ipykernel)",
   "language": "python",
   "name": "python3"
  },
  "language_info": {
   "codemirror_mode": {
    "name": "ipython",
    "version": 3
   },
   "file_extension": ".py",
   "mimetype": "text/x-python",
   "name": "python",
   "nbconvert_exporter": "python",
   "pygments_lexer": "ipython3",
   "version": "3.10.5"
  }
 },
 "nbformat": 4,
 "nbformat_minor": 5
}
