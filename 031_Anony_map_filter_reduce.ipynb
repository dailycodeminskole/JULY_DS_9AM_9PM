{
 "cells": [
  {
   "cell_type": "code",
   "execution_count": 1,
   "id": "9a4254b1",
   "metadata": {},
   "outputs": [],
   "source": [
    "# syntax\n",
    "# lambda arguments : expresion"
   ]
  },
  {
   "cell_type": "code",
   "execution_count": 2,
   "id": "d4cc1b77",
   "metadata": {},
   "outputs": [],
   "source": [
    "# A lambda function in Python is a small, anonymous, and inline function that can have \n",
    "# any number of arguments \n",
    "# but can only have one expression. \n",
    "# It is also sometimes referred to as a \"lambda expression\" or \"lambda notation.\" \n",
    "# Lambda functions are often used for short, simple operations that can be defined in a single line of code."
   ]
  },
  {
   "cell_type": "code",
   "execution_count": 10,
   "id": "42d114e3",
   "metadata": {},
   "outputs": [],
   "source": [
    "def nume(num):\n",
    "    if num%2==0:\n",
    "        print(\"number is even\")\n",
    "    else:\n",
    "        print(\"Number is odd\")"
   ]
  },
  {
   "cell_type": "code",
   "execution_count": 11,
   "id": "36e83346",
   "metadata": {},
   "outputs": [
    {
     "name": "stdout",
     "output_type": "stream",
     "text": [
      "Number is odd\n"
     ]
    }
   ],
   "source": [
    "nume(23)"
   ]
  },
  {
   "cell_type": "code",
   "execution_count": 12,
   "id": "4c1b7cbd",
   "metadata": {
    "scrolled": true
   },
   "outputs": [
    {
     "name": "stdout",
     "output_type": "stream",
     "text": [
      "number is even\n"
     ]
    }
   ],
   "source": [
    "nume(24)"
   ]
  },
  {
   "cell_type": "code",
   "execution_count": 18,
   "id": "2da1482d",
   "metadata": {},
   "outputs": [],
   "source": [
    "nume_lam  = lambda num : \"Even Number\" if num%2==0 else \"Odd Number\""
   ]
  },
  {
   "cell_type": "code",
   "execution_count": 20,
   "id": "88dca86f",
   "metadata": {},
   "outputs": [
    {
     "data": {
      "text/plain": [
       "'Odd Number'"
      ]
     },
     "execution_count": 20,
     "metadata": {},
     "output_type": "execute_result"
    }
   ],
   "source": [
    "nume_lam(23)"
   ]
  },
  {
   "cell_type": "code",
   "execution_count": 21,
   "id": "d3d6376f",
   "metadata": {},
   "outputs": [
    {
     "data": {
      "text/plain": [
       "'Odd Number'"
      ]
     },
     "execution_count": 21,
     "metadata": {},
     "output_type": "execute_result"
    }
   ],
   "source": [
    "nume_lam(1999)"
   ]
  },
  {
   "cell_type": "code",
   "execution_count": null,
   "id": "e80ed25a",
   "metadata": {},
   "outputs": [],
   "source": []
  },
  {
   "cell_type": "markdown",
   "id": "de7f39ee",
   "metadata": {},
   "source": [
    "# map()"
   ]
  },
  {
   "cell_type": "markdown",
   "id": "7f9c7fc1",
   "metadata": {},
   "source": [
    "<!-- The map() function in Python is a built-in function that takes in two or more arguments: \n",
    "a function and one or more iterable objects (like lists, tuples, etc.). \n",
    "It applies the given function to each item in the iterables and returns an iterator that yields the results -->"
   ]
  },
  {
   "cell_type": "code",
   "execution_count": 4,
   "id": "b21a3cc1",
   "metadata": {},
   "outputs": [],
   "source": [
    "# The map() function in Python is a built-in function that takes in two or more arguments: \n",
    "#     a function and one or more iterable objects (like lists, tuples, etc.). \n",
    "# It applies the given function to each item in the iterables and returns an iterator that yields the results"
   ]
  },
  {
   "cell_type": "code",
   "execution_count": 5,
   "id": "19edf549",
   "metadata": {},
   "outputs": [],
   "source": [
    "\n",
    "# The basic syntax of the map() function is as follows:\n",
    "# map(function, iterable1, iterable2, ...)"
   ]
  },
  {
   "cell_type": "code",
   "execution_count": 23,
   "id": "9440e934",
   "metadata": {},
   "outputs": [
    {
     "name": "stdout",
     "output_type": "stream",
     "text": [
      "[20, 90, 156, 156, 198, 116, 88, 24, 178]\n"
     ]
    }
   ],
   "source": [
    "list_num = [10,45,78,78,99,58,44,12,89]\n",
    "list_num2 = [11,22,33,44,55]\n",
    "def doublenum(arjun):\n",
    "    ans = []\n",
    "    for i in arjun:\n",
    "        ans.append(i*2)\n",
    "    print(ans)\n",
    "\n",
    "doublenum(list_num)\n",
    "doublenum(list_num2)"
   ]
  },
  {
   "cell_type": "code",
   "execution_count": 25,
   "id": "26b1575a",
   "metadata": {},
   "outputs": [
    {
     "data": {
      "text/plain": [
       "[20, 90, 156, 156, 198, 116, 88, 24, 178]"
      ]
     },
     "execution_count": 25,
     "metadata": {},
     "output_type": "execute_result"
    }
   ],
   "source": [
    "list(map(lambda x : x*2 ,list_num))"
   ]
  },
  {
   "cell_type": "code",
   "execution_count": 26,
   "id": "5ca468ba",
   "metadata": {},
   "outputs": [
    {
     "data": {
      "text/plain": [
       "[30, 135, 234, 234, 297, 174, 132, 36, 267]"
      ]
     },
     "execution_count": 26,
     "metadata": {},
     "output_type": "execute_result"
    }
   ],
   "source": [
    "list(map(lambda x : x*3 ,list_num))"
   ]
  },
  {
   "cell_type": "markdown",
   "id": "81c14577",
   "metadata": {},
   "source": [
    "#  filter()"
   ]
  },
  {
   "cell_type": "code",
   "execution_count": 27,
   "id": "bdee677c",
   "metadata": {},
   "outputs": [
    {
     "name": "stdout",
     "output_type": "stream",
     "text": [
      "[44, 88, 44, 22, 66]\n"
     ]
    }
   ],
   "source": [
    "list_score = [11,44,77,88,44,11,22,55,66]\n",
    "def even_num(x):\n",
    "    ans = []\n",
    "    for i in x:\n",
    "        if i%2==0:\n",
    "            ans.append(i)\n",
    "    print(ans)\n",
    "even_num(list_score)"
   ]
  },
  {
   "cell_type": "code",
   "execution_count": 28,
   "id": "3965e1a2",
   "metadata": {},
   "outputs": [],
   "source": [
    "# filter(function,iterable)"
   ]
  },
  {
   "cell_type": "code",
   "execution_count": 32,
   "id": "d302b6db",
   "metadata": {},
   "outputs": [],
   "source": [
    "def even_ans(x):\n",
    "    if x%2 ==0:\n",
    "        return x"
   ]
  },
  {
   "cell_type": "code",
   "execution_count": 33,
   "id": "c581f778",
   "metadata": {},
   "outputs": [
    {
     "data": {
      "text/plain": [
       "<filter at 0x218d36f54e0>"
      ]
     },
     "execution_count": 33,
     "metadata": {},
     "output_type": "execute_result"
    }
   ],
   "source": [
    "filter(even_ans,list_score)"
   ]
  },
  {
   "cell_type": "code",
   "execution_count": 34,
   "id": "41364a96",
   "metadata": {},
   "outputs": [
    {
     "data": {
      "text/plain": [
       "[44, 88, 44, 22, 66]"
      ]
     },
     "execution_count": 34,
     "metadata": {},
     "output_type": "execute_result"
    }
   ],
   "source": [
    "list(filter(even_ans,list_score))"
   ]
  },
  {
   "cell_type": "code",
   "execution_count": null,
   "id": "ac214347",
   "metadata": {},
   "outputs": [],
   "source": []
  }
 ],
 "metadata": {
  "kernelspec": {
   "display_name": "Python 3 (ipykernel)",
   "language": "python",
   "name": "python3"
  },
  "language_info": {
   "codemirror_mode": {
    "name": "ipython",
    "version": 3
   },
   "file_extension": ".py",
   "mimetype": "text/x-python",
   "name": "python",
   "nbconvert_exporter": "python",
   "pygments_lexer": "ipython3",
   "version": "3.10.5"
  }
 },
 "nbformat": 4,
 "nbformat_minor": 5
}
