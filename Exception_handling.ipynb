{
 "cells": [
  {
   "cell_type": "code",
   "execution_count": 2,
   "id": "f96f9b98",
   "metadata": {},
   "outputs": [
    {
     "name": "stdout",
     "output_type": "stream",
     "text": [
      "0.5\n"
     ]
    }
   ],
   "source": [
    "a = 100\n",
    "b = 200\n",
    "c = a/b\n",
    "print(c)"
   ]
  },
  {
   "cell_type": "code",
   "execution_count": 3,
   "id": "bf5c2b43",
   "metadata": {
    "scrolled": true
   },
   "outputs": [
    {
     "ename": "ZeroDivisionError",
     "evalue": "division by zero",
     "output_type": "error",
     "traceback": [
      "\u001b[1;31m---------------------------------------------------------------------------\u001b[0m",
      "\u001b[1;31mZeroDivisionError\u001b[0m                         Traceback (most recent call last)",
      "Input \u001b[1;32mIn [3]\u001b[0m, in \u001b[0;36m<cell line: 3>\u001b[1;34m()\u001b[0m\n\u001b[0;32m      1\u001b[0m a \u001b[38;5;241m=\u001b[39m \u001b[38;5;241m100\u001b[39m\n\u001b[0;32m      2\u001b[0m b \u001b[38;5;241m=\u001b[39m \u001b[38;5;241m0\u001b[39m\n\u001b[1;32m----> 3\u001b[0m c \u001b[38;5;241m=\u001b[39m \u001b[43ma\u001b[49m\u001b[38;5;241;43m/\u001b[39;49m\u001b[43mb\u001b[49m\n\u001b[0;32m      4\u001b[0m \u001b[38;5;28mprint\u001b[39m(c)\n",
      "\u001b[1;31mZeroDivisionError\u001b[0m: division by zero"
     ]
    }
   ],
   "source": [
    "a = 100\n",
    "b = 0\n",
    "c = a/b #ZeroDivisionError\n",
    "print(c)"
   ]
  },
  {
   "cell_type": "code",
   "execution_count": 6,
   "id": "b995f509",
   "metadata": {
    "scrolled": true
   },
   "outputs": [
    {
     "ename": "SyntaxError",
     "evalue": "incomplete input (3279357879.py, line 4)",
     "output_type": "error",
     "traceback": [
      "\u001b[1;36m  Input \u001b[1;32mIn [6]\u001b[1;36m\u001b[0m\n\u001b[1;33m    print(c\u001b[0m\n\u001b[1;37m           ^\u001b[0m\n\u001b[1;31mSyntaxError\u001b[0m\u001b[1;31m:\u001b[0m incomplete input\n"
     ]
    }
   ],
   "source": [
    "a = 100\n",
    "b = 200\n",
    "c = a/b\n",
    "print(c #here we have to correct  the error manually"
   ]
  },
  {
   "cell_type": "code",
   "execution_count": 4,
   "id": "343363bd",
   "metadata": {},
   "outputs": [],
   "source": [
    "# Error : Syntax Error\n",
    "# Exception : ZeroDivisionError                         "
   ]
  },
  {
   "cell_type": "code",
   "execution_count": 7,
   "id": "dbcdf0ac",
   "metadata": {},
   "outputs": [],
   "source": [
    "# https://docs.python.org/3.12/library/exceptions.html?highlight=exception#exception-hierarchy"
   ]
  },
  {
   "cell_type": "code",
   "execution_count": 8,
   "id": "ac644b5d",
   "metadata": {},
   "outputs": [
    {
     "ename": "IndentationError",
     "evalue": "unexpected indent (3201038867.py, line 2)",
     "output_type": "error",
     "traceback": [
      "\u001b[1;36m  Input \u001b[1;32mIn [8]\u001b[1;36m\u001b[0m\n\u001b[1;33m    ├── BaseExceptionGroup\u001b[0m\n\u001b[1;37m    ^\u001b[0m\n\u001b[1;31mIndentationError\u001b[0m\u001b[1;31m:\u001b[0m unexpected indent\n"
     ]
    }
   ],
   "source": [
    "BaseException\n",
    " ├── BaseExceptionGroup\n",
    " ├── GeneratorExit\n",
    " ├── KeyboardInterrupt\n",
    " ├── SystemExit\n",
    " └── Exception\n",
    "      ├── ArithmeticError\n",
    "      │    ├── FloatingPointError\n",
    "      │    ├── OverflowError\n",
    "      │    └── ZeroDivisionError\n",
    "      ├── AssertionError\n",
    "      ├── AttributeError\n",
    "      ├── BufferError\n",
    "      ├── EOFError\n",
    "      ├── ExceptionGroup [BaseExceptionGroup]\n",
    "      ├── ImportError\n",
    "      │    └── ModuleNotFoundError\n",
    "      ├── LookupError\n",
    "      │    ├── IndexError\n",
    "      │    └── KeyError\n",
    "      ├── MemoryError\n",
    "      ├── NameError\n",
    "      │    └── UnboundLocalError\n",
    "      ├── OSError\n",
    "      │    ├── BlockingIOError\n",
    "      │    ├── ChildProcessError\n",
    "      │    ├── ConnectionError\n",
    "      │    │    ├── BrokenPipeError\n",
    "      │    │    ├── ConnectionAbortedError\n",
    "      │    │    ├── ConnectionRefusedError\n",
    "      │    │    └── ConnectionResetError\n",
    "      │    ├── FileExistsError\n",
    "      │    ├── FileNotFoundError\n",
    "      │    ├── InterruptedError\n",
    "      │    ├── IsADirectoryError\n",
    "      │    ├── NotADirectoryError\n",
    "      │    ├── PermissionError\n",
    "      │    ├── ProcessLookupError\n",
    "      │    └── TimeoutError\n",
    "      ├── ReferenceError\n",
    "      ├── RuntimeError\n",
    "      │    ├── NotImplementedError\n",
    "      │    └── RecursionError\n",
    "      ├── StopAsyncIteration\n",
    "      ├── StopIteration\n",
    "      ├── SyntaxError\n",
    "      │    └── IndentationError\n",
    "      │         └── TabError\n",
    "      ├── SystemError\n",
    "      ├── TypeError\n",
    "      ├── ValueError\n",
    "      │    └── UnicodeError\n",
    "      │         ├── UnicodeDecodeError\n",
    "      │         ├── UnicodeEncodeError\n",
    "      │         └── UnicodeTranslateError\n",
    "      └── Warning\n",
    "           ├── BytesWarning\n",
    "           ├── DeprecationWarning\n",
    "           ├── EncodingWarning\n",
    "           ├── FutureWarning\n",
    "           ├── ImportWarning\n",
    "           ├── PendingDeprecationWarning\n",
    "           ├── ResourceWarning\n",
    "           ├── RuntimeWarning\n",
    "           ├── SyntaxWarning\n",
    "           ├── UnicodeWarning\n",
    "           └── UserWarning"
   ]
  },
  {
   "cell_type": "markdown",
   "id": "e56bdbed",
   "metadata": {},
   "source": [
    "# Using try..except block"
   ]
  },
  {
   "cell_type": "code",
   "execution_count": null,
   "id": "a5e274bd",
   "metadata": {},
   "outputs": [],
   "source": [
    "# try:\n",
    "#     code prone to error\n",
    "# except:\n",
    "#     msg if the exception occurs"
   ]
  },
  {
   "cell_type": "code",
   "execution_count": 9,
   "id": "33b66967",
   "metadata": {},
   "outputs": [
    {
     "name": "stdout",
     "output_type": "stream",
     "text": [
      "0.5\n"
     ]
    }
   ],
   "source": [
    "try:\n",
    "    a = 100\n",
    "    b = 200\n",
    "    c = a/b\n",
    "    print(c)\n",
    "except:\n",
    "    print(\"Some error occured\")"
   ]
  },
  {
   "cell_type": "code",
   "execution_count": 13,
   "id": "6ca8c449",
   "metadata": {},
   "outputs": [
    {
     "name": "stdout",
     "output_type": "stream",
     "text": [
      "Enter a number other than zero:1\n",
      "100.0\n"
     ]
    }
   ],
   "source": [
    "a = 100\n",
    "try:\n",
    "    b = int(input(\"Enter a number other than zero:\"))\n",
    "    c = a/b\n",
    "    print(c)\n",
    "except:\n",
    "    print(\"Some error occured\")"
   ]
  },
  {
   "cell_type": "code",
   "execution_count": 16,
   "id": "87088c17",
   "metadata": {},
   "outputs": [
    {
     "name": "stdout",
     "output_type": "stream",
     "text": [
      "T\n"
     ]
    },
    {
     "ename": "IndexError",
     "evalue": "string index out of range",
     "output_type": "error",
     "traceback": [
      "\u001b[1;31m---------------------------------------------------------------------------\u001b[0m",
      "\u001b[1;31mIndexError\u001b[0m                                Traceback (most recent call last)",
      "Input \u001b[1;32mIn [16]\u001b[0m, in \u001b[0;36m<cell line: 3>\u001b[1;34m()\u001b[0m\n\u001b[0;32m      1\u001b[0m name \u001b[38;5;241m=\u001b[39m \u001b[38;5;124m\"\u001b[39m\u001b[38;5;124mPRATIK\u001b[39m\u001b[38;5;124m\"\u001b[39m\n\u001b[0;32m      2\u001b[0m \u001b[38;5;28mprint\u001b[39m(name[\u001b[38;5;241m3\u001b[39m])\n\u001b[1;32m----> 3\u001b[0m \u001b[38;5;28mprint\u001b[39m(\u001b[43mname\u001b[49m\u001b[43m[\u001b[49m\u001b[38;5;241;43m9\u001b[39;49m\u001b[43m]\u001b[49m)\n",
      "\u001b[1;31mIndexError\u001b[0m: string index out of range"
     ]
    }
   ],
   "source": [
    "name = \"PRATIK\"\n",
    "print(name[3])\n",
    "print(name[9]) #IndexError"
   ]
  },
  {
   "cell_type": "code",
   "execution_count": 18,
   "id": "55dd2437",
   "metadata": {},
   "outputs": [
    {
     "name": "stdout",
     "output_type": "stream",
     "text": [
      "Some error occured\n"
     ]
    }
   ],
   "source": [
    "name = \"PRATIK\"\n",
    "try:\n",
    "    print(name[9])\n",
    "except:\n",
    "    print(\"Some error occured\")\n",
    "    "
   ]
  },
  {
   "cell_type": "markdown",
   "id": "a0a85ce8",
   "metadata": {},
   "source": [
    "# using Exception class"
   ]
  },
  {
   "cell_type": "code",
   "execution_count": 20,
   "id": "5985595f",
   "metadata": {},
   "outputs": [
    {
     "name": "stdout",
     "output_type": "stream",
     "text": [
      "Some error occured string index out of range\n"
     ]
    }
   ],
   "source": [
    "name = \"PRATIK\"\n",
    "try:\n",
    "    print(name[9])\n",
    "except Exception as e :\n",
    "    print(\"Some error occured\", e)"
   ]
  },
  {
   "cell_type": "code",
   "execution_count": 21,
   "id": "d4072a9f",
   "metadata": {},
   "outputs": [
    {
     "name": "stdout",
     "output_type": "stream",
     "text": [
      "T\n",
      "Enter a number other than zero:2\n",
      "50.0\n"
     ]
    }
   ],
   "source": [
    "#  how to work on multiple exceptions ???\n",
    "name = \"PRATIK\"\n",
    "a = 100\n",
    "try:\n",
    "    print(name[3])\n",
    "    b = int(input(\"Enter a number other than zero:\"))\n",
    "    c = a/b\n",
    "    print(c)\n",
    "except Exception as e :\n",
    "    print(\"Some error occured\", e)"
   ]
  },
  {
   "cell_type": "code",
   "execution_count": 23,
   "id": "d7648cd3",
   "metadata": {},
   "outputs": [
    {
     "name": "stdout",
     "output_type": "stream",
     "text": [
      "Enter a number other than zero:2\n",
      "Some error occured string index out of range\n"
     ]
    }
   ],
   "source": [
    "name = \"PRATIK\"\n",
    "a = 100\n",
    "try:\n",
    "    b = int(input(\"Enter a number other than zero:\"))\n",
    "    print(name[9])\n",
    "    c = a/b\n",
    "    print(c)\n",
    "except Exception as e :\n",
    "    print(\"Some error occured\", e)"
   ]
  },
  {
   "cell_type": "code",
   "execution_count": 28,
   "id": "5140d813",
   "metadata": {},
   "outputs": [
    {
     "name": "stdout",
     "output_type": "stream",
     "text": [
      "Enter a number other than zero:33\n",
      "3.0303030303030303\n",
      "Some error occured string index out of range\n"
     ]
    }
   ],
   "source": [
    "# handling each type of exception using their specif class\n",
    "#  so as to amke the code better\n",
    "name = \"PRATIK\"\n",
    "a = 100\n",
    "try:\n",
    "    b = int(input(\"Enter a number other than zero:\"))\n",
    "    c = a/b\n",
    "    print(c)\n",
    "    print(name[9])\n",
    "except ZeroDivisionError as e :\n",
    "    print(\"Some error occured\", e)\n",
    "except IndexError as i :\n",
    "    print(\"Some error occured\", i)"
   ]
  },
  {
   "cell_type": "code",
   "execution_count": null,
   "id": "a679b148",
   "metadata": {},
   "outputs": [],
   "source": []
  }
 ],
 "metadata": {
  "kernelspec": {
   "display_name": "Python 3 (ipykernel)",
   "language": "python",
   "name": "python3"
  },
  "language_info": {
   "codemirror_mode": {
    "name": "ipython",
    "version": 3
   },
   "file_extension": ".py",
   "mimetype": "text/x-python",
   "name": "python",
   "nbconvert_exporter": "python",
   "pygments_lexer": "ipython3",
   "version": "3.10.5"
  }
 },
 "nbformat": 4,
 "nbformat_minor": 5
}
