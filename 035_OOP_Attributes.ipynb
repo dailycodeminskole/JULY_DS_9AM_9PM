{
 "cells": [
  {
   "cell_type": "code",
   "execution_count": 1,
   "id": "ea4e8d63",
   "metadata": {},
   "outputs": [],
   "source": [
    "x = 100\n"
   ]
  },
  {
   "cell_type": "code",
   "execution_count": 2,
   "id": "780fce09",
   "metadata": {},
   "outputs": [
    {
     "name": "stdout",
     "output_type": "stream",
     "text": [
      "<class 'int'>\n"
     ]
    }
   ],
   "source": [
    "print(type(x))"
   ]
  },
  {
   "cell_type": "code",
   "execution_count": 5,
   "id": "c6e6a9d3",
   "metadata": {},
   "outputs": [
    {
     "name": "stdout",
     "output_type": "stream",
     "text": [
      "Akash\n",
      "24\n",
      "Pune\n"
     ]
    }
   ],
   "source": [
    "class Student:\n",
    "    def __init__(self,name,age,area):\n",
    "        self.name = name\n",
    "        self.age = age\n",
    "        self.area = area\n",
    "        \n",
    "s7 = Student('Akash',24,\"Pune\")\n",
    "print(s7.name)\n",
    "print(s7.age)\n",
    "print(s7.area)"
   ]
  },
  {
   "cell_type": "code",
   "execution_count": 8,
   "id": "641e16ed",
   "metadata": {},
   "outputs": [
    {
     "name": "stdout",
     "output_type": "stream",
     "text": [
      "Hello World\n"
     ]
    }
   ],
   "source": [
    "class Student():\n",
    "    def __init__(self): \n",
    "        print(\"Hello World\")\n",
    "      \n",
    "s7 = Student()"
   ]
  },
  {
   "cell_type": "code",
   "execution_count": 11,
   "id": "4d44a4ec",
   "metadata": {},
   "outputs": [
    {
     "name": "stdout",
     "output_type": "stream",
     "text": [
      "Hello World\n",
      "None\n"
     ]
    }
   ],
   "source": [
    "class Student():\n",
    "    def greet(self):\n",
    "        print(\"Hello World\")\n",
    "s7 = Student()\n",
    "print(s7.greet())"
   ]
  },
  {
   "cell_type": "code",
   "execution_count": 12,
   "id": "118d3708",
   "metadata": {},
   "outputs": [
    {
     "ename": "TypeError",
     "evalue": "Student.__init__() takes 0 positional arguments but 1 was given",
     "output_type": "error",
     "traceback": [
      "\u001b[1;31m---------------------------------------------------------------------------\u001b[0m",
      "\u001b[1;31mTypeError\u001b[0m                                 Traceback (most recent call last)",
      "Input \u001b[1;32mIn [12]\u001b[0m, in \u001b[0;36m<cell line: 5>\u001b[1;34m()\u001b[0m\n\u001b[0;32m      2\u001b[0m     \u001b[38;5;28;01mdef\u001b[39;00m \u001b[38;5;21m__init__\u001b[39m():\n\u001b[0;32m      3\u001b[0m         \u001b[38;5;28mprint\u001b[39m(\u001b[38;5;124m\"\u001b[39m\u001b[38;5;124mHello World\u001b[39m\u001b[38;5;124m\"\u001b[39m)\n\u001b[1;32m----> 5\u001b[0m s7 \u001b[38;5;241m=\u001b[39m \u001b[43mStudent\u001b[49m\u001b[43m(\u001b[49m\u001b[43m)\u001b[49m\n",
      "\u001b[1;31mTypeError\u001b[0m: Student.__init__() takes 0 positional arguments but 1 was given"
     ]
    }
   ],
   "source": [
    "class Student():\n",
    "    def __init__():\n",
    "        print(\"Hello World\")\n",
    "      \n",
    "s7 = Student()"
   ]
  },
  {
   "cell_type": "code",
   "execution_count": 13,
   "id": "28a4e4da",
   "metadata": {},
   "outputs": [
    {
     "name": "stdout",
     "output_type": "stream",
     "text": [
      "Hello World\n"
     ]
    }
   ],
   "source": [
    "class Student():\n",
    "    def __init__(self):\n",
    "        print(\"Hello World\")\n",
    "      \n",
    "s7 = Student()"
   ]
  },
  {
   "cell_type": "code",
   "execution_count": 22,
   "id": "1311ee8e",
   "metadata": {},
   "outputs": [
    {
     "data": {
      "text/plain": [
       "25"
      ]
     },
     "execution_count": 22,
     "metadata": {},
     "output_type": "execute_result"
    }
   ],
   "source": [
    "class Student():\n",
    "    def __init__(self,name):\n",
    "        self.name = name\n",
    "    \n",
    "    def __init__(self,age):\n",
    "        self.age = age\n",
    "      \n",
    "# s7 = Student(\"Rakesh\")\n",
    "s7 = Student(25)\n",
    "# s7.name\n",
    "s7.age"
   ]
  },
  {
   "cell_type": "code",
   "execution_count": null,
   "id": "a35f8b39",
   "metadata": {},
   "outputs": [],
   "source": []
  }
 ],
 "metadata": {
  "kernelspec": {
   "display_name": "Python 3 (ipykernel)",
   "language": "python",
   "name": "python3"
  },
  "language_info": {
   "codemirror_mode": {
    "name": "ipython",
    "version": 3
   },
   "file_extension": ".py",
   "mimetype": "text/x-python",
   "name": "python",
   "nbconvert_exporter": "python",
   "pygments_lexer": "ipython3",
   "version": "3.10.5"
  }
 },
 "nbformat": 4,
 "nbformat_minor": 5
}
