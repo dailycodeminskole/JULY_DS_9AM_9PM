{
 "cells": [
  {
   "cell_type": "markdown",
   "id": "541f0eee",
   "metadata": {},
   "source": [
    "# PUBLIC VARIABLE"
   ]
  },
  {
   "cell_type": "code",
   "execution_count": null,
   "id": "d3a829b5",
   "metadata": {},
   "outputs": [],
   "source": []
  },
  {
   "cell_type": "code",
   "execution_count": 6,
   "id": "0494ecf7",
   "metadata": {},
   "outputs": [
    {
     "name": "stdout",
     "output_type": "stream",
     "text": [
      "Acc  no is : 1 and bal is 0\n",
      "Acc  no is : 2 and bal is 0\n",
      "Acc  no is : 1 and bal is 100\n",
      "Acc  no is : 2 and bal is 100\n",
      "Acc  no is : 1 and bal is 500000000000000000000\n"
     ]
    }
   ],
   "source": [
    "class Account():\n",
    "    counter  =  0 #class attribute\n",
    "    def __init__(self,opening_bal=0):\n",
    "        Account.counter = Account.counter +1\n",
    "        self.id = Account.counter\n",
    "        self.bal =  opening_bal\n",
    "        self.num_tx = 0\n",
    "        self.max_tx = 5\n",
    "    def __str__(self):\n",
    "        return f\"Acc  no is : {self.id} and bal is {self.bal}\"\n",
    "    \n",
    "    def deposit(self,amount):\n",
    "        if amount > 0 and self.num_tx < self.max_tx:\n",
    "            self.bal=  self.bal+ amount\n",
    "            self.num_tx = self.num_tx +1\n",
    "    \n",
    "    def withdraw(self,amount):\n",
    "        if amount > 0 and self.bal >=amount and self.num_tx < self.max_tx:\n",
    "            self.bal=  self.bal- amount\n",
    "            self.num_tx = self.num_tx +1\n",
    "class SavingsAccount(Account):\n",
    "    pass\n",
    "\n",
    "class CurrentAcocut(Account): #__init__ > id, bal,max_tx,num_tx\n",
    "    def __init__(self):\n",
    "        super().__init__()\n",
    "        self.max_tx = 100\n",
    "sa1 =  SavingsAccount()\n",
    "ca1 = CurrentAcocut()\n",
    "print(sa1)\n",
    "print(ca1)\n",
    "\n",
    "sa1.deposit(100)\n",
    "ca1.deposit(100)\n",
    "\n",
    "print(sa1)\n",
    "print(ca1)\n",
    "\n",
    "sa1.bal = 500000000000000000000\n",
    "print(sa1)"
   ]
  },
  {
   "cell_type": "markdown",
   "id": "28355669",
   "metadata": {},
   "source": [
    "# PRIVATE VARAIBLE"
   ]
  },
  {
   "cell_type": "code",
   "execution_count": 14,
   "id": "8d5550ae",
   "metadata": {},
   "outputs": [
    {
     "name": "stdout",
     "output_type": "stream",
     "text": [
      "Acc  no is : 1 and bal is 0\n",
      "Acc  no is : 2 and bal is 0\n",
      "Acc  no is : 1 and bal is 100\n",
      "Acc  no is : 2 and bal is 100\n",
      "Acc  no is : 1 and bal is 100\n",
      "500000000000000000000\n",
      "100\n",
      "200\n",
      "500000000000000000000\n"
     ]
    }
   ],
   "source": [
    "# hiding attribute using Name Mangling\n",
    "\n",
    "class Account():\n",
    "    counter  =  0 #class attribute\n",
    "    def __init__(self,opening_bal=0):\n",
    "        Account.counter = Account.counter +1\n",
    "        self.id = Account.counter\n",
    "        self.__bal =  opening_bal\n",
    "        self.num_tx = 0\n",
    "        self.max_tx = 5\n",
    "    def __str__(self):\n",
    "        return f\"Acc  no is : {self.id} and bal is {self.__bal}\"\n",
    "    \n",
    "    def deposit(self,amount):\n",
    "        if amount > 0 and self.num_tx < self.max_tx:\n",
    "            self.__bal=  self.__bal+ amount\n",
    "            self.num_tx = self.num_tx +1\n",
    "    \n",
    "    def withdraw(self,amount):\n",
    "        if amount > 0 and self.__bal >=amount and self.num_tx < self.max_tx:\n",
    "            self.__bal=  self.__bal- amount\n",
    "            self.num_tx = self.num_tx +1\n",
    "class SavingsAccount(Account):\n",
    "    pass\n",
    "\n",
    "class CurrentAcocut(Account): #__init__ > id, bal,max_tx,num_tx\n",
    "    def __init__(self):\n",
    "        super().__init__()\n",
    "        self.max_tx = 100\n",
    "sa1 =  SavingsAccount()\n",
    "ca1 = CurrentAcocut()\n",
    "print(sa1)\n",
    "print(ca1)\n",
    "\n",
    "sa1.deposit(100)\n",
    "ca1.deposit(100)\n",
    "\n",
    "print(sa1)\n",
    "print(ca1)\n",
    "\n",
    "sa1.__bal = 500000000000000000000\n",
    "print(sa1)\n",
    "\n",
    "print(sa1.__bal)\n",
    "\n",
    "\n",
    "# Name Mangling\n",
    "# Renaming the private variable\n",
    "# __bal is now used as _Account__bal\n",
    "\n",
    "\n",
    "print(sa1._Account__bal)\n",
    "\n",
    "\n",
    "sa1.deposit(100)\n",
    "print(sa1._Account__bal)\n",
    "\n",
    "print(sa1.__bal)"
   ]
  },
  {
   "cell_type": "markdown",
   "id": "54ac466f",
   "metadata": {},
   "source": [
    "# PROTECTED VARIABLE"
   ]
  },
  {
   "cell_type": "code",
   "execution_count": 17,
   "id": "ad872daf",
   "metadata": {},
   "outputs": [
    {
     "name": "stdout",
     "output_type": "stream",
     "text": [
      "Acc  no is : 1 and bal is 0\n",
      "Acc  no is : 2 and bal is 0\n",
      "Acc  no is : 1 and bal is 100\n",
      "Acc  no is : 2 and bal is 100\n",
      "Acc  no is : 1 and bal is 500\n"
     ]
    }
   ],
   "source": [
    "# THIS IS SYMBOLIC IN NATURE\n",
    "\n",
    "\n",
    "class Account():\n",
    "    counter  =  0 #class attribute\n",
    "    def __init__(self,opening_bal=0):\n",
    "        Account.counter = Account.counter +1\n",
    "        self.id = Account.counter\n",
    "        self._bal =  opening_bal\n",
    "        self.num_tx = 0\n",
    "        self.max_tx = 5\n",
    "    def __str__(self):\n",
    "        return f\"Acc  no is : {self.id} and bal is {self._bal}\"\n",
    "    \n",
    "    def deposit(self,amount):\n",
    "        if amount > 0 and self.num_tx < self.max_tx:\n",
    "            self._bal=  self._bal+ amount\n",
    "            self.num_tx = self.num_tx +1\n",
    "    \n",
    "    def withdraw(self,amount):\n",
    "        if amount > 0 and self._bal >=amount and self.num_tx < self.max_tx:\n",
    "            self._bal=  self._bal- amount\n",
    "            self.num_tx = self.num_tx +1\n",
    "class SavingsAccount(Account):\n",
    "    pass\n",
    "\n",
    "class CurrentAcocut(Account): #__init__ > id, bal,max_tx,num_tx\n",
    "    def __init__(self):\n",
    "        super().__init__()\n",
    "        self.max_tx = 100\n",
    "sa1 =  SavingsAccount()\n",
    "ca1 = CurrentAcocut()\n",
    "print(sa1)\n",
    "print(ca1)\n",
    "\n",
    "sa1.deposit(100)\n",
    "ca1.deposit(100)\n",
    "\n",
    "print(sa1)\n",
    "print(ca1)\n",
    "\n",
    "sa1._bal = 500\n",
    "print(sa1)\n"
   ]
  },
  {
   "cell_type": "code",
   "execution_count": null,
   "id": "1c4fcfa5",
   "metadata": {},
   "outputs": [],
   "source": []
  }
 ],
 "metadata": {
  "kernelspec": {
   "display_name": "Python 3 (ipykernel)",
   "language": "python",
   "name": "python3"
  },
  "language_info": {
   "codemirror_mode": {
    "name": "ipython",
    "version": 3
   },
   "file_extension": ".py",
   "mimetype": "text/x-python",
   "name": "python",
   "nbconvert_exporter": "python",
   "pygments_lexer": "ipython3",
   "version": "3.10.5"
  }
 },
 "nbformat": 4,
 "nbformat_minor": 5
}
