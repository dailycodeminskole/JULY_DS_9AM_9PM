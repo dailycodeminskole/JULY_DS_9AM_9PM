{
 "cells": [
  {
   "cell_type": "markdown",
   "id": "299e6998",
   "metadata": {},
   "source": [
    "# OS Module"
   ]
  },
  {
   "cell_type": "code",
   "execution_count": 9,
   "id": "aa45295c",
   "metadata": {},
   "outputs": [],
   "source": [
    "# inbuilt module in Python\n",
    "# no need to download or install"
   ]
  },
  {
   "cell_type": "code",
   "execution_count": 1,
   "id": "f07e03d1",
   "metadata": {},
   "outputs": [],
   "source": [
    "#  import Name_of_module\n",
    "import os"
   ]
  },
  {
   "cell_type": "code",
   "execution_count": 13,
   "id": "a1313b7f",
   "metadata": {},
   "outputs": [],
   "source": [
    "# getting help\n",
    "\n",
    "# help(os) #manual pages\n",
    "# dir(os)"
   ]
  },
  {
   "cell_type": "code",
   "execution_count": 14,
   "id": "b06cd46c",
   "metadata": {},
   "outputs": [
    {
     "data": {
      "text/plain": [
       "'C:\\\\Users\\\\RAHUL\\\\Documents\\\\OnePython\\\\013. JULY_DS_8.30AM_9PM'"
      ]
     },
     "execution_count": 14,
     "metadata": {},
     "output_type": "execute_result"
    }
   ],
   "source": [
    "# checking the current location\n",
    "# current working directory of exisiting dir\n",
    "\n",
    "os.getcwd()"
   ]
  },
  {
   "cell_type": "code",
   "execution_count": 17,
   "id": "dd8de093",
   "metadata": {},
   "outputs": [],
   "source": [
    "# changin the directory\n",
    "os.chdir(r'D:\\New folder')"
   ]
  },
  {
   "cell_type": "code",
   "execution_count": 18,
   "id": "d777674d",
   "metadata": {},
   "outputs": [
    {
     "data": {
      "text/plain": [
       "'D:\\\\New folder'"
      ]
     },
     "execution_count": 18,
     "metadata": {},
     "output_type": "execute_result"
    }
   ],
   "source": [
    "os.getcwd()"
   ]
  },
  {
   "cell_type": "code",
   "execution_count": 19,
   "id": "91122ca0",
   "metadata": {},
   "outputs": [],
   "source": [
    "# making a new directory\n",
    "os.mkdir(\"demo2\")"
   ]
  },
  {
   "cell_type": "code",
   "execution_count": 20,
   "id": "5563c074",
   "metadata": {},
   "outputs": [],
   "source": [
    "# changin the dir to required one\n",
    "os.chdir(r\"D:\\New folder\\demo2\")"
   ]
  },
  {
   "cell_type": "code",
   "execution_count": 21,
   "id": "15cb4945",
   "metadata": {},
   "outputs": [
    {
     "data": {
      "text/plain": [
       "'D:\\\\New folder\\\\demo2'"
      ]
     },
     "execution_count": 21,
     "metadata": {},
     "output_type": "execute_result"
    }
   ],
   "source": [
    "os.getcwd()"
   ]
  },
  {
   "cell_type": "code",
   "execution_count": 24,
   "id": "c8082180",
   "metadata": {},
   "outputs": [],
   "source": [
    "# creating dir using for loop\n",
    "for i in range(2,11):\n",
    "    os.mkdir(f\"Emp{i}\")"
   ]
  },
  {
   "cell_type": "code",
   "execution_count": 8,
   "id": "9383a882",
   "metadata": {},
   "outputs": [],
   "source": []
  },
  {
   "cell_type": "code",
   "execution_count": 25,
   "id": "6841acaa",
   "metadata": {},
   "outputs": [],
   "source": [
    "os.rmdir('Emp10/')"
   ]
  },
  {
   "cell_type": "code",
   "execution_count": 27,
   "id": "e7613d12",
   "metadata": {},
   "outputs": [
    {
     "data": {
      "text/plain": [
       "'D:\\\\New folder\\\\demo2'"
      ]
     },
     "execution_count": 27,
     "metadata": {},
     "output_type": "execute_result"
    }
   ],
   "source": [
    "os.getcwd()"
   ]
  },
  {
   "cell_type": "code",
   "execution_count": 28,
   "id": "019d27e5",
   "metadata": {},
   "outputs": [
    {
     "ename": "FileNotFoundError",
     "evalue": "[WinError 2] The system cannot find the file specified: 'demo2'",
     "output_type": "error",
     "traceback": [
      "\u001b[1;31m---------------------------------------------------------------------------\u001b[0m",
      "\u001b[1;31mFileNotFoundError\u001b[0m                         Traceback (most recent call last)",
      "Input \u001b[1;32mIn [28]\u001b[0m, in \u001b[0;36m<cell line: 1>\u001b[1;34m()\u001b[0m\n\u001b[1;32m----> 1\u001b[0m \u001b[43mos\u001b[49m\u001b[38;5;241;43m.\u001b[39;49m\u001b[43mrmdir\u001b[49m\u001b[43m(\u001b[49m\u001b[38;5;124;43m'\u001b[39;49m\u001b[38;5;124;43mdemo2\u001b[39;49m\u001b[38;5;124;43m'\u001b[39;49m\u001b[43m)\u001b[49m\n",
      "\u001b[1;31mFileNotFoundError\u001b[0m: [WinError 2] The system cannot find the file specified: 'demo2'"
     ]
    }
   ],
   "source": [
    "os.rmdir('demo2')"
   ]
  },
  {
   "cell_type": "code",
   "execution_count": 29,
   "id": "3bee3454",
   "metadata": {},
   "outputs": [
    {
     "data": {
      "text/plain": [
       "['Emp1', 'Emp2', 'Emp3', 'Emp4', 'Emp5', 'Emp6', 'Emp7', 'Emp8', 'Emp9']"
      ]
     },
     "execution_count": 29,
     "metadata": {},
     "output_type": "execute_result"
    }
   ],
   "source": [
    "os.listdir(r'D:\\New folder\\demo2')"
   ]
  },
  {
   "cell_type": "code",
   "execution_count": 31,
   "id": "64807844",
   "metadata": {},
   "outputs": [],
   "source": [
    "os.chdir(r'D:\\New folder')"
   ]
  },
  {
   "cell_type": "code",
   "execution_count": 34,
   "id": "5fbd77b8",
   "metadata": {},
   "outputs": [
    {
     "data": {
      "text/plain": [
       "['demo1', 'demo2']"
      ]
     },
     "execution_count": 34,
     "metadata": {},
     "output_type": "execute_result"
    }
   ],
   "source": [
    "os.listdir(r'D:\\New folder')"
   ]
  },
  {
   "cell_type": "code",
   "execution_count": 35,
   "id": "fc359531",
   "metadata": {},
   "outputs": [
    {
     "ename": "OSError",
     "evalue": "[WinError 145] The directory is not empty: 'demo2/'",
     "output_type": "error",
     "traceback": [
      "\u001b[1;31m---------------------------------------------------------------------------\u001b[0m",
      "\u001b[1;31mOSError\u001b[0m                                   Traceback (most recent call last)",
      "Input \u001b[1;32mIn [35]\u001b[0m, in \u001b[0;36m<cell line: 1>\u001b[1;34m()\u001b[0m\n\u001b[1;32m----> 1\u001b[0m \u001b[43mos\u001b[49m\u001b[38;5;241;43m.\u001b[39;49m\u001b[43mrmdir\u001b[49m\u001b[43m(\u001b[49m\u001b[38;5;124;43m'\u001b[39;49m\u001b[38;5;124;43mdemo2/\u001b[39;49m\u001b[38;5;124;43m'\u001b[39;49m\u001b[43m)\u001b[49m\n",
      "\u001b[1;31mOSError\u001b[0m: [WinError 145] The directory is not empty: 'demo2/'"
     ]
    }
   ],
   "source": [
    "os.rmdir('demo2/') # dir have data , so python will not allow to delete"
   ]
  },
  {
   "cell_type": "code",
   "execution_count": 36,
   "id": "5b709d11",
   "metadata": {},
   "outputs": [],
   "source": [
    "os.rmdir('demo1/')"
   ]
  },
  {
   "cell_type": "code",
   "execution_count": 37,
   "id": "bd2c8ffe",
   "metadata": {},
   "outputs": [
    {
     "ename": "PermissionError",
     "evalue": "[WinError 5] Access is denied: 'demo2/'",
     "output_type": "error",
     "traceback": [
      "\u001b[1;31m---------------------------------------------------------------------------\u001b[0m",
      "\u001b[1;31mPermissionError\u001b[0m                           Traceback (most recent call last)",
      "Input \u001b[1;32mIn [37]\u001b[0m, in \u001b[0;36m<cell line: 1>\u001b[1;34m()\u001b[0m\n\u001b[1;32m----> 1\u001b[0m \u001b[43mos\u001b[49m\u001b[38;5;241;43m.\u001b[39;49m\u001b[43mremove\u001b[49m\u001b[43m(\u001b[49m\u001b[38;5;124;43m'\u001b[39;49m\u001b[38;5;124;43mdemo2/\u001b[39;49m\u001b[38;5;124;43m'\u001b[39;49m\u001b[43m)\u001b[49m\n",
      "\u001b[1;31mPermissionError\u001b[0m: [WinError 5] Access is denied: 'demo2/'"
     ]
    }
   ],
   "source": [
    "os.remove('demo2/')"
   ]
  },
  {
   "cell_type": "code",
   "execution_count": 38,
   "id": "f3ae45ba",
   "metadata": {},
   "outputs": [
    {
     "ename": "OSError",
     "evalue": "[WinError 145] The directory is not empty: 'demo2/'",
     "output_type": "error",
     "traceback": [
      "\u001b[1;31m---------------------------------------------------------------------------\u001b[0m",
      "\u001b[1;31mOSError\u001b[0m                                   Traceback (most recent call last)",
      "Input \u001b[1;32mIn [38]\u001b[0m, in \u001b[0;36m<cell line: 1>\u001b[1;34m()\u001b[0m\n\u001b[1;32m----> 1\u001b[0m \u001b[43mos\u001b[49m\u001b[38;5;241;43m.\u001b[39;49m\u001b[43mremovedirs\u001b[49m\u001b[43m(\u001b[49m\u001b[38;5;124;43m'\u001b[39;49m\u001b[38;5;124;43mdemo2/\u001b[39;49m\u001b[38;5;124;43m'\u001b[39;49m\u001b[43m)\u001b[49m\n",
      "File \u001b[1;32mC:\\Python\\Python310\\lib\\os.py:243\u001b[0m, in \u001b[0;36mremovedirs\u001b[1;34m(name)\u001b[0m\n\u001b[0;32m    232\u001b[0m \u001b[38;5;28;01mdef\u001b[39;00m \u001b[38;5;21mremovedirs\u001b[39m(name):\n\u001b[0;32m    233\u001b[0m     \u001b[38;5;124;03m\"\"\"removedirs(name)\u001b[39;00m\n\u001b[0;32m    234\u001b[0m \n\u001b[0;32m    235\u001b[0m \u001b[38;5;124;03m    Super-rmdir; remove a leaf directory and all empty intermediate\u001b[39;00m\n\u001b[1;32m   (...)\u001b[0m\n\u001b[0;32m    241\u001b[0m \n\u001b[0;32m    242\u001b[0m \u001b[38;5;124;03m    \"\"\"\u001b[39;00m\n\u001b[1;32m--> 243\u001b[0m     \u001b[43mrmdir\u001b[49m\u001b[43m(\u001b[49m\u001b[43mname\u001b[49m\u001b[43m)\u001b[49m\n\u001b[0;32m    244\u001b[0m     head, tail \u001b[38;5;241m=\u001b[39m path\u001b[38;5;241m.\u001b[39msplit(name)\n\u001b[0;32m    245\u001b[0m     \u001b[38;5;28;01mif\u001b[39;00m \u001b[38;5;129;01mnot\u001b[39;00m tail:\n",
      "\u001b[1;31mOSError\u001b[0m: [WinError 145] The directory is not empty: 'demo2/'"
     ]
    }
   ],
   "source": [
    "os.removedirs('demo2/')"
   ]
  },
  {
   "cell_type": "code",
   "execution_count": 40,
   "id": "4ac7f4d7",
   "metadata": {},
   "outputs": [
    {
     "name": "stdout",
     "output_type": "stream",
     "text": [
      "Help on function removedirs in module os:\n",
      "\n",
      "removedirs(name)\n",
      "    removedirs(name)\n",
      "    \n",
      "    Super-rmdir; remove a leaf directory and all empty intermediate\n",
      "    ones.  Works like rmdir except that, if the leaf directory is\n",
      "    successfully removed, directories corresponding to rightmost path\n",
      "    segments will be pruned away until either the whole path is\n",
      "    consumed or an error occurs.  Errors during this latter phase are\n",
      "    ignored -- they generally mean that a directory was not empty.\n",
      "\n"
     ]
    }
   ],
   "source": [
    "help(os.removedirs)"
   ]
  },
  {
   "cell_type": "code",
   "execution_count": 41,
   "id": "66fe951f",
   "metadata": {},
   "outputs": [
    {
     "data": {
      "text/plain": [
       "'D:\\\\New folder'"
      ]
     },
     "execution_count": 41,
     "metadata": {},
     "output_type": "execute_result"
    }
   ],
   "source": [
    "os.getcwd()"
   ]
  },
  {
   "cell_type": "code",
   "execution_count": 42,
   "id": "6e079bab",
   "metadata": {},
   "outputs": [],
   "source": [
    "os.chdir(r\"D:\\New folder\\demo2\")"
   ]
  },
  {
   "cell_type": "code",
   "execution_count": 43,
   "id": "bb08907e",
   "metadata": {},
   "outputs": [
    {
     "data": {
      "text/plain": [
       "['Emp1', 'Emp2', 'Emp3', 'Emp4', 'Emp5', 'Emp6', 'Emp7', 'Emp8', 'Emp9']"
      ]
     },
     "execution_count": 43,
     "metadata": {},
     "output_type": "execute_result"
    }
   ],
   "source": [
    "os.listdir()"
   ]
  },
  {
   "cell_type": "code",
   "execution_count": 45,
   "id": "04327ecd",
   "metadata": {},
   "outputs": [],
   "source": [
    "# removing multiple dir usiing for loop\n",
    "\n",
    "for i in os.listdir():\n",
    "    os.rmdir(i)"
   ]
  },
  {
   "cell_type": "code",
   "execution_count": 46,
   "id": "6944710f",
   "metadata": {},
   "outputs": [
    {
     "data": {
      "text/plain": [
       "[]"
      ]
     },
     "execution_count": 46,
     "metadata": {},
     "output_type": "execute_result"
    }
   ],
   "source": [
    "os.listdir()"
   ]
  },
  {
   "cell_type": "code",
   "execution_count": null,
   "id": "3736784d",
   "metadata": {},
   "outputs": [],
   "source": []
  }
 ],
 "metadata": {
  "kernelspec": {
   "display_name": "Python 3 (ipykernel)",
   "language": "python",
   "name": "python3"
  },
  "language_info": {
   "codemirror_mode": {
    "name": "ipython",
    "version": 3
   },
   "file_extension": ".py",
   "mimetype": "text/x-python",
   "name": "python",
   "nbconvert_exporter": "python",
   "pygments_lexer": "ipython3",
   "version": "3.10.5"
  }
 },
 "nbformat": 4,
 "nbformat_minor": 5
}
