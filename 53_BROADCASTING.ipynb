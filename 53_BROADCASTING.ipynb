{
 "cells": [
  {
   "cell_type": "code",
   "execution_count": null,
   "id": "040c1d54",
   "metadata": {},
   "outputs": [],
   "source": []
  },
  {
   "cell_type": "code",
   "execution_count": null,
   "id": "a9749117",
   "metadata": {},
   "outputs": [],
   "source": []
  },
  {
   "cell_type": "code",
   "execution_count": null,
   "id": "0b3e5510",
   "metadata": {},
   "outputs": [],
   "source": [
    "# /HW\n",
    "1. # slice the array to get below name\n",
    "s = np.array([['Priya', 'Rohit', 'Aryan'],\n",
    "       ['Neha', 'Avni', 'Akash'],\n",
    "       ['Arjun', 'Riya', 'Devanshi']])\n",
    "\n",
    "\n",
    "1. 'Priya', 'Rohit', 'Aryan'\n",
    "2. 'Riya','Devanshi'\n",
    "3. 'Neha', 'Avni', 'Akash' 'Arjun', 'Riya', 'Devanshi'\n",
    "4. 'Avni'\n",
    "5. 'Neha'\n",
    "\n",
    "2. Use masking to get the values\n",
    "score = np.random.randint(10,100,15).reshape(5,3)\n",
    "1. find all scores > 50\n",
    "2. find all scores <35"
   ]
  },
  {
   "cell_type": "code",
   "execution_count": null,
   "id": "3da3b95e",
   "metadata": {},
   "outputs": [],
   "source": []
  },
  {
   "cell_type": "code",
   "execution_count": null,
   "id": "0ef7ac3f",
   "metadata": {},
   "outputs": [],
   "source": []
  },
  {
   "cell_type": "markdown",
   "id": "dfc68560",
   "metadata": {},
   "source": [
    "# Broadcasting"
   ]
  },
  {
   "cell_type": "code",
   "execution_count": 2,
   "id": "08cfcc2f",
   "metadata": {},
   "outputs": [],
   "source": [
    "import numpy as np"
   ]
  },
  {
   "cell_type": "code",
   "execution_count": 3,
   "id": "b1e649af",
   "metadata": {},
   "outputs": [],
   "source": [
    "x = np.array([10,20,30]) #list  =  1D Array \n",
    "y = np.array([[1],[2],[3],[4]]) #list of list = 2D array"
   ]
  },
  {
   "cell_type": "code",
   "execution_count": 4,
   "id": "0a6f0a2c",
   "metadata": {},
   "outputs": [
    {
     "data": {
      "text/plain": [
       "array([10, 20, 30])"
      ]
     },
     "execution_count": 4,
     "metadata": {},
     "output_type": "execute_result"
    }
   ],
   "source": [
    "x"
   ]
  },
  {
   "cell_type": "code",
   "execution_count": 5,
   "id": "ef6fce65",
   "metadata": {},
   "outputs": [
    {
     "data": {
      "text/plain": [
       "array([[1],\n",
       "       [2],\n",
       "       [3],\n",
       "       [4]])"
      ]
     },
     "execution_count": 5,
     "metadata": {},
     "output_type": "execute_result"
    }
   ],
   "source": [
    "y"
   ]
  },
  {
   "cell_type": "code",
   "execution_count": 7,
   "id": "8bae0a00",
   "metadata": {},
   "outputs": [
    {
     "name": "stdout",
     "output_type": "stream",
     "text": [
      "1\n",
      "(3,)\n",
      "2\n",
      "(4, 1)\n"
     ]
    }
   ],
   "source": [
    "print(x.ndim)\n",
    "print(x.shape)\n",
    "print(y.ndim)\n",
    "print(y.shape)"
   ]
  },
  {
   "cell_type": "code",
   "execution_count": 8,
   "id": "ee382bb7",
   "metadata": {},
   "outputs": [
    {
     "data": {
      "text/plain": [
       "array([[11, 21, 31],\n",
       "       [12, 22, 32],\n",
       "       [13, 23, 33],\n",
       "       [14, 24, 34]])"
      ]
     },
     "execution_count": 8,
     "metadata": {},
     "output_type": "execute_result"
    }
   ],
   "source": [
    "x + y"
   ]
  },
  {
   "cell_type": "code",
   "execution_count": 11,
   "id": "50d4e99e",
   "metadata": {},
   "outputs": [
    {
     "data": {
      "text/plain": [
       "array([10, 20, 30])"
      ]
     },
     "execution_count": 11,
     "metadata": {},
     "output_type": "execute_result"
    }
   ],
   "source": [
    "x"
   ]
  },
  {
   "cell_type": "code",
   "execution_count": 10,
   "id": "01577ee3",
   "metadata": {},
   "outputs": [
    {
     "data": {
      "text/plain": [
       "array([11, 21, 31])"
      ]
     },
     "execution_count": 10,
     "metadata": {},
     "output_type": "execute_result"
    }
   ],
   "source": [
    "x +1"
   ]
  },
  {
   "cell_type": "code",
   "execution_count": 15,
   "id": "fba5012b",
   "metadata": {},
   "outputs": [],
   "source": [
    "x = np.array([10,20,30,40]) #list  =  1D Array \n",
    "y = np.array([[1],[2],[3],[4]]) #list of list = 2D array"
   ]
  },
  {
   "cell_type": "code",
   "execution_count": 16,
   "id": "ef8552ff",
   "metadata": {},
   "outputs": [
    {
     "data": {
      "text/plain": [
       "array([10, 20, 30, 40])"
      ]
     },
     "execution_count": 16,
     "metadata": {},
     "output_type": "execute_result"
    }
   ],
   "source": [
    "x"
   ]
  },
  {
   "cell_type": "code",
   "execution_count": 17,
   "id": "f3eedd4f",
   "metadata": {},
   "outputs": [
    {
     "data": {
      "text/plain": [
       "array([[1],\n",
       "       [2],\n",
       "       [3],\n",
       "       [4]])"
      ]
     },
     "execution_count": 17,
     "metadata": {},
     "output_type": "execute_result"
    }
   ],
   "source": [
    "y"
   ]
  },
  {
   "cell_type": "code",
   "execution_count": 18,
   "id": "5ed27d27",
   "metadata": {},
   "outputs": [
    {
     "data": {
      "text/plain": [
       "array([[11, 21, 31, 41],\n",
       "       [12, 22, 32, 42],\n",
       "       [13, 23, 33, 43],\n",
       "       [14, 24, 34, 44]])"
      ]
     },
     "execution_count": 18,
     "metadata": {},
     "output_type": "execute_result"
    }
   ],
   "source": [
    "x+y"
   ]
  },
  {
   "cell_type": "code",
   "execution_count": 22,
   "id": "b3cfcaae",
   "metadata": {},
   "outputs": [],
   "source": [
    "x = np.array([10,20,30]) #list  =  1D Array "
   ]
  },
  {
   "cell_type": "code",
   "execution_count": 23,
   "id": "d1fcf2e0",
   "metadata": {},
   "outputs": [],
   "source": [
    "arr1 = np.arange(15).reshape(5,3)"
   ]
  },
  {
   "cell_type": "code",
   "execution_count": 24,
   "id": "b55aab4b",
   "metadata": {},
   "outputs": [
    {
     "data": {
      "text/plain": [
       "array([[ 0,  1,  2],\n",
       "       [ 3,  4,  5],\n",
       "       [ 6,  7,  8],\n",
       "       [ 9, 10, 11],\n",
       "       [12, 13, 14]])"
      ]
     },
     "execution_count": 24,
     "metadata": {},
     "output_type": "execute_result"
    }
   ],
   "source": [
    "arr1"
   ]
  },
  {
   "cell_type": "code",
   "execution_count": 25,
   "id": "7f621697",
   "metadata": {},
   "outputs": [
    {
     "data": {
      "text/plain": [
       "array([[10, 21, 32],\n",
       "       [13, 24, 35],\n",
       "       [16, 27, 38],\n",
       "       [19, 30, 41],\n",
       "       [22, 33, 44]])"
      ]
     },
     "execution_count": 25,
     "metadata": {},
     "output_type": "execute_result"
    }
   ],
   "source": [
    "arr1 +x"
   ]
  },
  {
   "cell_type": "code",
   "execution_count": null,
   "id": "cf533cca",
   "metadata": {},
   "outputs": [],
   "source": []
  },
  {
   "cell_type": "code",
   "execution_count": null,
   "id": "707b15b1",
   "metadata": {},
   "outputs": [],
   "source": [
    "# splitting"
   ]
  },
  {
   "cell_type": "code",
   "execution_count": 26,
   "id": "ace81532",
   "metadata": {},
   "outputs": [],
   "source": [
    "x = np.arange(9)"
   ]
  },
  {
   "cell_type": "code",
   "execution_count": 27,
   "id": "926f9b36",
   "metadata": {},
   "outputs": [
    {
     "data": {
      "text/plain": [
       "array([0, 1, 2, 3, 4, 5, 6, 7, 8])"
      ]
     },
     "execution_count": 27,
     "metadata": {},
     "output_type": "execute_result"
    }
   ],
   "source": [
    "x"
   ]
  },
  {
   "cell_type": "code",
   "execution_count": 28,
   "id": "657625f8",
   "metadata": {},
   "outputs": [
    {
     "data": {
      "text/plain": [
       "[array([0, 1, 2]), array([3, 4, 5]), array([6, 7, 8])]"
      ]
     },
     "execution_count": 28,
     "metadata": {},
     "output_type": "execute_result"
    }
   ],
   "source": [
    "np.split(x,3) #the o/p will be a list of arrays"
   ]
  },
  {
   "cell_type": "code",
   "execution_count": 29,
   "id": "7e8b9568",
   "metadata": {},
   "outputs": [
    {
     "data": {
      "text/plain": [
       "array([0, 1, 2])"
      ]
     },
     "execution_count": 29,
     "metadata": {},
     "output_type": "execute_result"
    }
   ],
   "source": [
    "np.split(x,3)[0]"
   ]
  },
  {
   "cell_type": "code",
   "execution_count": 30,
   "id": "caeca235",
   "metadata": {},
   "outputs": [],
   "source": [
    "z = np.arange(16).reshape(4,4)"
   ]
  },
  {
   "cell_type": "code",
   "execution_count": 31,
   "id": "1689307a",
   "metadata": {},
   "outputs": [
    {
     "data": {
      "text/plain": [
       "array([[ 0,  1,  2,  3],\n",
       "       [ 4,  5,  6,  7],\n",
       "       [ 8,  9, 10, 11],\n",
       "       [12, 13, 14, 15]])"
      ]
     },
     "execution_count": 31,
     "metadata": {},
     "output_type": "execute_result"
    }
   ],
   "source": [
    "z"
   ]
  },
  {
   "cell_type": "code",
   "execution_count": 32,
   "id": "3c40d097",
   "metadata": {},
   "outputs": [
    {
     "data": {
      "text/plain": [
       "[array([[0, 1, 2, 3]]),\n",
       " array([[4, 5, 6, 7]]),\n",
       " array([[ 8,  9, 10, 11]]),\n",
       " array([[12, 13, 14, 15]])]"
      ]
     },
     "execution_count": 32,
     "metadata": {},
     "output_type": "execute_result"
    }
   ],
   "source": [
    "np.split(z,4)"
   ]
  },
  {
   "cell_type": "code",
   "execution_count": 34,
   "id": "1d671524",
   "metadata": {},
   "outputs": [
    {
     "data": {
      "text/plain": [
       "[array([[0, 1, 2, 3]]),\n",
       " array([[4, 5, 6, 7]]),\n",
       " array([[ 8,  9, 10, 11]]),\n",
       " array([[12, 13, 14, 15]])]"
      ]
     },
     "execution_count": 34,
     "metadata": {},
     "output_type": "execute_result"
    }
   ],
   "source": [
    "np.split(z,4,axis=0)"
   ]
  },
  {
   "cell_type": "code",
   "execution_count": 35,
   "id": "62178d8a",
   "metadata": {},
   "outputs": [
    {
     "data": {
      "text/plain": [
       "[array([[ 0],\n",
       "        [ 4],\n",
       "        [ 8],\n",
       "        [12]]),\n",
       " array([[ 1],\n",
       "        [ 5],\n",
       "        [ 9],\n",
       "        [13]]),\n",
       " array([[ 2],\n",
       "        [ 6],\n",
       "        [10],\n",
       "        [14]]),\n",
       " array([[ 3],\n",
       "        [ 7],\n",
       "        [11],\n",
       "        [15]])]"
      ]
     },
     "execution_count": 35,
     "metadata": {},
     "output_type": "execute_result"
    }
   ],
   "source": [
    "np.split(z,4,axis=1)"
   ]
  },
  {
   "cell_type": "code",
   "execution_count": null,
   "id": "f951d483",
   "metadata": {},
   "outputs": [],
   "source": [
    "# hsplit\n",
    "# vsplit\n"
   ]
  },
  {
   "cell_type": "code",
   "execution_count": null,
   "id": "92a256e8",
   "metadata": {},
   "outputs": [],
   "source": []
  },
  {
   "cell_type": "code",
   "execution_count": null,
   "id": "2de65b22",
   "metadata": {},
   "outputs": [],
   "source": []
  },
  {
   "cell_type": "code",
   "execution_count": null,
   "id": "91ce0635",
   "metadata": {},
   "outputs": [],
   "source": []
  },
  {
   "cell_type": "code",
   "execution_count": null,
   "id": "6041a616",
   "metadata": {},
   "outputs": [],
   "source": [
    "# Aggreagte Function"
   ]
  },
  {
   "cell_type": "code",
   "execution_count": null,
   "id": "19b29078",
   "metadata": {},
   "outputs": [],
   "source": []
  },
  {
   "cell_type": "code",
   "execution_count": null,
   "id": "a1b319b9",
   "metadata": {},
   "outputs": [],
   "source": []
  }
 ],
 "metadata": {
  "kernelspec": {
   "display_name": "Python 3 (ipykernel)",
   "language": "python",
   "name": "python3"
  },
  "language_info": {
   "codemirror_mode": {
    "name": "ipython",
    "version": 3
   },
   "file_extension": ".py",
   "mimetype": "text/x-python",
   "name": "python",
   "nbconvert_exporter": "python",
   "pygments_lexer": "ipython3",
   "version": "3.10.5"
  }
 },
 "nbformat": 4,
 "nbformat_minor": 5
}
