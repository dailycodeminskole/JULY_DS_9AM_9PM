{
 "cells": [
  {
   "cell_type": "code",
   "execution_count": null,
   "id": "01c9a52d",
   "metadata": {},
   "outputs": [],
   "source": []
  },
  {
   "cell_type": "code",
   "execution_count": 1,
   "id": "0c997fc5",
   "metadata": {},
   "outputs": [],
   "source": [
    "#HOw to write/organise the code"
   ]
  },
  {
   "cell_type": "markdown",
   "id": "7cccc1c1",
   "metadata": {},
   "source": [
    "# line by line"
   ]
  },
  {
   "cell_type": "code",
   "execution_count": 4,
   "id": "6b061275",
   "metadata": {},
   "outputs": [
    {
     "name": "stdout",
     "output_type": "stream",
     "text": [
      "Hello World\n",
      "We will make addition of two numbers\n",
      "30\n"
     ]
    }
   ],
   "source": [
    "print(\"Hello World\")\n",
    "print(\"We will make addition of two numbers\")\n",
    "print(10+20)"
   ]
  },
  {
   "cell_type": "markdown",
   "id": "f63ba621",
   "metadata": {},
   "source": [
    "# functional programming"
   ]
  },
  {
   "cell_type": "code",
   "execution_count": 9,
   "id": "da907518",
   "metadata": {},
   "outputs": [],
   "source": [
    "def greet():\n",
    "    print(\"Hello World\")\n",
    "def calc():\n",
    "    print(\"We will make addition of two numbers\")\n",
    "    print(10+20)"
   ]
  },
  {
   "cell_type": "code",
   "execution_count": 10,
   "id": "d41bbf6c",
   "metadata": {},
   "outputs": [
    {
     "name": "stdout",
     "output_type": "stream",
     "text": [
      "Hello World\n",
      "We will make addition of two numbers\n",
      "30\n"
     ]
    }
   ],
   "source": [
    "greet()\n",
    "calc()"
   ]
  },
  {
   "cell_type": "code",
   "execution_count": 11,
   "id": "7537a022",
   "metadata": {},
   "outputs": [
    {
     "name": "stdout",
     "output_type": "stream",
     "text": [
      "Hello World\n"
     ]
    }
   ],
   "source": [
    "greet()"
   ]
  },
  {
   "cell_type": "markdown",
   "id": "7271fd49",
   "metadata": {},
   "source": [
    "# OOP"
   ]
  },
  {
   "cell_type": "code",
   "execution_count": 12,
   "id": "b527ec95",
   "metadata": {},
   "outputs": [],
   "source": [
    "# Object oriented Programming"
   ]
  },
  {
   "cell_type": "code",
   "execution_count": 14,
   "id": "54fae873",
   "metadata": {},
   "outputs": [],
   "source": [
    "# School>>\n",
    "\n",
    "# students\n",
    "# teachers\n",
    "# subjects\n",
    "# exams\n"
   ]
  },
  {
   "cell_type": "code",
   "execution_count": 15,
   "id": "e52dc484",
   "metadata": {},
   "outputs": [],
   "source": [
    "# bank >>>\n",
    "\n",
    "# customers\n",
    "# accounts\n",
    "# transactions\n",
    "# debit/credit"
   ]
  },
  {
   "cell_type": "markdown",
   "id": "6cdc910f",
   "metadata": {},
   "source": [
    "# how to create a class"
   ]
  },
  {
   "cell_type": "code",
   "execution_count": 16,
   "id": "31a92d26",
   "metadata": {},
   "outputs": [],
   "source": [
    "class Student():\n",
    "    pass"
   ]
  },
  {
   "cell_type": "code",
   "execution_count": 20,
   "id": "4468bdcd",
   "metadata": {},
   "outputs": [
    {
     "name": "stdout",
     "output_type": "stream",
     "text": [
      "<__main__.Student object at 0x000001BD70B9AE00>\n"
     ]
    }
   ],
   "source": [
    "print(Student())"
   ]
  },
  {
   "cell_type": "code",
   "execution_count": 19,
   "id": "bb1ccbb3",
   "metadata": {},
   "outputs": [
    {
     "name": "stdout",
     "output_type": "stream",
     "text": [
      "<__main__.Student object at 0x000001BD70B9A980>\n"
     ]
    }
   ],
   "source": [
    "s1 = Student()\n",
    "print(s1)"
   ]
  },
  {
   "cell_type": "code",
   "execution_count": 21,
   "id": "a2722635",
   "metadata": {},
   "outputs": [
    {
     "name": "stdout",
     "output_type": "stream",
     "text": [
      "<__main__.Student object at 0x000001BD71085A20>\n"
     ]
    }
   ],
   "source": [
    "s2 = Student()\n",
    "print(s2)"
   ]
  },
  {
   "cell_type": "code",
   "execution_count": 22,
   "id": "94de2be3",
   "metadata": {},
   "outputs": [],
   "source": [
    "s1.name = \"Rahul\""
   ]
  },
  {
   "cell_type": "code",
   "execution_count": 23,
   "id": "96f65800",
   "metadata": {},
   "outputs": [
    {
     "name": "stdout",
     "output_type": "stream",
     "text": [
      "Rahul\n"
     ]
    }
   ],
   "source": [
    "print(s1.name)"
   ]
  },
  {
   "cell_type": "code",
   "execution_count": 24,
   "id": "1c83b346",
   "metadata": {},
   "outputs": [
    {
     "name": "stdout",
     "output_type": "stream",
     "text": [
      "Mahesh\n"
     ]
    }
   ],
   "source": [
    "s2.name = \"Mahesh\"\n",
    "print(s2.name)"
   ]
  },
  {
   "cell_type": "code",
   "execution_count": 25,
   "id": "09db004e",
   "metadata": {},
   "outputs": [
    {
     "name": "stdout",
     "output_type": "stream",
     "text": [
      "Nasik\n"
     ]
    }
   ],
   "source": [
    "s1.place = \"Nasik\"\n",
    "print(s1.place)"
   ]
  },
  {
   "cell_type": "code",
   "execution_count": 26,
   "id": "ecef0ecc",
   "metadata": {},
   "outputs": [
    {
     "name": "stdout",
     "output_type": "stream",
     "text": [
      "Nagpur\n"
     ]
    }
   ],
   "source": [
    "s2.place = \"Nagpur\"\n",
    "print(s2.place)"
   ]
  },
  {
   "cell_type": "code",
   "execution_count": null,
   "id": "626c630a",
   "metadata": {},
   "outputs": [],
   "source": []
  }
 ],
 "metadata": {
  "kernelspec": {
   "display_name": "Python 3 (ipykernel)",
   "language": "python",
   "name": "python3"
  },
  "language_info": {
   "codemirror_mode": {
    "name": "ipython",
    "version": 3
   },
   "file_extension": ".py",
   "mimetype": "text/x-python",
   "name": "python",
   "nbconvert_exporter": "python",
   "pygments_lexer": "ipython3",
   "version": "3.10.5"
  }
 },
 "nbformat": 4,
 "nbformat_minor": 5
}
