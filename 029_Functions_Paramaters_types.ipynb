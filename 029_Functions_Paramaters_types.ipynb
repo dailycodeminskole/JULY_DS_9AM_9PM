{
 "cells": [
  {
   "cell_type": "markdown",
   "id": "cdfdf0a5",
   "metadata": {},
   "source": [
    "#  Fixed lenght parameters"
   ]
  },
  {
   "cell_type": "code",
   "execution_count": 1,
   "id": "146027d6",
   "metadata": {},
   "outputs": [
    {
     "name": "stdout",
     "output_type": "stream",
     "text": [
      "136\n",
      "-10\n"
     ]
    }
   ],
   "source": [
    "def calc(a,b):\n",
    "    print(a+b)\n",
    "    print(a-b)\n",
    "calc(63,73)"
   ]
  },
  {
   "cell_type": "markdown",
   "id": "5c74d08a",
   "metadata": {},
   "source": [
    "# Variable  lenght parameters"
   ]
  },
  {
   "cell_type": "code",
   "execution_count": 6,
   "id": "f6fa3ea4",
   "metadata": {},
   "outputs": [],
   "source": [
    "def sum(*args):\n",
    "    \n",
    "    sum =0\n",
    "    for i in args:\n",
    "        sum = sum+i\n",
    "    print(sum)\n",
    "    print(args)\n",
    "    print(type(args))"
   ]
  },
  {
   "cell_type": "code",
   "execution_count": 7,
   "id": "2eb6ba25",
   "metadata": {},
   "outputs": [
    {
     "name": "stdout",
     "output_type": "stream",
     "text": [
      "30\n",
      "(10, 20)\n",
      "<class 'tuple'>\n"
     ]
    }
   ],
   "source": [
    "sum(10,20)"
   ]
  },
  {
   "cell_type": "code",
   "execution_count": 12,
   "id": "50ffba75",
   "metadata": {},
   "outputs": [],
   "source": [
    "#  * indiacates variable legth\n",
    "\n",
    "def sum(*args):\n",
    "    \n",
    "    sum =0\n",
    "    for i in args:\n",
    "        sum = sum+i\n",
    "    print(sum)\n",
    "    print(args)\n",
    "    print(type(args))"
   ]
  },
  {
   "cell_type": "code",
   "execution_count": 13,
   "id": "361a18a1",
   "metadata": {},
   "outputs": [
    {
     "name": "stdout",
     "output_type": "stream",
     "text": [
      "120\n",
      "(10, 11, 11, 22, 66)\n",
      "<class 'tuple'>\n"
     ]
    }
   ],
   "source": [
    "sum(10,11,11,22,66)"
   ]
  },
  {
   "cell_type": "code",
   "execution_count": 14,
   "id": "686ea222",
   "metadata": {},
   "outputs": [],
   "source": [
    "#  * indiacates variable legth\n",
    "#  args is not compulsory\n",
    "#  its a industry practice\n",
    "\n",
    "\n",
    "def sum(*kajal):\n",
    "    \n",
    "    sum =0\n",
    "    for i in kajal:\n",
    "        sum = sum+i\n",
    "    print(sum)\n",
    "    print(kajal)\n",
    "    print(type(kajal))"
   ]
  },
  {
   "cell_type": "code",
   "execution_count": 15,
   "id": "d285e358",
   "metadata": {},
   "outputs": [
    {
     "name": "stdout",
     "output_type": "stream",
     "text": [
      "120\n",
      "(10, 11, 11, 22, 66)\n",
      "<class 'tuple'>\n"
     ]
    }
   ],
   "source": [
    "sum(10,11,11,22,66)"
   ]
  },
  {
   "cell_type": "code",
   "execution_count": 16,
   "id": "34b500e1",
   "metadata": {},
   "outputs": [],
   "source": [
    "# Types of argumnets"
   ]
  },
  {
   "cell_type": "code",
   "execution_count": 17,
   "id": "6ec954cc",
   "metadata": {},
   "outputs": [
    {
     "name": "stdout",
     "output_type": "stream",
     "text": [
      "Myname is Ramesh and my age is 26\n"
     ]
    }
   ],
   "source": [
    "# Positional\n",
    "\n",
    "def intro(name ,age):\n",
    "    print(\"Myname is {} and my age is {}\".format(name,age))\n",
    "intro('Ramesh',26)"
   ]
  },
  {
   "cell_type": "code",
   "execution_count": 18,
   "id": "c3d28c3a",
   "metadata": {},
   "outputs": [
    {
     "name": "stdout",
     "output_type": "stream",
     "text": [
      "Myname is 26 and my age is ramesh\n"
     ]
    }
   ],
   "source": [
    "intro(26,'ramesh')"
   ]
  },
  {
   "cell_type": "code",
   "execution_count": 21,
   "id": "ea226ad1",
   "metadata": {},
   "outputs": [
    {
     "name": "stdout",
     "output_type": "stream",
     "text": [
      "welcome to :  Pune\n"
     ]
    }
   ],
   "source": [
    "# Default\n",
    "\n",
    "def greet(city=\"Our city\"):\n",
    "    print('welcome to : ', city)\n",
    "greet(\"Pune\")"
   ]
  },
  {
   "cell_type": "code",
   "execution_count": 22,
   "id": "3200b53e",
   "metadata": {},
   "outputs": [
    {
     "name": "stdout",
     "output_type": "stream",
     "text": [
      "welcome to :  Our city\n"
     ]
    }
   ],
   "source": [
    "greet()"
   ]
  },
  {
   "cell_type": "code",
   "execution_count": 23,
   "id": "3a1aefbe",
   "metadata": {},
   "outputs": [],
   "source": [
    "#  variable lenght argument"
   ]
  },
  {
   "cell_type": "code",
   "execution_count": 24,
   "id": "4f80b106",
   "metadata": {},
   "outputs": [],
   "source": [
    "# **kwargs"
   ]
  },
  {
   "cell_type": "code",
   "execution_count": 25,
   "id": "bafe70ca",
   "metadata": {},
   "outputs": [],
   "source": [
    "def func1(a,b,c=0,*args):\n",
    "    print(a)\n",
    "    print(b)\n",
    "    print(c)"
   ]
  },
  {
   "cell_type": "code",
   "execution_count": 26,
   "id": "18d6b175",
   "metadata": {},
   "outputs": [
    {
     "name": "stdout",
     "output_type": "stream",
     "text": [
      "10\n",
      "20\n",
      "100\n"
     ]
    }
   ],
   "source": [
    "func1(10,20,100)"
   ]
  },
  {
   "cell_type": "code",
   "execution_count": 27,
   "id": "825c98c3",
   "metadata": {},
   "outputs": [
    {
     "name": "stdout",
     "output_type": "stream",
     "text": [
      "100\n",
      "200\n",
      "0\n"
     ]
    }
   ],
   "source": [
    "func1(100,200)"
   ]
  },
  {
   "cell_type": "code",
   "execution_count": 28,
   "id": "d0fa999f",
   "metadata": {},
   "outputs": [
    {
     "ename": "SyntaxError",
     "evalue": "non-default argument follows default argument (4262969817.py, line 1)",
     "output_type": "error",
     "traceback": [
      "\u001b[1;36m  Input \u001b[1;32mIn [28]\u001b[1;36m\u001b[0m\n\u001b[1;33m    def func1(c=0,a,b,*args):\u001b[0m\n\u001b[1;37m                  ^\u001b[0m\n\u001b[1;31mSyntaxError\u001b[0m\u001b[1;31m:\u001b[0m non-default argument follows default argument\n"
     ]
    }
   ],
   "source": [
    "def func1(c=0,a,b,*args):\n",
    "    print(a)\n",
    "    print(b)\n",
    "    print(c)"
   ]
  },
  {
   "cell_type": "code",
   "execution_count": 29,
   "id": "cd336b36",
   "metadata": {},
   "outputs": [],
   "source": [
    "def func1(*args,a,b,c=0):\n",
    "    print(a)\n",
    "    print(b)\n",
    "    print(c)"
   ]
  },
  {
   "cell_type": "code",
   "execution_count": 30,
   "id": "4c40a7b6",
   "metadata": {},
   "outputs": [
    {
     "ename": "TypeError",
     "evalue": "func1() missing 2 required keyword-only arguments: 'a' and 'b'",
     "output_type": "error",
     "traceback": [
      "\u001b[1;31m---------------------------------------------------------------------------\u001b[0m",
      "\u001b[1;31mTypeError\u001b[0m                                 Traceback (most recent call last)",
      "Input \u001b[1;32mIn [30]\u001b[0m, in \u001b[0;36m<cell line: 1>\u001b[1;34m()\u001b[0m\n\u001b[1;32m----> 1\u001b[0m \u001b[43mfunc1\u001b[49m\u001b[43m(\u001b[49m\u001b[38;5;241;43m10\u001b[39;49m\u001b[43m,\u001b[49m\u001b[38;5;241;43m20\u001b[39;49m\u001b[43m)\u001b[49m\n",
      "\u001b[1;31mTypeError\u001b[0m: func1() missing 2 required keyword-only arguments: 'a' and 'b'"
     ]
    }
   ],
   "source": [
    "func1(10,20)"
   ]
  },
  {
   "cell_type": "code",
   "execution_count": null,
   "id": "e8576053",
   "metadata": {},
   "outputs": [],
   "source": [
    "# positional , default , *args , **kwargs"
   ]
  },
  {
   "cell_type": "code",
   "execution_count": 32,
   "id": "5912a5d1",
   "metadata": {},
   "outputs": [],
   "source": [
    "def calc1(*args):\n",
    "    print(args)"
   ]
  },
  {
   "cell_type": "code",
   "execution_count": 33,
   "id": "2d69972f",
   "metadata": {},
   "outputs": [
    {
     "name": "stdout",
     "output_type": "stream",
     "text": [
      "(10,)\n"
     ]
    }
   ],
   "source": [
    "calc1(10)"
   ]
  },
  {
   "cell_type": "code",
   "execution_count": 35,
   "id": "a8aa2df7",
   "metadata": {},
   "outputs": [
    {
     "name": "stdout",
     "output_type": "stream",
     "text": [
      "(10, 20, 30)\n"
     ]
    }
   ],
   "source": [
    "calc1(10,20,30)"
   ]
  },
  {
   "cell_type": "code",
   "execution_count": null,
   "id": "115e1d9f",
   "metadata": {},
   "outputs": [],
   "source": []
  }
 ],
 "metadata": {
  "kernelspec": {
   "display_name": "Python 3 (ipykernel)",
   "language": "python",
   "name": "python3"
  },
  "language_info": {
   "codemirror_mode": {
    "name": "ipython",
    "version": 3
   },
   "file_extension": ".py",
   "mimetype": "text/x-python",
   "name": "python",
   "nbconvert_exporter": "python",
   "pygments_lexer": "ipython3",
   "version": "3.10.5"
  }
 },
 "nbformat": 4,
 "nbformat_minor": 5
}
