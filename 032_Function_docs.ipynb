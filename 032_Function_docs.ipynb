{
 "cells": [
  {
   "cell_type": "code",
   "execution_count": null,
   "id": "15526644",
   "metadata": {},
   "outputs": [],
   "source": []
  },
  {
   "cell_type": "code",
   "execution_count": null,
   "id": "17e12065",
   "metadata": {},
   "outputs": [],
   "source": []
  },
  {
   "cell_type": "code",
   "execution_count": 7,
   "id": "4de909e2",
   "metadata": {},
   "outputs": [],
   "source": [
    "#  function as an argument\n",
    "# function in another function\n",
    "# function as 1st class citizen"
   ]
  },
  {
   "cell_type": "code",
   "execution_count": 2,
   "id": "373968f4",
   "metadata": {},
   "outputs": [],
   "source": [
    "x = 100"
   ]
  },
  {
   "cell_type": "code",
   "execution_count": 3,
   "id": "5d89677d",
   "metadata": {},
   "outputs": [
    {
     "name": "stdout",
     "output_type": "stream",
     "text": [
      "200\n"
     ]
    }
   ],
   "source": [
    "def func1(a):\n",
    "    print(2*a)\n",
    "func1(x)"
   ]
  },
  {
   "cell_type": "code",
   "execution_count": 4,
   "id": "8cabd82d",
   "metadata": {},
   "outputs": [
    {
     "name": "stdout",
     "output_type": "stream",
     "text": [
      "Hello  Akash\n"
     ]
    }
   ],
   "source": [
    "def greet(name):\n",
    "    print(\"Hello \",name)\n",
    "greet(\"Akash\")"
   ]
  },
  {
   "cell_type": "code",
   "execution_count": 5,
   "id": "e3ebc27c",
   "metadata": {},
   "outputs": [],
   "source": [
    "greeting =  greet"
   ]
  },
  {
   "cell_type": "code",
   "execution_count": 6,
   "id": "493982df",
   "metadata": {},
   "outputs": [
    {
     "name": "stdout",
     "output_type": "stream",
     "text": [
      "Hello  Rakesh\n"
     ]
    }
   ],
   "source": [
    "greeting(\"Rakesh\")"
   ]
  },
  {
   "cell_type": "code",
   "execution_count": 8,
   "id": "928ae980",
   "metadata": {},
   "outputs": [],
   "source": [
    "# doc Strings !"
   ]
  },
  {
   "cell_type": "code",
   "execution_count": 13,
   "id": "71fd93fb",
   "metadata": {},
   "outputs": [
    {
     "name": "stdout",
     "output_type": "stream",
     "text": [
      "60\n"
     ]
    }
   ],
   "source": [
    "def x(a,b,c):\n",
    "    \"\"\"\n",
    "    This function carries out addition of \n",
    "    three numbers\n",
    "    user must provide all the three numbers\n",
    "    else it will give arg missing error\n",
    "    \"\"\"\n",
    "    print(a+b+c)\n",
    "\n",
    "    \n",
    "x(10,20,30)"
   ]
  },
  {
   "cell_type": "code",
   "execution_count": 14,
   "id": "ffa01d85",
   "metadata": {},
   "outputs": [
    {
     "name": "stdout",
     "output_type": "stream",
     "text": [
      "\n",
      "    This function carries out addition of \n",
      "    three numbers\n",
      "    user must provide all the three numbers\n",
      "    else it will give arg missing error\n",
      "    \n"
     ]
    }
   ],
   "source": [
    "print(x.__doc__)"
   ]
  },
  {
   "cell_type": "code",
   "execution_count": 16,
   "id": "bbe23a98",
   "metadata": {},
   "outputs": [
    {
     "name": "stdout",
     "output_type": "stream",
     "text": [
      "Myname is Ramesh and my age is 26\n"
     ]
    }
   ],
   "source": [
    "\n",
    "def intro(name ,age):\n",
    "    '''\n",
    "    This function will give the user name and age only\n",
    "    input name and age only \n",
    "    age must be in numeric form input\n",
    "    \n",
    "    '''\n",
    "    print(\"Myname is {} and my age is {}\".format(name,age))\n",
    "intro('Ramesh',26)"
   ]
  },
  {
   "cell_type": "code",
   "execution_count": 17,
   "id": "945a494c",
   "metadata": {},
   "outputs": [
    {
     "name": "stdout",
     "output_type": "stream",
     "text": [
      "\n",
      "    This function will give the user name and age only\n",
      "    input name and age only \n",
      "    age must be in numeric form input\n",
      "    \n",
      "    \n"
     ]
    }
   ],
   "source": [
    "print(intro.__doc__)"
   ]
  },
  {
   "cell_type": "code",
   "execution_count": 18,
   "id": "7314f59d",
   "metadata": {},
   "outputs": [
    {
     "name": "stdout",
     "output_type": "stream",
     "text": [
      "Return the number of items in a container.\n"
     ]
    }
   ],
   "source": [
    "print(len.__doc__)"
   ]
  },
  {
   "cell_type": "code",
   "execution_count": 22,
   "id": "88ea5a82",
   "metadata": {},
   "outputs": [
    {
     "name": "stdout",
     "output_type": "stream",
     "text": [
      "print(value, ..., sep=' ', end='\\n', file=sys.stdout, flush=False)\n",
      "\n",
      "Prints the values to a stream, or to sys.stdout by default.\n",
      "Optional keyword arguments:\n",
      "file:  a file-like object (stream); defaults to the current sys.stdout.\n",
      "sep:   string inserted between values, default a space.\n",
      "end:   string appended after the last value, default a newline.\n",
      "flush: whether to forcibly flush the stream.\n"
     ]
    }
   ],
   "source": [
    "print(print.__doc__)"
   ]
  },
  {
   "cell_type": "code",
   "execution_count": 24,
   "id": "47154d19",
   "metadata": {},
   "outputs": [],
   "source": [
    "# pep guide 257 : doc string"
   ]
  },
  {
   "cell_type": "code",
   "execution_count": 25,
   "id": "8bdbf454",
   "metadata": {},
   "outputs": [],
   "source": [
    "# https://peps.python.org/pep-0257/"
   ]
  },
  {
   "cell_type": "code",
   "execution_count": 28,
   "id": "df78b764",
   "metadata": {},
   "outputs": [
    {
     "name": "stdout",
     "output_type": "stream",
     "text": [
      "Myname is Ramesh and my age is 26\n"
     ]
    }
   ],
   "source": [
    "def intro(name ,age):\n",
    "    '''\n",
    "    This function will give the user name and age only\n",
    "    input name and age only \n",
    "    age must be in numeric form input\n",
    "    \n",
    "    '''\n",
    "    print(\"Myname is {} and my age is {}\".format(name,age))\n",
    "    \n",
    "        \n",
    "        \n",
    "intro('Ramesh',26)"
   ]
  },
  {
   "cell_type": "code",
   "execution_count": 29,
   "id": "89a8a282",
   "metadata": {},
   "outputs": [
    {
     "name": "stdout",
     "output_type": "stream",
     "text": [
      "\n",
      "    This function will give the user name and age only\n",
      "    input name and age only \n",
      "    age must be in numeric form input\n",
      "    \n",
      "    \n"
     ]
    }
   ],
   "source": [
    "print(intro.__doc__)"
   ]
  },
  {
   "cell_type": "code",
   "execution_count": null,
   "id": "bd46a837",
   "metadata": {},
   "outputs": [],
   "source": []
  }
 ],
 "metadata": {
  "kernelspec": {
   "display_name": "Python 3 (ipykernel)",
   "language": "python",
   "name": "python3"
  },
  "language_info": {
   "codemirror_mode": {
    "name": "ipython",
    "version": 3
   },
   "file_extension": ".py",
   "mimetype": "text/x-python",
   "name": "python",
   "nbconvert_exporter": "python",
   "pygments_lexer": "ipython3",
   "version": "3.10.5"
  }
 },
 "nbformat": 4,
 "nbformat_minor": 5
}
