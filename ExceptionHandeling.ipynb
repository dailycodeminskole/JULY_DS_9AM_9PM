{
 "cells": [
  {
   "cell_type": "code",
   "execution_count": null,
   "id": "078c956f",
   "metadata": {},
   "outputs": [],
   "source": []
  },
  {
   "cell_type": "code",
   "execution_count": 1,
   "id": "395c55b0",
   "metadata": {},
   "outputs": [
    {
     "name": "stdout",
     "output_type": "stream",
     "text": [
      "Akash\n"
     ]
    }
   ],
   "source": [
    "name = \"Akash\"\n",
    "print(name)"
   ]
  },
  {
   "cell_type": "code",
   "execution_count": 2,
   "id": "c4422e4b",
   "metadata": {},
   "outputs": [
    {
     "ename": "SyntaxError",
     "evalue": "unterminated string literal (detected at line 1) (290273987.py, line 1)",
     "output_type": "error",
     "traceback": [
      "\u001b[1;36m  Input \u001b[1;32mIn [2]\u001b[1;36m\u001b[0m\n\u001b[1;33m    mod = \"Be happy today !!!\"\"\u001b[0m\n\u001b[1;37m                              ^\u001b[0m\n\u001b[1;31mSyntaxError\u001b[0m\u001b[1;31m:\u001b[0m unterminated string literal (detected at line 1)\n"
     ]
    }
   ],
   "source": [
    "mod = \"Be happy today !!!\"\""
   ]
  },
  {
   "cell_type": "code",
   "execution_count": 3,
   "id": "acf909cf",
   "metadata": {},
   "outputs": [
    {
     "name": "stdout",
     "output_type": "stream",
     "text": [
      "Be happy today !!!\n"
     ]
    }
   ],
   "source": [
    "mod = \"Be happy today !!!\"\n",
    "print(mod)"
   ]
  },
  {
   "cell_type": "code",
   "execution_count": 4,
   "id": "9c581e6a",
   "metadata": {},
   "outputs": [
    {
     "name": "stdout",
     "output_type": "stream",
     "text": [
      "0.5\n"
     ]
    }
   ],
   "source": [
    "a = 50\n",
    "b = 100\n",
    "c = a/b\n",
    "print(c)"
   ]
  },
  {
   "cell_type": "code",
   "execution_count": 6,
   "id": "f126e2a5",
   "metadata": {},
   "outputs": [
    {
     "ename": "ZeroDivisionError",
     "evalue": "division by zero",
     "output_type": "error",
     "traceback": [
      "\u001b[1;31m---------------------------------------------------------------------------\u001b[0m",
      "\u001b[1;31mZeroDivisionError\u001b[0m                         Traceback (most recent call last)",
      "Input \u001b[1;32mIn [6]\u001b[0m, in \u001b[0;36m<cell line: 3>\u001b[1;34m()\u001b[0m\n\u001b[0;32m      1\u001b[0m a \u001b[38;5;241m=\u001b[39m \u001b[38;5;241m50\u001b[39m\n\u001b[0;32m      2\u001b[0m b \u001b[38;5;241m=\u001b[39m \u001b[38;5;241m0\u001b[39m\n\u001b[1;32m----> 3\u001b[0m c \u001b[38;5;241m=\u001b[39m \u001b[43ma\u001b[49m\u001b[38;5;241;43m/\u001b[39;49m\u001b[43mb\u001b[49m\n\u001b[0;32m      4\u001b[0m \u001b[38;5;28mprint\u001b[39m(c)\n",
      "\u001b[1;31mZeroDivisionError\u001b[0m: division by zero"
     ]
    }
   ],
   "source": [
    "a = 50\n",
    "b = 0\n",
    "c = a/b\n",
    "print(c)"
   ]
  },
  {
   "cell_type": "code",
   "execution_count": null,
   "id": "07f88c75",
   "metadata": {},
   "outputs": [],
   "source": []
  },
  {
   "cell_type": "code",
   "execution_count": null,
   "id": "8742220f",
   "metadata": {},
   "outputs": [],
   "source": []
  },
  {
   "cell_type": "markdown",
   "id": "b9b1ec89",
   "metadata": {},
   "source": [
    "# Errror Vs Exception"
   ]
  },
  {
   "cell_type": "code",
   "execution_count": 7,
   "id": "76c8da70",
   "metadata": {},
   "outputs": [],
   "source": [
    "# SyntaxError : need to rectify manually by the developer\n",
    "# Exceptions : ZeroDivisionError ,IndexError"
   ]
  },
  {
   "cell_type": "code",
   "execution_count": 8,
   "id": "d8e60877",
   "metadata": {},
   "outputs": [
    {
     "name": "stdout",
     "output_type": "stream",
     "text": [
      "ENter a number\n"
     ]
    },
    {
     "ename": "ValueError",
     "evalue": "invalid literal for int() with base 10: ''",
     "output_type": "error",
     "traceback": [
      "\u001b[1;31m---------------------------------------------------------------------------\u001b[0m",
      "\u001b[1;31mValueError\u001b[0m                                Traceback (most recent call last)",
      "Input \u001b[1;32mIn [8]\u001b[0m, in \u001b[0;36m<cell line: 2>\u001b[1;34m()\u001b[0m\n\u001b[0;32m      1\u001b[0m a \u001b[38;5;241m=\u001b[39m \u001b[38;5;241m50\u001b[39m\n\u001b[1;32m----> 2\u001b[0m b \u001b[38;5;241m=\u001b[39m \u001b[38;5;28;43mint\u001b[39;49m\u001b[43m(\u001b[49m\u001b[38;5;28;43minput\u001b[39;49m\u001b[43m(\u001b[49m\u001b[38;5;124;43m\"\u001b[39;49m\u001b[38;5;124;43mENter a number\u001b[39;49m\u001b[38;5;124;43m\"\u001b[39;49m\u001b[43m)\u001b[49m\u001b[43m)\u001b[49m \n\u001b[0;32m      3\u001b[0m c \u001b[38;5;241m=\u001b[39m a\u001b[38;5;241m/\u001b[39mb\n\u001b[0;32m      4\u001b[0m \u001b[38;5;28mprint\u001b[39m(c)\n",
      "\u001b[1;31mValueError\u001b[0m: invalid literal for int() with base 10: ''"
     ]
    }
   ],
   "source": [
    "a = 50\n",
    "b = int(input(\"ENter a number\")) \n",
    "c = a/b\n",
    "print(c)"
   ]
  },
  {
   "cell_type": "code",
   "execution_count": 9,
   "id": "f79ce39e",
   "metadata": {},
   "outputs": [
    {
     "name": "stdout",
     "output_type": "stream",
     "text": [
      "A\n"
     ]
    },
    {
     "ename": "IndexError",
     "evalue": "string index out of range",
     "output_type": "error",
     "traceback": [
      "\u001b[1;31m---------------------------------------------------------------------------\u001b[0m",
      "\u001b[1;31mIndexError\u001b[0m                                Traceback (most recent call last)",
      "Input \u001b[1;32mIn [9]\u001b[0m, in \u001b[0;36m<cell line: 3>\u001b[1;34m()\u001b[0m\n\u001b[0;32m      1\u001b[0m name \u001b[38;5;241m=\u001b[39m \u001b[38;5;124m\"\u001b[39m\u001b[38;5;124mAkash\u001b[39m\u001b[38;5;124m\"\u001b[39m\n\u001b[0;32m      2\u001b[0m \u001b[38;5;28mprint\u001b[39m(name[\u001b[38;5;241m0\u001b[39m])\n\u001b[1;32m----> 3\u001b[0m \u001b[38;5;28mprint\u001b[39m(\u001b[43mname\u001b[49m\u001b[43m[\u001b[49m\u001b[38;5;241;43m10\u001b[39;49m\u001b[43m]\u001b[49m)\n",
      "\u001b[1;31mIndexError\u001b[0m: string index out of range"
     ]
    }
   ],
   "source": [
    "name = \"Akash\"\n",
    "print(name[0])\n",
    "print(name[10])"
   ]
  },
  {
   "cell_type": "code",
   "execution_count": 10,
   "id": "c9f58416",
   "metadata": {},
   "outputs": [],
   "source": [
    "# https://docs.python.org/3/library/exceptions.html#exception-hierarchy"
   ]
  },
  {
   "cell_type": "code",
   "execution_count": 11,
   "id": "d7e2f95d",
   "metadata": {},
   "outputs": [
    {
     "name": "stdout",
     "output_type": "stream",
     "text": [
      "A\n"
     ]
    },
    {
     "ename": "IndexError",
     "evalue": "string index out of range",
     "output_type": "error",
     "traceback": [
      "\u001b[1;31m---------------------------------------------------------------------------\u001b[0m",
      "\u001b[1;31mIndexError\u001b[0m                                Traceback (most recent call last)",
      "Input \u001b[1;32mIn [11]\u001b[0m, in \u001b[0;36m<cell line: 3>\u001b[1;34m()\u001b[0m\n\u001b[0;32m      1\u001b[0m name \u001b[38;5;241m=\u001b[39m \u001b[38;5;124m\"\u001b[39m\u001b[38;5;124mAkash\u001b[39m\u001b[38;5;124m\"\u001b[39m\n\u001b[0;32m      2\u001b[0m \u001b[38;5;28mprint\u001b[39m(name[\u001b[38;5;241m0\u001b[39m])\n\u001b[1;32m----> 3\u001b[0m \u001b[38;5;28mprint\u001b[39m(\u001b[43mname\u001b[49m\u001b[43m[\u001b[49m\u001b[38;5;241;43m10\u001b[39;49m\u001b[43m]\u001b[49m)\n\u001b[0;32m      4\u001b[0m \u001b[38;5;28mprint\u001b[39m(\u001b[38;5;124m\"\u001b[39m\u001b[38;5;124mhello world\u001b[39m\u001b[38;5;124m\"\u001b[39m)\n",
      "\u001b[1;31mIndexError\u001b[0m: string index out of range"
     ]
    }
   ],
   "source": [
    "name = \"Akash\"\n",
    "print(name[0])\n",
    "print(name[10])\n",
    "print(\"hello world\")"
   ]
  },
  {
   "cell_type": "code",
   "execution_count": 12,
   "id": "b689bd96",
   "metadata": {},
   "outputs": [],
   "source": [
    "# block of code prone to error/exception\n",
    "\n",
    "# Syntax\n",
    "# try :\n",
    "    # code with chance of exception\n",
    "# except:\n",
    "    # code"
   ]
  },
  {
   "cell_type": "markdown",
   "id": "740593da",
   "metadata": {},
   "source": [
    "# handeling the exception with generic message!!!"
   ]
  },
  {
   "cell_type": "code",
   "execution_count": 13,
   "id": "8302f213",
   "metadata": {},
   "outputs": [
    {
     "name": "stdout",
     "output_type": "stream",
     "text": [
      "ENter a number0\n",
      "Some error occured\n"
     ]
    }
   ],
   "source": [
    "a = 50\n",
    "b = int(input(\"ENter a number\")) \n",
    "try:\n",
    "    c = a/b    \n",
    "    print(c)\n",
    "except:\n",
    "    print(\"Some error occured\")"
   ]
  },
  {
   "cell_type": "code",
   "execution_count": 14,
   "id": "1790e353",
   "metadata": {},
   "outputs": [
    {
     "name": "stdout",
     "output_type": "stream",
     "text": [
      "Enter the idex position to be called3\n",
      "Some error occured\n"
     ]
    }
   ],
   "source": [
    "name = \"Akash\"\n",
    "try:\n",
    "    x = input(\"Enter the idex position to be called\")\n",
    "    print(name[x])\n",
    "except:\n",
    "    print(\"Some error occured\")\n"
   ]
  },
  {
   "cell_type": "code",
   "execution_count": 15,
   "id": "07546b80",
   "metadata": {},
   "outputs": [
    {
     "name": "stdout",
     "output_type": "stream",
     "text": [
      "Enter the idex position to be called3\n",
      "s\n"
     ]
    }
   ],
   "source": [
    "name = \"Akash\"\n",
    "try:\n",
    "    x = int(input(\"Enter the idex position to be called\"))\n",
    "    print(name[x])\n",
    "except:\n",
    "    print(\"Some error occured\")"
   ]
  },
  {
   "cell_type": "code",
   "execution_count": null,
   "id": "9576d850",
   "metadata": {},
   "outputs": [],
   "source": []
  },
  {
   "cell_type": "code",
   "execution_count": 17,
   "id": "ca5c2079",
   "metadata": {},
   "outputs": [
    {
     "name": "stdout",
     "output_type": "stream",
     "text": [
      "Enter the idex position to be called2\n",
      "a\n"
     ]
    }
   ],
   "source": [
    "name = \"Akash\"\n",
    "try:\n",
    "    x = int(input(\"Enter the idex position to be called\"))\n",
    "    print(name[x])\n",
    "except:\n",
    "    print(\"Please enter correct index position , valid from 0 to 5\")"
   ]
  },
  {
   "cell_type": "markdown",
   "id": "0443091f",
   "metadata": {},
   "source": [
    "# using exception class"
   ]
  },
  {
   "cell_type": "code",
   "execution_count": 20,
   "id": "2a61bb8b",
   "metadata": {},
   "outputs": [
    {
     "name": "stdout",
     "output_type": "stream",
     "text": [
      "ENter a number0\n",
      "Please enter a non-zero number :  division by zero\n"
     ]
    }
   ],
   "source": [
    "a = 50\n",
    "b = int(input(\"ENter a number\")) \n",
    "try:\n",
    "    c = a/b    \n",
    "    print(c)\n",
    "except Exception as poonam:\n",
    "    print(\"Please enter a non-zero number : \",poonam)"
   ]
  },
  {
   "cell_type": "code",
   "execution_count": 21,
   "id": "0a9dcafe",
   "metadata": {},
   "outputs": [
    {
     "name": "stdout",
     "output_type": "stream",
     "text": [
      "Enter the idex position to be called12\n",
      "Please enter correct index position , valid from 0 to 5 string index out of range\n"
     ]
    }
   ],
   "source": [
    "name = \"Akash\"\n",
    "try:\n",
    "    x = int(input(\"Enter the idex position to be called\"))\n",
    "    print(name[x])\n",
    "except Exception as e:\n",
    "    print(\"Please enter correct index position , valid from 0 to 5\" , e)"
   ]
  },
  {
   "cell_type": "code",
   "execution_count": 22,
   "id": "6d7c3120",
   "metadata": {},
   "outputs": [
    {
     "name": "stdout",
     "output_type": "stream",
     "text": [
      "ENter a number10\n",
      "Enter the idex position to be called2\n",
      "5.0\n",
      "a\n"
     ]
    }
   ],
   "source": [
    "a = 50\n",
    "b = int(input(\"ENter a Number\")) \n",
    "x = int(input(\"Enter the idex position to be called\"))\n",
    "name = \"Akash\"\n",
    "try:\n",
    "    c = a/b    \n",
    "    print(c)\n",
    "    print(name[x])\n",
    "except:\n",
    "    print(\"Some error occured\")"
   ]
  },
  {
   "cell_type": "markdown",
   "id": "22a95b8b",
   "metadata": {},
   "source": [
    "# handeling multiple Exceptions"
   ]
  },
  {
   "cell_type": "code",
   "execution_count": 24,
   "id": "89ba4d5d",
   "metadata": {},
   "outputs": [
    {
     "name": "stdout",
     "output_type": "stream",
     "text": [
      "ENter a Number0\n",
      "Enter the idex position to be called10\n",
      "Some error occured\n"
     ]
    }
   ],
   "source": [
    "\n",
    "\n",
    "\n",
    "a = 50\n",
    "b = int(input(\"ENter a Number\")) \n",
    "x = int(input(\"Enter the idex position to be called\"))\n",
    "name = \"Akash\"\n",
    "try:\n",
    "    c = a/b    \n",
    "    print(c)\n",
    "    print(name[x])\n",
    "except:\n",
    "    print(\"Some error occured\")"
   ]
  },
  {
   "cell_type": "code",
   "execution_count": 26,
   "id": "eadc9197",
   "metadata": {},
   "outputs": [
    {
     "name": "stdout",
     "output_type": "stream",
     "text": [
      "ENter a Number0\n",
      "Enter the idex position to be called10\n",
      "Some error occured division by zero\n"
     ]
    }
   ],
   "source": [
    "a = 50\n",
    "b = int(input(\"ENter a Number\")) \n",
    "x = int(input(\"Enter the idex position to be called\"))\n",
    "name = \"Akash\"\n",
    "try:\n",
    "    c = a/b    \n",
    "    print(c)\n",
    "    print(name[x])\n",
    "except Exception as e:\n",
    "    print(\"Some error occured\",e)\n",
    "except Exception as e:\n",
    "    print(\"Some error occured\",e)"
   ]
  },
  {
   "cell_type": "markdown",
   "id": "0475fa54",
   "metadata": {},
   "source": [
    "# providing the exact sub class of Exception while handeling "
   ]
  },
  {
   "cell_type": "code",
   "execution_count": 28,
   "id": "31d95b32",
   "metadata": {},
   "outputs": [
    {
     "name": "stdout",
     "output_type": "stream",
     "text": [
      "ENter a Number10\n",
      "Enter the idex position to be called10\n",
      "5.0\n",
      "Some error occured string index out of range\n"
     ]
    }
   ],
   "source": [
    "a = 50\n",
    "b = int(input(\"ENter a Number\")) \n",
    "x = int(input(\"Enter the idex position to be called\"))\n",
    "name = \"Akash\"\n",
    "try:\n",
    "    c = a/b    \n",
    "    print(c)\n",
    "    print(name[x])\n",
    "except ZeroDivisionError as e:\n",
    "    print(\"Some error occured\",e)\n",
    "except IndexError as e:\n",
    "    print(\"Some error occured\",e)"
   ]
  },
  {
   "cell_type": "code",
   "execution_count": 32,
   "id": "83ad5c43",
   "metadata": {},
   "outputs": [
    {
     "name": "stdout",
     "output_type": "stream",
     "text": [
      "ENter a Number0\n",
      "Enter the idex position to be called10\n",
      "Some error occured division by zero\n",
      "Hello World\n"
     ]
    }
   ],
   "source": [
    "a = 50\n",
    "b = int(input(\"ENter a Number\")) \n",
    "x = int(input(\"Enter the idex position to be called\"))\n",
    "name = \"Akash\"\n",
    "try:\n",
    "    c = a/b    \n",
    "    print(c)\n",
    "    print(name[x])\n",
    "except ZeroDivisionError as e:\n",
    "    print(\"Some error occured\",e)\n",
    "except IndexError as e:\n",
    "    print(\"Some error occured\",e)\n",
    "    \n",
    "    \n",
    "print(\"Hello World\")"
   ]
  },
  {
   "cell_type": "code",
   "execution_count": null,
   "id": "ae91b7df",
   "metadata": {},
   "outputs": [],
   "source": []
  }
 ],
 "metadata": {
  "kernelspec": {
   "display_name": "Python 3 (ipykernel)",
   "language": "python",
   "name": "python3"
  },
  "language_info": {
   "codemirror_mode": {
    "name": "ipython",
    "version": 3
   },
   "file_extension": ".py",
   "mimetype": "text/x-python",
   "name": "python",
   "nbconvert_exporter": "python",
   "pygments_lexer": "ipython3",
   "version": "3.10.5"
  }
 },
 "nbformat": 4,
 "nbformat_minor": 5
}
