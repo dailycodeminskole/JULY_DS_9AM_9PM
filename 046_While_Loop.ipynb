{
 "cells": [
  {
   "cell_type": "markdown",
   "id": "6b013ab1",
   "metadata": {},
   "source": [
    "# WHILE loop\n"
   ]
  },
  {
   "cell_type": "code",
   "execution_count": 1,
   "id": "4e171ff5",
   "metadata": {},
   "outputs": [],
   "source": [
    "#WHILE loop\n",
    "\n",
    "# syntax\n",
    "# while expression/condition:\n",
    "#     code"
   ]
  },
  {
   "cell_type": "code",
   "execution_count": 2,
   "id": "abf9ef45",
   "metadata": {},
   "outputs": [
    {
     "name": "stdout",
     "output_type": "stream",
     "text": [
      "I will attend the class daily\n",
      "I will attend the class daily\n",
      "I will attend the class daily\n",
      "I will attend the class daily\n",
      "I will attend the class daily\n"
     ]
    }
   ],
   "source": [
    "for i in range(5):\n",
    "    print(\"I will attend the class daily\")"
   ]
  },
  {
   "cell_type": "code",
   "execution_count": 3,
   "id": "85f6b7f6",
   "metadata": {},
   "outputs": [],
   "source": [
    "# below colde will lead to infinite no of executions , infinite loop\n",
    "\n",
    "# while 1 <5:\n",
    "#     print(\"I will attend the class daily\")\n",
    "\n"
   ]
  },
  {
   "cell_type": "code",
   "execution_count": 5,
   "id": "7526ff57",
   "metadata": {},
   "outputs": [
    {
     "name": "stdout",
     "output_type": "stream",
     "text": [
      "I will attend the class daily 0\n",
      "I will attend the class daily 1\n",
      "I will attend the class daily 2\n",
      "I will attend the class daily 3\n",
      "I will attend the class daily 4\n"
     ]
    }
   ],
   "source": [
    "# eg: \n",
    "\n",
    "i=0 #variable initialization\n",
    "while i <5: #loop will be exited when the value of i becomes 5\n",
    "    print(\"I will attend the class daily\", i)\n",
    "    i=i+1 #expression which will make the while statment out of loop\n",
    "    "
   ]
  },
  {
   "cell_type": "code",
   "execution_count": 6,
   "id": "fa59f43e",
   "metadata": {},
   "outputs": [
    {
     "name": "stdout",
     "output_type": "stream",
     "text": [
      "I will attend the class daily 1\n",
      "I will attend the class daily 2\n",
      "I will attend the class daily 3\n",
      "I will attend the class daily 4\n",
      "I will attend the class daily 5\n"
     ]
    }
   ],
   "source": [
    "# eg: reoredering the increment code\n",
    "\n",
    "i=0 #variable initialization\n",
    "while i <5: #loop will be exited when the value of i becomes 5\n",
    "    i=i+1 #expression which will make the while statment out of loop\n",
    "    print(\"I will attend the class daily\" , i)\n",
    "    \n",
    "    "
   ]
  },
  {
   "cell_type": "code",
   "execution_count": 7,
   "id": "d9771815",
   "metadata": {},
   "outputs": [],
   "source": [
    "# use of while loop !!!\n",
    "# > the number of repetations is unknkown"
   ]
  },
  {
   "cell_type": "code",
   "execution_count": 9,
   "id": "bd86c9fc",
   "metadata": {},
   "outputs": [
    {
     "name": "stdout",
     "output_type": "stream",
     "text": [
      "Press 'q' to quit the gamez\n",
      "Press 'q' to quit the gamea\n",
      "Press 'q' to quit the game1\n",
      "Press 'q' to quit the gamequit\n",
      "Press 'q' to quit the gameescape\n",
      "Press 'q' to quit the gameq\n"
     ]
    }
   ],
   "source": [
    "while True:\n",
    "    user_input =  input(\"Press 'q' to quit the game\")\n",
    "    if user_input == 'q':\n",
    "        break"
   ]
  },
  {
   "cell_type": "code",
   "execution_count": 10,
   "id": "a276a1cc",
   "metadata": {},
   "outputs": [
    {
     "name": "stdout",
     "output_type": "stream",
     "text": [
      "Press 'q' to quit the gameq\n"
     ]
    }
   ],
   "source": [
    "while True:\n",
    "    user_input =  input(\"Press 'q' to quit the game\")\n",
    "    if user_input == 'q':\n",
    "        break"
   ]
  },
  {
   "cell_type": "code",
   "execution_count": 1,
   "id": "d3f79659",
   "metadata": {},
   "outputs": [
    {
     "name": "stdout",
     "output_type": "stream",
     "text": [
      "Press 'q' to quit the game1\n",
      "Press 'q' to quit the game1\n",
      "Press 'q' to quit the game1\n",
      "Press 'q' to quit the game1\n",
      "Press 'q' to quit the game1\n",
      "Press 'q' to quit the game1\n",
      "Press 'q' to quit the game1\n",
      "Press 'q' to quit the game\n",
      "Press 'q' to quit the game1\n",
      "Press 'q' to quit the game1\n",
      "Press 'q' to quit the game1\n",
      "Press 'q' to quit the game1\n",
      "Press 'q' to quit the gameq\n"
     ]
    }
   ],
   "source": [
    "\n",
    "while True:    \n",
    "    user_input =  input(\"Press 'q' to quit the game\")\n",
    "    if user_input == 'q':\n",
    "        break"
   ]
  },
  {
   "cell_type": "code",
   "execution_count": 9,
   "id": "cf16b51f",
   "metadata": {},
   "outputs": [
    {
     "name": "stdout",
     "output_type": "stream",
     "text": [
      "Enter a number!!one\n",
      "invalid value entered\n",
      "Enter a number!!two\n",
      "invalid value entered\n",
      "Enter a number!!3\n",
      "value entered is a digit\n"
     ]
    }
   ],
   "source": [
    "#eg:\n",
    "\n",
    "valid_input = False\n",
    "while not valid_input:\n",
    "\n",
    "    value = input(\"Enter a number!!\")\n",
    "    if value.isdigit():\n",
    "        print(\"value entered is a digit\")\n",
    "        valid_input = True\n",
    "    else:\n",
    "        print(\"invalid value entered\")"
   ]
  },
  {
   "cell_type": "code",
   "execution_count": null,
   "id": "9edade1d",
   "metadata": {},
   "outputs": [],
   "source": []
  }
 ],
 "metadata": {
  "kernelspec": {
   "display_name": "Python 3 (ipykernel)",
   "language": "python",
   "name": "python3"
  },
  "language_info": {
   "codemirror_mode": {
    "name": "ipython",
    "version": 3
   },
   "file_extension": ".py",
   "mimetype": "text/x-python",
   "name": "python",
   "nbconvert_exporter": "python",
   "pygments_lexer": "ipython3",
   "version": "3.10.5"
  }
 },
 "nbformat": 4,
 "nbformat_minor": 5
}
