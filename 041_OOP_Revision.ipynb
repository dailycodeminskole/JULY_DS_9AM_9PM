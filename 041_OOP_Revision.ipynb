{
 "cells": [
  {
   "cell_type": "markdown",
   "id": "2e7b4278",
   "metadata": {},
   "source": [
    "# Revision"
   ]
  },
  {
   "cell_type": "code",
   "execution_count": 1,
   "id": "626c630a",
   "metadata": {},
   "outputs": [],
   "source": [
    "class PowerPlant():\n",
    "    pass\n",
    "\n",
    "a = PowerPlant() "
   ]
  },
  {
   "cell_type": "code",
   "execution_count": 2,
   "id": "8798a12a",
   "metadata": {},
   "outputs": [],
   "source": [
    "a.location = \"Nagpur\""
   ]
  },
  {
   "cell_type": "code",
   "execution_count": 3,
   "id": "b19aabe4",
   "metadata": {},
   "outputs": [
    {
     "name": "stdout",
     "output_type": "stream",
     "text": [
      "Nagpur\n"
     ]
    }
   ],
   "source": [
    "print(a.location)"
   ]
  },
  {
   "cell_type": "code",
   "execution_count": 4,
   "id": "e69bedfc",
   "metadata": {},
   "outputs": [],
   "source": [
    "a.location = \"Thane\""
   ]
  },
  {
   "cell_type": "code",
   "execution_count": 5,
   "id": "93a2139c",
   "metadata": {},
   "outputs": [
    {
     "name": "stdout",
     "output_type": "stream",
     "text": [
      "Thane\n"
     ]
    }
   ],
   "source": [
    "print(a.location)"
   ]
  },
  {
   "cell_type": "code",
   "execution_count": 6,
   "id": "d2ff542d",
   "metadata": {},
   "outputs": [
    {
     "name": "stdout",
     "output_type": "stream",
     "text": [
      "Power plant at Nagpur of capacity 33 MW\n",
      "India\n",
      "Nepal\n",
      "India\n",
      "India\n",
      "Bhutan\n",
      "Nagpur\n",
      "Beed\n"
     ]
    }
   ],
   "source": [
    "class PowerPlant():\n",
    "    country = \"India\" #class Attribute\n",
    "    def __init__(self,location,capacity):\n",
    "        self.location = location #obj attribute\n",
    "        self.capacity = capacity\n",
    "        \n",
    "    def __str__(self):\n",
    "        return f\"Power plant at {self.location} of capacity {self.capacity} MW\"\n",
    "        \n",
    "p1 = PowerPlant(\"Nagpur\",33)\n",
    "p2 = PowerPlant(\"Thane\",33)\n",
    "\n",
    "print(p1)\n",
    "\n",
    "\n",
    "print(p1.country)\n",
    "p1.country = \"Nepal\"\n",
    "print(p1.country)\n",
    "print(PowerPlant.country)\n",
    "print(p2.country)\n",
    "\n",
    "PowerPlant.country = \"Bhutan\"\n",
    "print(p2.country)\n",
    "\n",
    "\n",
    "print(p1.location)\n",
    "p1.location = \"Beed\"\n",
    "print(p1.location)\n"
   ]
  },
  {
   "cell_type": "code",
   "execution_count": 7,
   "id": "448da1af",
   "metadata": {},
   "outputs": [
    {
     "name": "stdout",
     "output_type": "stream",
     "text": [
      "Power plant at Nagpur of capacity 33 MW\n",
      "India\n",
      "Nepal\n",
      "India\n",
      "India\n",
      "Bhutan\n",
      "Beed\n",
      "Power plant at Nagpur of capacity 33 MW\n",
      "Beed\n",
      "Power plant at Beed of capacity 33 MW\n"
     ]
    }
   ],
   "source": [
    "class PowerPlant():\n",
    "    country = \"India\" #class Attribute\n",
    "    def __init__(self,location,capacity):\n",
    "        self.__location = location #obj attribute\n",
    "        self.capacity = capacity\n",
    "        \n",
    "    def __str__(self):\n",
    "        return f\"Power plant at {self.__location} of capacity {self.capacity} MW\"\n",
    "        \n",
    "p1 = PowerPlant(\"Nagpur\",33)\n",
    "p2 = PowerPlant(\"Thane\",33)\n",
    "\n",
    "print(p1)\n",
    "\n",
    "\n",
    "print(p1.country)\n",
    "p1.country = \"Nepal\"\n",
    "print(p1.country)\n",
    "print(PowerPlant.country)\n",
    "print(p2.country)\n",
    "\n",
    "PowerPlant.country = \"Bhutan\"\n",
    "print(p2.country)\n",
    "\n",
    "p1.__location = \"Beed\"\n",
    "print(p1.__location)\n",
    "\n",
    "\n",
    "print(p1)\n",
    "\n",
    "\n",
    "\n",
    "# name mangling \n",
    "p1._PowerPlant__location = \"Beed\"\n",
    "print(p1._PowerPlant__location)\n",
    "\n",
    "print(p1)"
   ]
  },
  {
   "cell_type": "code",
   "execution_count": 8,
   "id": "fb488b62",
   "metadata": {},
   "outputs": [
    {
     "name": "stdout",
     "output_type": "stream",
     "text": [
      "Power plant at Nagpur of capacity 33 MW\n",
      "India\n",
      "Nepal\n",
      "India\n",
      "India\n",
      "Bhutan\n",
      "Beed\n",
      "Power plant at Beed of capacity 33 MW\n"
     ]
    }
   ],
   "source": [
    "class PowerPlant():\n",
    "    country = \"India\" #class Attribute\n",
    "    def __init__(self,location,capacity):\n",
    "        self._location = location #obj attribute\n",
    "        self.capacity = capacity\n",
    "        \n",
    "    def __str__(self):\n",
    "        return f\"Power plant at {self._location} of capacity {self.capacity} MW\"\n",
    "        \n",
    "p1 = PowerPlant(\"Nagpur\",33)\n",
    "p2 = PowerPlant(\"Thane\",33)\n",
    "\n",
    "print(p1)\n",
    "\n",
    "\n",
    "print(p1.country)\n",
    "p1.country = \"Nepal\"\n",
    "print(p1.country)\n",
    "print(PowerPlant.country)\n",
    "print(p2.country)\n",
    "\n",
    "PowerPlant.country = \"Bhutan\"\n",
    "print(p2.country)\n",
    "\n",
    "p1._location = \"Beed\"\n",
    "print(p1._location)\n",
    "\n",
    "\n",
    "print(p1)"
   ]
  },
  {
   "cell_type": "code",
   "execution_count": null,
   "id": "d7cea5f5",
   "metadata": {},
   "outputs": [],
   "source": []
  },
  {
   "cell_type": "code",
   "execution_count": null,
   "id": "9f08e9da",
   "metadata": {},
   "outputs": [],
   "source": []
  }
 ],
 "metadata": {
  "kernelspec": {
   "display_name": "Python 3 (ipykernel)",
   "language": "python",
   "name": "python3"
  },
  "language_info": {
   "codemirror_mode": {
    "name": "ipython",
    "version": 3
   },
   "file_extension": ".py",
   "mimetype": "text/x-python",
   "name": "python",
   "nbconvert_exporter": "python",
   "pygments_lexer": "ipython3",
   "version": "3.10.5"
  }
 },
 "nbformat": 4,
 "nbformat_minor": 5
}
