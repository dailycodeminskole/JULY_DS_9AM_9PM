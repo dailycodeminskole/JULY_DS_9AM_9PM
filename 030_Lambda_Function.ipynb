{
 "cells": [
  {
   "cell_type": "code",
   "execution_count": null,
   "id": "fb43e45a",
   "metadata": {},
   "outputs": [],
   "source": []
  },
  {
   "cell_type": "code",
   "execution_count": 1,
   "id": "a6dd2169",
   "metadata": {},
   "outputs": [
    {
     "name": "stdout",
     "output_type": "stream",
     "text": [
      "Myname is Ramesh and my age is 26\n"
     ]
    }
   ],
   "source": [
    "# Positional\n",
    "\n",
    "def intro(name ,age):\n",
    "    print(\"Myname is {} and my age is {}\".format(name,age))\n",
    "intro('Ramesh',26)"
   ]
  },
  {
   "cell_type": "code",
   "execution_count": 2,
   "id": "f514dcbf",
   "metadata": {},
   "outputs": [
    {
     "name": "stdout",
     "output_type": "stream",
     "text": [
      "Myname is 26 and my age is Ramesh\n"
     ]
    }
   ],
   "source": [
    "# \n",
    "def intro(name ,age):\n",
    "    print(\"Myname is {} and my age is {}\".format(name,age))\n",
    "intro(26,'Ramesh')"
   ]
  },
  {
   "cell_type": "code",
   "execution_count": 3,
   "id": "6eaef74c",
   "metadata": {},
   "outputs": [
    {
     "name": "stdout",
     "output_type": "stream",
     "text": [
      "Myname is Ramesh and my age is 26\n",
      "Myname is Ramesh and my age is 26\n"
     ]
    }
   ],
   "source": [
    "intro(age=26,name ='Ramesh')\n",
    "intro(name ='Ramesh',age=26,)"
   ]
  },
  {
   "cell_type": "code",
   "execution_count": 4,
   "id": "5005a33b",
   "metadata": {},
   "outputs": [
    {
     "name": "stdout",
     "output_type": "stream",
     "text": [
      "name Ramesh\n",
      "age 26\n"
     ]
    }
   ],
   "source": [
    "# **kwars = Dict\n",
    "\n",
    "def intro(**kwargs):\n",
    "    for key,value in kwargs.items():\n",
    "        print(key,value)\n",
    "intro(name ='Ramesh',age=26)"
   ]
  },
  {
   "cell_type": "code",
   "execution_count": 5,
   "id": "38813653",
   "metadata": {},
   "outputs": [
    {
     "name": "stdout",
     "output_type": "stream",
     "text": [
      "name Ramesh\n",
      "age 26\n",
      "place Pune\n",
      "domicile Punjab\n",
      "workex 5\n"
     ]
    }
   ],
   "source": [
    "# **kwars = Dict\n",
    "\n",
    "def intro(**kwargs):\n",
    "    for key,value in kwargs.items():\n",
    "        print(key,value)\n",
    "intro(name ='Ramesh',age=26,place='Pune',domicile='Punjab',workex=5)"
   ]
  },
  {
   "cell_type": "code",
   "execution_count": 6,
   "id": "c5ae885f",
   "metadata": {},
   "outputs": [
    {
     "name": "stdout",
     "output_type": "stream",
     "text": [
      "name Ramesh\n",
      "age 26\n",
      "place Pune\n",
      "domicile Punjab\n",
      "workex 5\n"
     ]
    }
   ],
   "source": [
    "# **vishal = Dict\n",
    "\n",
    "def intro(**vishal):\n",
    "    for key,value in vishal.items():\n",
    "        print(key,value)\n",
    "intro(name ='Ramesh',age=26,place='Pune',domicile='Punjab',workex=5)"
   ]
  },
  {
   "cell_type": "markdown",
   "id": "08a34c57",
   "metadata": {},
   "source": [
    "# lambda Function"
   ]
  },
  {
   "cell_type": "code",
   "execution_count": 7,
   "id": "d6fa5224",
   "metadata": {},
   "outputs": [],
   "source": [
    "# lambda Function\n",
    "# anonymous function\n",
    "# nameless\n",
    "# one line function"
   ]
  },
  {
   "cell_type": "code",
   "execution_count": 8,
   "id": "4b33746e",
   "metadata": {},
   "outputs": [
    {
     "data": {
      "text/plain": [
       "25"
      ]
     },
     "execution_count": 8,
     "metadata": {},
     "output_type": "execute_result"
    }
   ],
   "source": [
    "def sq(a):\n",
    "    return a*a\n",
    "\n",
    "sq(5)"
   ]
  },
  {
   "cell_type": "code",
   "execution_count": 9,
   "id": "1398d47c",
   "metadata": {},
   "outputs": [],
   "source": [
    "# syntax\n",
    "# lambda arguments : expresion"
   ]
  },
  {
   "cell_type": "code",
   "execution_count": 10,
   "id": "55da8e94",
   "metadata": {},
   "outputs": [
    {
     "data": {
      "text/plain": [
       "<function __main__.<lambda>(a)>"
      ]
     },
     "execution_count": 10,
     "metadata": {},
     "output_type": "execute_result"
    }
   ],
   "source": [
    "lambda a : a*a"
   ]
  },
  {
   "cell_type": "code",
   "execution_count": 11,
   "id": "9d99c617",
   "metadata": {},
   "outputs": [
    {
     "data": {
      "text/plain": [
       "25"
      ]
     },
     "execution_count": 11,
     "metadata": {},
     "output_type": "execute_result"
    }
   ],
   "source": [
    "sqr =lambda a : a*a\n",
    "sqr(5)"
   ]
  },
  {
   "cell_type": "code",
   "execution_count": 12,
   "id": "0a4f910d",
   "metadata": {},
   "outputs": [
    {
     "data": {
      "text/plain": [
       "343"
      ]
     },
     "execution_count": 12,
     "metadata": {},
     "output_type": "execute_result"
    }
   ],
   "source": [
    "def cub(x):\n",
    "    return x*x*x\n",
    "\n",
    "cub(7)"
   ]
  },
  {
   "cell_type": "code",
   "execution_count": 13,
   "id": "aaace9e0",
   "metadata": {},
   "outputs": [
    {
     "data": {
      "text/plain": [
       "<function __main__.<lambda>(x)>"
      ]
     },
     "execution_count": 13,
     "metadata": {},
     "output_type": "execute_result"
    }
   ],
   "source": [
    "lambda x : x*x*x"
   ]
  },
  {
   "cell_type": "code",
   "execution_count": 14,
   "id": "3c770d22",
   "metadata": {},
   "outputs": [],
   "source": [
    "cub = lambda x : x*x*x"
   ]
  },
  {
   "cell_type": "code",
   "execution_count": 15,
   "id": "e66372e5",
   "metadata": {},
   "outputs": [
    {
     "data": {
      "text/plain": [
       "343"
      ]
     },
     "execution_count": 15,
     "metadata": {},
     "output_type": "execute_result"
    }
   ],
   "source": [
    "cub(7)"
   ]
  },
  {
   "cell_type": "code",
   "execution_count": 16,
   "id": "b1ac7094",
   "metadata": {},
   "outputs": [
    {
     "data": {
      "text/plain": [
       "343"
      ]
     },
     "execution_count": 16,
     "metadata": {},
     "output_type": "execute_result"
    }
   ],
   "source": [
    "# passing the value in the lambda function\n",
    "# withoust using the name for the nameless function\n",
    "\n",
    "(lambda x : x*x*x)(7)"
   ]
  },
  {
   "cell_type": "code",
   "execution_count": 17,
   "id": "74cc31a5",
   "metadata": {},
   "outputs": [
    {
     "name": "stdout",
     "output_type": "stream",
     "text": [
      "25\n"
     ]
    }
   ],
   "source": [
    "print(25)"
   ]
  },
  {
   "cell_type": "code",
   "execution_count": 18,
   "id": "7535b344",
   "metadata": {},
   "outputs": [
    {
     "data": {
      "text/plain": [
       "30"
      ]
     },
     "execution_count": 18,
     "metadata": {},
     "output_type": "execute_result"
    }
   ],
   "source": [
    "(lambda x , y : x+y)(10,20)\n"
   ]
  },
  {
   "cell_type": "code",
   "execution_count": 19,
   "id": "ffa72fe9",
   "metadata": {},
   "outputs": [
    {
     "data": {
      "text/plain": [
       "-10"
      ]
     },
     "execution_count": 19,
     "metadata": {},
     "output_type": "execute_result"
    }
   ],
   "source": [
    "(lambda x , y : x-y)(10,20)\n"
   ]
  },
  {
   "cell_type": "code",
   "execution_count": 20,
   "id": "44febc39",
   "metadata": {},
   "outputs": [
    {
     "data": {
      "text/plain": [
       "200"
      ]
     },
     "execution_count": 20,
     "metadata": {},
     "output_type": "execute_result"
    }
   ],
   "source": [
    "(lambda x , y : x*y)(10,20)\n"
   ]
  },
  {
   "cell_type": "code",
   "execution_count": 21,
   "id": "3f785965",
   "metadata": {},
   "outputs": [
    {
     "data": {
      "text/plain": [
       "0.5"
      ]
     },
     "execution_count": 21,
     "metadata": {},
     "output_type": "execute_result"
    }
   ],
   "source": [
    "(lambda x , y : x/y)(10,20)"
   ]
  },
  {
   "cell_type": "code",
   "execution_count": 22,
   "id": "947e87c1",
   "metadata": {},
   "outputs": [
    {
     "data": {
      "text/plain": [
       "True"
      ]
     },
     "execution_count": 22,
     "metadata": {},
     "output_type": "execute_result"
    }
   ],
   "source": [
    "(lambda x  : x> 0)(10)"
   ]
  },
  {
   "cell_type": "code",
   "execution_count": 23,
   "id": "52647e89",
   "metadata": {},
   "outputs": [
    {
     "data": {
      "text/plain": [
       "False"
      ]
     },
     "execution_count": 23,
     "metadata": {},
     "output_type": "execute_result"
    }
   ],
   "source": [
    "(lambda x  : x> 0)(-10)"
   ]
  },
  {
   "cell_type": "code",
   "execution_count": 24,
   "id": "afc41545",
   "metadata": {},
   "outputs": [
    {
     "data": {
      "text/plain": [
       "False"
      ]
     },
     "execution_count": 24,
     "metadata": {},
     "output_type": "execute_result"
    }
   ],
   "source": [
    "(lambda x  : x%2 == 0)(15)"
   ]
  },
  {
   "cell_type": "code",
   "execution_count": 25,
   "id": "8c8c6ca1",
   "metadata": {},
   "outputs": [
    {
     "data": {
      "text/plain": [
       "True"
      ]
     },
     "execution_count": 25,
     "metadata": {},
     "output_type": "execute_result"
    }
   ],
   "source": [
    "(lambda x  : x%2 == 0)(14)"
   ]
  },
  {
   "cell_type": "code",
   "execution_count": null,
   "id": "2a8f3909",
   "metadata": {},
   "outputs": [],
   "source": []
  }
 ],
 "metadata": {
  "kernelspec": {
   "display_name": "Python 3 (ipykernel)",
   "language": "python",
   "name": "python3"
  },
  "language_info": {
   "codemirror_mode": {
    "name": "ipython",
    "version": 3
   },
   "file_extension": ".py",
   "mimetype": "text/x-python",
   "name": "python",
   "nbconvert_exporter": "python",
   "pygments_lexer": "ipython3",
   "version": "3.10.5"
  }
 },
 "nbformat": 4,
 "nbformat_minor": 5
}
