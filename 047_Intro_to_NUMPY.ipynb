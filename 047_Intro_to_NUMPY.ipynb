{
 "cells": [
  {
   "cell_type": "markdown",
   "id": "8b9b0431",
   "metadata": {},
   "source": [
    "# List VS Numpy"
   ]
  },
  {
   "cell_type": "code",
   "execution_count": 1,
   "id": "94ebf464",
   "metadata": {},
   "outputs": [
    {
     "name": "stdout",
     "output_type": "stream",
     "text": [
      "[1, 2, 3, 4, 5, 6, 7, 8, 9, 10]\n"
     ]
    }
   ],
   "source": [
    "a1 = [1,2,3,4,5,6,7,8,9,10]\n",
    "print(a1)"
   ]
  },
  {
   "cell_type": "code",
   "execution_count": 2,
   "id": "0055151d",
   "metadata": {},
   "outputs": [
    {
     "ename": "TypeError",
     "evalue": "can't multiply sequence by non-int of type 'list'",
     "output_type": "error",
     "traceback": [
      "\u001b[1;31m---------------------------------------------------------------------------\u001b[0m",
      "\u001b[1;31mTypeError\u001b[0m                                 Traceback (most recent call last)",
      "Input \u001b[1;32mIn [2]\u001b[0m, in \u001b[0;36m<cell line: 2>\u001b[1;34m()\u001b[0m\n\u001b[0;32m      1\u001b[0m \u001b[38;5;66;03m# to get the sq of every element in the list\u001b[39;00m\n\u001b[1;32m----> 2\u001b[0m \u001b[43ma1\u001b[49m\u001b[38;5;241;43m*\u001b[39;49m\u001b[43ma1\u001b[49m\n",
      "\u001b[1;31mTypeError\u001b[0m: can't multiply sequence by non-int of type 'list'"
     ]
    }
   ],
   "source": [
    "# to get the sq of every element in the list\n",
    "a1*a1"
   ]
  },
  {
   "cell_type": "code",
   "execution_count": 3,
   "id": "b1682515",
   "metadata": {},
   "outputs": [
    {
     "name": "stdout",
     "output_type": "stream",
     "text": [
      "1\n",
      "4\n",
      "9\n",
      "16\n",
      "25\n",
      "36\n",
      "49\n",
      "64\n",
      "81\n",
      "100\n"
     ]
    }
   ],
   "source": [
    "# using for loop\n",
    "for i in a1:\n",
    "    print(i*i)"
   ]
  },
  {
   "cell_type": "code",
   "execution_count": 4,
   "id": "fcaec7bf",
   "metadata": {},
   "outputs": [
    {
     "data": {
      "text/plain": [
       "[1, 4, 9, 16, 25, 36, 49, 64, 81, 100]"
      ]
     },
     "execution_count": 4,
     "metadata": {},
     "output_type": "execute_result"
    }
   ],
   "source": [
    "# using list comprehension\n",
    "a2 = [i*i for i in a1]\n",
    "a2"
   ]
  },
  {
   "cell_type": "code",
   "execution_count": 5,
   "id": "dc2b78f5",
   "metadata": {},
   "outputs": [],
   "source": [
    "import numpy as np"
   ]
  },
  {
   "cell_type": "code",
   "execution_count": 6,
   "id": "4246b04b",
   "metadata": {},
   "outputs": [
    {
     "name": "stdout",
     "output_type": "stream",
     "text": [
      "[1, 2, 3, 4, 5, 6, 7, 8, 9, 10]\n",
      "<class 'list'>\n",
      "[ 1  2  3  4  5  6  7  8  9 10]\n",
      "<class 'numpy.ndarray'>\n"
     ]
    }
   ],
   "source": [
    "# converting the list into array\n",
    "print(a1)\n",
    "print(type(a1))\n",
    "arr1 = np.array(a1)\n",
    "print(arr1)\n",
    "print(type(arr1)) #ndarray  : n dim array "
   ]
  },
  {
   "cell_type": "code",
   "execution_count": 7,
   "id": "bcce2e4c",
   "metadata": {},
   "outputs": [
    {
     "data": {
      "text/plain": [
       "25"
      ]
     },
     "execution_count": 7,
     "metadata": {},
     "output_type": "execute_result"
    }
   ],
   "source": [
    "5**2"
   ]
  },
  {
   "cell_type": "code",
   "execution_count": 8,
   "id": "b1b836a9",
   "metadata": {},
   "outputs": [
    {
     "data": {
      "text/plain": [
       "125"
      ]
     },
     "execution_count": 8,
     "metadata": {},
     "output_type": "execute_result"
    }
   ],
   "source": [
    "5**3"
   ]
  },
  {
   "cell_type": "code",
   "execution_count": 9,
   "id": "778896d2",
   "metadata": {},
   "outputs": [
    {
     "name": "stdout",
     "output_type": "stream",
     "text": [
      "[  1   4   9  16  25  36  49  64  81 100]\n"
     ]
    }
   ],
   "source": [
    "print(arr1**2)"
   ]
  },
  {
   "cell_type": "code",
   "execution_count": 10,
   "id": "68b92600",
   "metadata": {},
   "outputs": [
    {
     "data": {
      "text/plain": [
       "array([  1,   4,   9,  16,  25,  36,  49,  64,  81, 100])"
      ]
     },
     "execution_count": 10,
     "metadata": {},
     "output_type": "execute_result"
    }
   ],
   "source": [
    "arr1**2"
   ]
  },
  {
   "cell_type": "code",
   "execution_count": 11,
   "id": "89020144",
   "metadata": {},
   "outputs": [],
   "source": [
    "# 1. can perform elementwise operations\n",
    "# 2. faster than list operations"
   ]
  },
  {
   "cell_type": "code",
   "execution_count": 12,
   "id": "b9718fee",
   "metadata": {},
   "outputs": [],
   "source": [
    "a1  = list(range(100000))"
   ]
  },
  {
   "cell_type": "code",
   "execution_count": 13,
   "id": "b08c4978",
   "metadata": {},
   "outputs": [
    {
     "name": "stdout",
     "output_type": "stream",
     "text": [
      "8.37 ms ± 357 µs per loop (mean ± std. dev. of 7 runs, 100 loops each)\n"
     ]
    }
   ],
   "source": [
    "%timeit [i*i for i in a1]"
   ]
  },
  {
   "cell_type": "code",
   "execution_count": 14,
   "id": "09a5613b",
   "metadata": {},
   "outputs": [],
   "source": [
    "# usin NUmpy"
   ]
  },
  {
   "cell_type": "code",
   "execution_count": 15,
   "id": "1810c6ff",
   "metadata": {},
   "outputs": [],
   "source": [
    "arr2  = np.array(a1)"
   ]
  },
  {
   "cell_type": "code",
   "execution_count": 16,
   "id": "e286d166",
   "metadata": {},
   "outputs": [
    {
     "name": "stdout",
     "output_type": "stream",
     "text": [
      "98.8 µs ± 3.57 µs per loop (mean ± std. dev. of 7 runs, 10,000 loops each)\n"
     ]
    }
   ],
   "source": [
    "%timeit (arr2**2)"
   ]
  },
  {
   "cell_type": "code",
   "execution_count": 17,
   "id": "fa09180c",
   "metadata": {},
   "outputs": [],
   "source": [
    "# why faster ? it is  written C language"
   ]
  },
  {
   "cell_type": "code",
   "execution_count": null,
   "id": "9e13e896",
   "metadata": {},
   "outputs": [],
   "source": []
  }
 ],
 "metadata": {
  "kernelspec": {
   "display_name": "Python 3 (ipykernel)",
   "language": "python",
   "name": "python3"
  },
  "language_info": {
   "codemirror_mode": {
    "name": "ipython",
    "version": 3
   },
   "file_extension": ".py",
   "mimetype": "text/x-python",
   "name": "python",
   "nbconvert_exporter": "python",
   "pygments_lexer": "ipython3",
   "version": "3.10.5"
  }
 },
 "nbformat": 4,
 "nbformat_minor": 5
}
